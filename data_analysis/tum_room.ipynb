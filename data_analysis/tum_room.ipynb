{
 "cells": [
  {
   "cell_type": "code",
   "execution_count": 11,
   "metadata": {},
   "outputs": [
    {
     "name": "stdout",
     "output_type": "stream",
     "text": [
      "The autoreload extension is already loaded. To reload it, use:\n",
      "  %reload_ext autoreload\n"
     ]
    }
   ],
   "source": [
    "%matplotlib inline\n",
    "%load_ext autoreload\n",
    "%autoreload 2\n",
    "from local_plot import *\n",
    "from utils import *\n"
   ]
  },
  {
   "cell_type": "code",
   "execution_count": 12,
   "metadata": {},
   "outputs": [],
   "source": [
    "import numpy as np\n",
    "from scipy.interpolate import interp1d\n",
    "\n",
    "class Trajectory:\n",
    "    def __init__(self, t, pos, quat):\n",
    "        self.t = t\n",
    "        self.pos = pos\n",
    "        self.quat = quat\n",
    "        self.ypr = numpy.apply_along_axis(quat2eulers_arr, 1, quat)\n",
    "        self.interp()\n",
    "\n",
    "    def interp(self):\n",
    "        self.pos_func = interp1d(self.t, self.pos, axis=0,bounds_error=False,fill_value=\"extrapolate\")\n",
    "        self.ypr_func = interp1d(self.t, self.ypr, axis=0,bounds_error=False,fill_value=\"extrapolate\")\n",
    "    \n",
    "    def length(self):\n",
    "        dp = np.diff(self.pos, axis=0)\n",
    "        length = np.sum(np.linalg.norm(dp,axis=1))\n",
    "        return length\n",
    "    \n",
    "    def resample_ypr(self, t):\n",
    "        return self.ypr_func(t)\n",
    "    \n",
    "    def resample_pos(self, t):\n",
    "        return self.pos_func(t)\n",
    "\n",
    "def read_path_from_csv(path, t0=None):\n",
    "    arr = np.loadtxt(path)\n",
    "    t = arr[:, 0]\n",
    "    if t0 is None:\n",
    "        t0 = t[0]\n",
    "    t = t - t0\n",
    "    pos = arr[:, 1:4]\n",
    "    quat = arr[:, 4:]\n",
    "    return Trajectory(t, pos, quat), t0\n",
    "\n",
    "def read_paths(folder, nodes, prefix=\"d2vins\", t0=None):\n",
    "    ret = {}\n",
    "    for drone_id in nodes:\n",
    "        ret[drone_id], t0 = read_path_from_csv(f\"{folder}/{prefix}_{drone_id}.csv\", t0)\n",
    "    return ret, t0\n"
   ]
  },
  {
   "cell_type": "code",
   "execution_count": 13,
   "metadata": {},
   "outputs": [
    {
     "data": {
      "text/html": [
       "<table>\n",
       "<tbody>\n",
       "<tr><td>Drone</td><td>Traj. Len</td><td>ATE Pos</td><td>ATE Att</td><td>Cov/m: x</td><td>y      </td><td>z      </td><td>PGO:ATE Pos</td><td>ATE Att</td></tr>\n",
       "<tr><td>1by1 </td><td>146.2m   </td><td>0.143  </td><td>4.262  </td><td>1.1e-04 </td><td>1.2e-04</td><td>6.6e-05</td><td>nan        </td><td>nan°   </td></tr>\n",
       "<tr><td>2by1 </td><td>141.2m   </td><td>0.124  </td><td>2.410  </td><td>7.4e-05 </td><td>1.2e-04</td><td>4.5e-05</td><td>nan        </td><td>nan°   </td></tr>\n",
       "</tbody>\n",
       "</table>"
      ],
      "text/plain": [
       "'<table>\\n<tbody>\\n<tr><td>Drone</td><td>Traj. Len</td><td>ATE Pos</td><td>ATE Att</td><td>Cov/m: x</td><td>y      </td><td>z      </td><td>PGO:ATE Pos</td><td>ATE Att</td></tr>\\n<tr><td>1by1 </td><td>146.2m   </td><td>0.143  </td><td>4.262  </td><td>1.1e-04 </td><td>1.2e-04</td><td>6.6e-05</td><td>nan        </td><td>nan°   </td></tr>\\n<tr><td>2by1 </td><td>141.2m   </td><td>0.124  </td><td>2.410  </td><td>7.4e-05 </td><td>1.2e-04</td><td>4.5e-05</td><td>nan        </td><td>nan°   </td></tr>\\n</tbody>\\n</table>'"
      ]
     },
     "metadata": {},
     "output_type": "display_data"
    },
    {
     "data": {
      "text/html": [
       "<table>\n",
       "<tbody>\n",
       "<tr><td>Relative</td><td>EST RMSE: Pos    </td><td>Ang  </td><td>BIAS: Pos           </td><td>Ang   </td></tr>\n",
       "<tr><td>1-&gt;2    </td><td>0.080,0.072,0.060</td><td>4.36°</td><td>-0.010,-0.004,-0.049</td><td>+0.82°</td></tr>\n",
       "</tbody>\n",
       "</table>"
      ],
      "text/plain": [
       "'<table>\\n<tbody>\\n<tr><td>Relative</td><td>EST RMSE: Pos    </td><td>Ang  </td><td>BIAS: Pos           </td><td>Ang   </td></tr>\\n<tr><td>1-&gt;2    </td><td>0.080,0.072,0.060</td><td>4.36°</td><td>-0.010,-0.004,-0.049</td><td>+0.82°</td></tr>\\n</tbody>\\n</table>'"
      ]
     },
     "execution_count": 13,
     "metadata": {},
     "output_type": "execute_result"
    }
   ],
   "source": [
    "nodes = {1, 2}\n",
    "output_folder = \"/home/xuhao/data/tum_datasets/outputs/d2vins/swarm1\"\n",
    "data_folder=\"/home/xuhao/data/tum_datasets/\"\n",
    "paths_gt, t0 = read_paths(data_folder, nodes, prefix=\"groundtruth\")\n",
    "paths, _ = read_paths(output_folder, nodes, t0=t0)\n",
    "# plot_fused(nodes, paths, poses_gt=paths_gt)\n",
    "display(plot_fused_err(nodes, paths, paths_gt,dte=140, show=False, outlier_thres_yaw=0.1))\n",
    "plot_relative_pose_err(1, [2], paths, paths_gt,dte=140, show=False, outlier_thres=0.2, outlier_yaw_thres=0.1)"
   ]
  },
  {
   "cell_type": "code",
   "execution_count": null,
   "metadata": {},
   "outputs": [],
   "source": []
  }
 ],
 "metadata": {
  "interpreter": {
   "hash": "e7370f93d1d0cde622a1f8e1c04877d8463912d04d973331ad4851f04de6915a"
  },
  "kernelspec": {
   "display_name": "Python 3.8.10 64-bit",
   "language": "python",
   "name": "python3"
  },
  "language_info": {
   "codemirror_mode": {
    "name": "ipython",
    "version": 3
   },
   "file_extension": ".py",
   "mimetype": "text/x-python",
   "name": "python",
   "nbconvert_exporter": "python",
   "pygments_lexer": "ipython3",
   "version": "3.8.10"
  },
  "orig_nbformat": 4
 },
 "nbformat": 4,
 "nbformat_minor": 2
}
