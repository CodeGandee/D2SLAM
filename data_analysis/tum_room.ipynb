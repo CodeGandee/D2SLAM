{
 "cells": [
  {
   "cell_type": "code",
   "execution_count": 1,
   "metadata": {},
   "outputs": [],
   "source": [
    "%matplotlib inline\n",
    "%load_ext autoreload\n",
    "%autoreload 2\n",
    "from local_plot import *\n",
    "from utils import *\n"
   ]
  },
  {
   "cell_type": "code",
   "execution_count": 18,
   "metadata": {},
   "outputs": [
    {
     "data": {
      "text/html": [
       "<table>\n",
       "<tbody>\n",
       "<tr><td>Drone</td><td>Traj. Len.</td><td>ATE Pos</td><td>ATE Att</td><td>Cov/m: x</td><td>y      </td><td>z      </td><td>PGO:ATE Pos</td><td>ATE Att</td></tr>\n",
       "<tr><td>1by1 </td><td>137.7m    </td><td>0.094  </td><td>1.806  </td><td>3.4e-04 </td><td>3.6e-04</td><td>1.3e-04</td><td>nan        </td><td>nan°   </td></tr>\n",
       "<tr><td>2by1 </td><td>129.9m    </td><td>0.115  </td><td>1.851  </td><td>3.2e-04 </td><td>5.1e-04</td><td>6.4e-05</td><td>nan        </td><td>nan°   </td></tr>\n",
       "<tr><td>3by1 </td><td>134.4m    </td><td>0.146  </td><td>3.290  </td><td>5.7e-04 </td><td>6.2e-04</td><td>1.3e-04</td><td>nan        </td><td>nan°   </td></tr>\n",
       "<tr><td>Avg. </td><td>134.0     </td><td>0.118  </td><td>2.32   </td><td>        </td><td>       </td><td>       </td><td>           </td><td>       </td></tr>\n",
       "</tbody>\n",
       "</table>"
      ],
      "text/plain": [
       "'<table>\\n<tbody>\\n<tr><td>Drone</td><td>Traj. Len.</td><td>ATE Pos</td><td>ATE Att</td><td>Cov/m: x</td><td>y      </td><td>z      </td><td>PGO:ATE Pos</td><td>ATE Att</td></tr>\\n<tr><td>1by1 </td><td>137.7m    </td><td>0.094  </td><td>1.806  </td><td>3.4e-04 </td><td>3.6e-04</td><td>1.3e-04</td><td>nan        </td><td>nan°   </td></tr>\\n<tr><td>2by1 </td><td>129.9m    </td><td>0.115  </td><td>1.851  </td><td>3.2e-04 </td><td>5.1e-04</td><td>6.4e-05</td><td>nan        </td><td>nan°   </td></tr>\\n<tr><td>3by1 </td><td>134.4m    </td><td>0.146  </td><td>3.290  </td><td>5.7e-04 </td><td>6.2e-04</td><td>1.3e-04</td><td>nan        </td><td>nan°   </td></tr>\\n<tr><td>Avg. </td><td>134.0     </td><td>0.118  </td><td>2.32   </td><td>        </td><td>       </td><td>       </td><td>           </td><td>       </td></tr>\\n</tbody>\\n</table>'"
      ]
     },
     "metadata": {},
     "output_type": "display_data"
    },
    {
     "data": {
      "text/html": [
       "<table>\n",
       "<tbody>\n",
       "<tr><td>Relative</td><td>EST RMSE: Pos (XYZ)</td><td>POS  </td><td>Ang  </td><td>BIAS: Pos           </td><td>Ang   </td></tr>\n",
       "<tr><td>1-&gt;2    </td><td>0.090,0.073,0.041  </td><td>0.122</td><td>3.04°</td><td>-0.023,+0.014,-0.022</td><td>-1.87°</td></tr>\n",
       "<tr><td>1-&gt;3    </td><td>0.073,0.080,0.025  </td><td>0.112</td><td>2.77°</td><td>-0.029,-0.032,-0.007</td><td>+0.28°</td></tr>\n",
       "<tr><td>Avg:    </td><td>                   </td><td>0.117</td><td>2.91°</td><td>                    </td><td>      </td></tr>\n",
       "</tbody>\n",
       "</table>"
      ],
      "text/plain": [
       "'<table>\\n<tbody>\\n<tr><td>Relative</td><td>EST RMSE: Pos (XYZ)</td><td>POS  </td><td>Ang  </td><td>BIAS: Pos           </td><td>Ang   </td></tr>\\n<tr><td>1-&gt;2    </td><td>0.090,0.073,0.041  </td><td>0.122</td><td>3.04°</td><td>-0.023,+0.014,-0.022</td><td>-1.87°</td></tr>\\n<tr><td>1-&gt;3    </td><td>0.073,0.080,0.025  </td><td>0.112</td><td>2.77°</td><td>-0.029,-0.032,-0.007</td><td>+0.28°</td></tr>\\n<tr><td>Avg:    </td><td>                   </td><td>0.117</td><td>2.91°</td><td>                    </td><td>      </td></tr>\\n</tbody>\\n</table>'"
      ]
     },
     "metadata": {},
     "output_type": "display_data"
    },
    {
     "name": "stdout",
     "output_type": "stream",
     "text": [
      "VINS-Mono\n"
     ]
    },
    {
     "data": {
      "text/html": [
       "<table>\n",
       "<tbody>\n",
       "<tr><td>Drone</td><td>Traj. Len.</td><td>ATE Pos</td><td>ATE Att</td><td>Cov/m: x</td><td>y      </td><td>z      </td><td>PGO:ATE Pos</td><td>ATE Att</td></tr>\n",
       "<tr><td>1by1 </td><td>138.0m    </td><td>0.091  </td><td>1.658  </td><td>9.7e-05 </td><td>9.3e-05</td><td>3.4e-05</td><td>nan        </td><td>nan°   </td></tr>\n",
       "<tr><td>2by1 </td><td>129.8m    </td><td>0.089  </td><td>1.053  </td><td>8.1e-05 </td><td>8.6e-05</td><td>1.8e-05</td><td>nan        </td><td>nan°   </td></tr>\n",
       "<tr><td>3by1 </td><td>133.1m    </td><td>0.328  </td><td>5.601  </td><td>7.3e-04 </td><td>3.3e-03</td><td>3.7e-05</td><td>nan        </td><td>nan°   </td></tr>\n",
       "<tr><td>Avg. </td><td>133.6     </td><td>0.169  </td><td>2.77   </td><td>        </td><td>       </td><td>       </td><td>           </td><td>       </td></tr>\n",
       "</tbody>\n",
       "</table>"
      ],
      "text/plain": [
       "'<table>\\n<tbody>\\n<tr><td>Drone</td><td>Traj. Len.</td><td>ATE Pos</td><td>ATE Att</td><td>Cov/m: x</td><td>y      </td><td>z      </td><td>PGO:ATE Pos</td><td>ATE Att</td></tr>\\n<tr><td>1by1 </td><td>138.0m    </td><td>0.091  </td><td>1.658  </td><td>9.7e-05 </td><td>9.3e-05</td><td>3.4e-05</td><td>nan        </td><td>nan°   </td></tr>\\n<tr><td>2by1 </td><td>129.8m    </td><td>0.089  </td><td>1.053  </td><td>8.1e-05 </td><td>8.6e-05</td><td>1.8e-05</td><td>nan        </td><td>nan°   </td></tr>\\n<tr><td>3by1 </td><td>133.1m    </td><td>0.328  </td><td>5.601  </td><td>7.3e-04 </td><td>3.3e-03</td><td>3.7e-05</td><td>nan        </td><td>nan°   </td></tr>\\n<tr><td>Avg. </td><td>133.6     </td><td>0.169  </td><td>2.77   </td><td>        </td><td>       </td><td>       </td><td>           </td><td>       </td></tr>\\n</tbody>\\n</table>'"
      ]
     },
     "metadata": {},
     "output_type": "display_data"
    },
    {
     "data": {
      "text/html": [
       "<table>\n",
       "<tbody>\n",
       "<tr><td>Relative</td><td>EST RMSE: Pos (XYZ)</td><td>POS  </td><td>Ang  </td><td>BIAS: Pos           </td><td>Ang   </td></tr>\n",
       "<tr><td>1-&gt;2    </td><td>0.059,0.062,0.048  </td><td>0.098</td><td>1.67°</td><td>-0.007,+0.018,-0.036</td><td>-0.72°</td></tr>\n",
       "<tr><td>1-&gt;3    </td><td>0.216,0.216,0.035  </td><td>0.308</td><td>5.38°</td><td>0.055,-0.089,-0.029 </td><td>+3.66°</td></tr>\n",
       "<tr><td>Avg:    </td><td>                   </td><td>0.203</td><td>3.53°</td><td>                    </td><td>      </td></tr>\n",
       "</tbody>\n",
       "</table>"
      ],
      "text/plain": [
       "'<table>\\n<tbody>\\n<tr><td>Relative</td><td>EST RMSE: Pos (XYZ)</td><td>POS  </td><td>Ang  </td><td>BIAS: Pos           </td><td>Ang   </td></tr>\\n<tr><td>1-&gt;2    </td><td>0.059,0.062,0.048  </td><td>0.098</td><td>1.67°</td><td>-0.007,+0.018,-0.036</td><td>-0.72°</td></tr>\\n<tr><td>1-&gt;3    </td><td>0.216,0.216,0.035  </td><td>0.308</td><td>5.38°</td><td>0.055,-0.089,-0.029 </td><td>+3.66°</td></tr>\\n<tr><td>Avg:    </td><td>                   </td><td>0.203</td><td>3.53°</td><td>                    </td><td>      </td></tr>\\n</tbody>\\n</table>'"
      ]
     },
     "metadata": {},
     "output_type": "display_data"
    }
   ],
   "source": [
    "nodes = [1, 2, 3]\n",
    "output_folder = \"/home/xuhao/data/d2slam/tum_datasets/outputs/d2vins-3/swarm1\"\n",
    "data_folder=\"/home/xuhao/data/d2slam/tum_datasets/\"\n",
    "dte = 140\n",
    "paths_gt, t0 = read_paths(data_folder, nodes, prefix=\"groundtruth\")\n",
    "paths_vo, t0 = read_paths(data_folder, nodes, prefix=\"vins-mono\", t0=t0)\n",
    "paths, _ = read_paths(output_folder, nodes, t0=t0)\n",
    "align_paths(paths_vo, paths_gt)\n",
    "display(plot_fused_err(nodes, paths, paths_gt, dte=dte, show=False))\n",
    "display(plot_relative_pose_err(1, nodes[1:], paths, paths_gt, dte=dte, show=False))\n",
    "# plot_fused(nodes, paths, poses_gt=paths_gt, figsize=(10,10))\n",
    "\n",
    "print(\"VINS-Mono\")\n",
    "display(plot_fused_err(nodes, paths_vo, paths_gt, dte=dte, show=False))\n",
    "display(plot_relative_pose_err(1, nodes[1:], paths_vo, paths_gt, dte=dte, show=False))\n",
    "# plot_fused(nodes, paths_vo, poses_gt=paths_gt, figsize=(10,10))\n"
   ]
  },
  {
   "cell_type": "code",
   "execution_count": 17,
   "metadata": {},
   "outputs": [
    {
     "data": {
      "text/html": [
       "<table>\n",
       "<tbody>\n",
       "<tr><td>Drone</td><td>Traj. Len.</td><td>ATE Pos</td><td>ATE Att</td><td>Cov/m: x</td><td>y      </td><td>z      </td><td>PGO:ATE Pos</td><td>ATE Att</td></tr>\n",
       "<tr><td>1by1 </td><td>114.1m    </td><td>0.098  </td><td>2.046  </td><td>2.9e-04 </td><td>2.5e-04</td><td>1.8e-04</td><td>nan        </td><td>nan°   </td></tr>\n",
       "<tr><td>2by1 </td><td>108.4m    </td><td>0.146  </td><td>3.497  </td><td>4.7e-04 </td><td>2.5e-04</td><td>4.4e-04</td><td>nan        </td><td>nan°   </td></tr>\n",
       "<tr><td>3by1 </td><td>113.3m    </td><td>0.119  </td><td>2.576  </td><td>4.2e-04 </td><td>3.3e-04</td><td>1.0e-04</td><td>nan        </td><td>nan°   </td></tr>\n",
       "<tr><td>4by1 </td><td>67.7m     </td><td>0.096  </td><td>1.623  </td><td>2.7e-04 </td><td>5.5e-04</td><td>3.5e-04</td><td>nan        </td><td>nan°   </td></tr>\n",
       "<tr><td>Avg. </td><td>100.9     </td><td>0.115  </td><td>2.44   </td><td>        </td><td>       </td><td>       </td><td>           </td><td>       </td></tr>\n",
       "</tbody>\n",
       "</table>"
      ],
      "text/plain": [
       "'<table>\\n<tbody>\\n<tr><td>Drone</td><td>Traj. Len.</td><td>ATE Pos</td><td>ATE Att</td><td>Cov/m: x</td><td>y      </td><td>z      </td><td>PGO:ATE Pos</td><td>ATE Att</td></tr>\\n<tr><td>1by1 </td><td>114.1m    </td><td>0.098  </td><td>2.046  </td><td>2.9e-04 </td><td>2.5e-04</td><td>1.8e-04</td><td>nan        </td><td>nan°   </td></tr>\\n<tr><td>2by1 </td><td>108.4m    </td><td>0.146  </td><td>3.497  </td><td>4.7e-04 </td><td>2.5e-04</td><td>4.4e-04</td><td>nan        </td><td>nan°   </td></tr>\\n<tr><td>3by1 </td><td>113.3m    </td><td>0.119  </td><td>2.576  </td><td>4.2e-04 </td><td>3.3e-04</td><td>1.0e-04</td><td>nan        </td><td>nan°   </td></tr>\\n<tr><td>4by1 </td><td>67.7m     </td><td>0.096  </td><td>1.623  </td><td>2.7e-04 </td><td>5.5e-04</td><td>3.5e-04</td><td>nan        </td><td>nan°   </td></tr>\\n<tr><td>Avg. </td><td>100.9     </td><td>0.115  </td><td>2.44   </td><td>        </td><td>       </td><td>       </td><td>           </td><td>       </td></tr>\\n</tbody>\\n</table>'"
      ]
     },
     "metadata": {},
     "output_type": "display_data"
    },
    {
     "data": {
      "text/html": [
       "<table>\n",
       "<tbody>\n",
       "<tr><td>Relative</td><td>EST RMSE: Pos (XYZ)</td><td>POS  </td><td>Ang  </td><td>BIAS: Pos           </td><td>Ang   </td></tr>\n",
       "<tr><td>1-&gt;2    </td><td>0.051,0.045,0.067  </td><td>0.096</td><td>2.06°</td><td>-0.005,+0.008,-0.041</td><td>-0.08°</td></tr>\n",
       "<tr><td>1-&gt;3    </td><td>0.067,0.050,0.026  </td><td>0.088</td><td>1.96°</td><td>-0.027,-0.001,-0.000</td><td>+0.13°</td></tr>\n",
       "<tr><td>1-&gt;4    </td><td>0.027,0.029,0.038  </td><td>0.055</td><td>1.15°</td><td>-0.009,+0.009,-0.016</td><td>+0.16°</td></tr>\n",
       "<tr><td>Avg:    </td><td>                   </td><td>0.080</td><td>1.72°</td><td>                    </td><td>      </td></tr>\n",
       "</tbody>\n",
       "</table>"
      ],
      "text/plain": [
       "'<table>\\n<tbody>\\n<tr><td>Relative</td><td>EST RMSE: Pos (XYZ)</td><td>POS  </td><td>Ang  </td><td>BIAS: Pos           </td><td>Ang   </td></tr>\\n<tr><td>1-&gt;2    </td><td>0.051,0.045,0.067  </td><td>0.096</td><td>2.06°</td><td>-0.005,+0.008,-0.041</td><td>-0.08°</td></tr>\\n<tr><td>1-&gt;3    </td><td>0.067,0.050,0.026  </td><td>0.088</td><td>1.96°</td><td>-0.027,-0.001,-0.000</td><td>+0.13°</td></tr>\\n<tr><td>1-&gt;4    </td><td>0.027,0.029,0.038  </td><td>0.055</td><td>1.15°</td><td>-0.009,+0.009,-0.016</td><td>+0.16°</td></tr>\\n<tr><td>Avg:    </td><td>                   </td><td>0.080</td><td>1.72°</td><td>                    </td><td>      </td></tr>\\n</tbody>\\n</table>'"
      ]
     },
     "metadata": {},
     "output_type": "display_data"
    },
    {
     "name": "stdout",
     "output_type": "stream",
     "text": [
      "VINS-Mono\n"
     ]
    },
    {
     "data": {
      "text/html": [
       "<table>\n",
       "<tbody>\n",
       "<tr><td>Drone</td><td>Traj. Len.</td><td>ATE Pos</td><td>ATE Att</td><td>Cov/m: x</td><td>y      </td><td>z      </td><td>PGO:ATE Pos</td><td>ATE Att</td></tr>\n",
       "<tr><td>1by1 </td><td>114.8m    </td><td>0.086  </td><td>1.625  </td><td>9.4e-05 </td><td>8.8e-05</td><td>3.7e-05</td><td>nan        </td><td>nan°   </td></tr>\n",
       "<tr><td>2by1 </td><td>108.1m    </td><td>0.082  </td><td>1.103  </td><td>8.7e-05 </td><td>9.3e-05</td><td>1.9e-05</td><td>nan        </td><td>nan°   </td></tr>\n",
       "<tr><td>3by1 </td><td>112.2m    </td><td>0.322  </td><td>5.454  </td><td>3.9e-04 </td><td>1.9e-03</td><td>2.3e-05</td><td>nan        </td><td>nan°   </td></tr>\n",
       "<tr><td>4by1 </td><td>67.4m     </td><td>0.154  </td><td>3.023  </td><td>6.3e-04 </td><td>7.2e-04</td><td>1.0e-04</td><td>nan        </td><td>nan°   </td></tr>\n",
       "<tr><td>Avg. </td><td>100.6     </td><td>0.161  </td><td>2.80   </td><td>        </td><td>       </td><td>       </td><td>           </td><td>       </td></tr>\n",
       "</tbody>\n",
       "</table>"
      ],
      "text/plain": [
       "'<table>\\n<tbody>\\n<tr><td>Drone</td><td>Traj. Len.</td><td>ATE Pos</td><td>ATE Att</td><td>Cov/m: x</td><td>y      </td><td>z      </td><td>PGO:ATE Pos</td><td>ATE Att</td></tr>\\n<tr><td>1by1 </td><td>114.8m    </td><td>0.086  </td><td>1.625  </td><td>9.4e-05 </td><td>8.8e-05</td><td>3.7e-05</td><td>nan        </td><td>nan°   </td></tr>\\n<tr><td>2by1 </td><td>108.1m    </td><td>0.082  </td><td>1.103  </td><td>8.7e-05 </td><td>9.3e-05</td><td>1.9e-05</td><td>nan        </td><td>nan°   </td></tr>\\n<tr><td>3by1 </td><td>112.2m    </td><td>0.322  </td><td>5.454  </td><td>3.9e-04 </td><td>1.9e-03</td><td>2.3e-05</td><td>nan        </td><td>nan°   </td></tr>\\n<tr><td>4by1 </td><td>67.4m     </td><td>0.154  </td><td>3.023  </td><td>6.3e-04 </td><td>7.2e-04</td><td>1.0e-04</td><td>nan        </td><td>nan°   </td></tr>\\n<tr><td>Avg. </td><td>100.6     </td><td>0.161  </td><td>2.80   </td><td>        </td><td>       </td><td>       </td><td>           </td><td>       </td></tr>\\n</tbody>\\n</table>'"
      ]
     },
     "metadata": {},
     "output_type": "display_data"
    },
    {
     "data": {
      "text/html": [
       "<table>\n",
       "<tbody>\n",
       "<tr><td>Relative</td><td>EST RMSE: Pos (XYZ)</td><td>POS  </td><td>Ang  </td><td>BIAS: Pos           </td><td>Ang   </td></tr>\n",
       "<tr><td>1-&gt;2    </td><td>0.063,0.066,0.040  </td><td>0.099</td><td>1.74°</td><td>-0.008,+0.023,-0.027</td><td>-0.89°</td></tr>\n",
       "<tr><td>1-&gt;3    </td><td>0.210,0.214,0.036  </td><td>0.302</td><td>4.74°</td><td>0.046,-0.090,-0.032 </td><td>+3.75°</td></tr>\n",
       "<tr><td>1-&gt;4    </td><td>0.054,0.065,0.040  </td><td>0.094</td><td>1.12°</td><td>-0.003,-0.027,+0.037</td><td>-0.28°</td></tr>\n",
       "<tr><td>Avg:    </td><td>                   </td><td>0.165</td><td>2.53°</td><td>                    </td><td>      </td></tr>\n",
       "</tbody>\n",
       "</table>"
      ],
      "text/plain": [
       "'<table>\\n<tbody>\\n<tr><td>Relative</td><td>EST RMSE: Pos (XYZ)</td><td>POS  </td><td>Ang  </td><td>BIAS: Pos           </td><td>Ang   </td></tr>\\n<tr><td>1-&gt;2    </td><td>0.063,0.066,0.040  </td><td>0.099</td><td>1.74°</td><td>-0.008,+0.023,-0.027</td><td>-0.89°</td></tr>\\n<tr><td>1-&gt;3    </td><td>0.210,0.214,0.036  </td><td>0.302</td><td>4.74°</td><td>0.046,-0.090,-0.032 </td><td>+3.75°</td></tr>\\n<tr><td>1-&gt;4    </td><td>0.054,0.065,0.040  </td><td>0.094</td><td>1.12°</td><td>-0.003,-0.027,+0.037</td><td>-0.28°</td></tr>\\n<tr><td>Avg:    </td><td>                   </td><td>0.165</td><td>2.53°</td><td>                    </td><td>      </td></tr>\\n</tbody>\\n</table>'"
      ]
     },
     "metadata": {},
     "output_type": "display_data"
    }
   ],
   "source": [
    "nodes = [1, 2, 3, 4]\n",
    "output_folder = \"/home/xuhao/data/d2slam/tum_datasets/outputs/d2vins-4/swarm1\"\n",
    "data_folder=\"/home/xuhao/data/d2slam/tum_datasets/\"\n",
    "dte = 110\n",
    "paths_gt, t0 = read_paths(data_folder, nodes, prefix=\"groundtruth\")\n",
    "paths_vo, t0 = read_paths(data_folder, nodes, prefix=\"vins-mono\", t0=t0)\n",
    "paths, _ = read_paths(output_folder, nodes, t0=t0)\n",
    "align_paths(paths_vo, paths_gt)\n",
    "display(plot_fused_err(nodes, paths, paths_gt, dte=dte, show=False))\n",
    "display(plot_relative_pose_err(1, nodes[1:], paths, paths_gt, dte=dte, show=False))\n",
    "# plot_fused(nodes, paths, poses_gt=paths_gt, figsize=(10,10))\n",
    "\n",
    "print(\"VINS-Mono\")\n",
    "display(plot_fused_err(nodes, paths_vo, paths_gt, dte=dte, show=False))\n",
    "display(plot_relative_pose_err(1, nodes[1:], paths_vo, paths_gt, dte=dte, show=False))\n",
    "# plot_fused(nodes, paths_vo, poses_gt=paths_gt, figsize=(10,10))\n"
   ]
  },
  {
   "cell_type": "code",
   "execution_count": 12,
   "metadata": {},
   "outputs": [
    {
     "data": {
      "text/html": [
       "<table>\n",
       "<tbody>\n",
       "<tr><td>Drone</td><td>Traj. Len.</td><td>ATE Pos</td><td>ATE Att</td><td>Cov/m: x</td><td>y      </td><td>z      </td><td>PGO:ATE Pos</td><td>ATE Att</td></tr>\n",
       "<tr><td>1by1 </td><td>114.4m    </td><td>0.091  </td><td>1.600  </td><td>2.8e-04 </td><td>2.7e-04</td><td>2.7e-04</td><td>nan        </td><td>nan°   </td></tr>\n",
       "<tr><td>2by1 </td><td>110.2m    </td><td>0.121  </td><td>1.693  </td><td>1.0e-03 </td><td>2.1e-04</td><td>3.9e-04</td><td>nan        </td><td>nan°   </td></tr>\n",
       "<tr><td>3by1 </td><td>115.9m    </td><td>0.131  </td><td>2.391  </td><td>9.8e-04 </td><td>1.3e-03</td><td>2.6e-04</td><td>nan        </td><td>nan°   </td></tr>\n",
       "<tr><td>4by1 </td><td>69.5m     </td><td>0.110  </td><td>2.060  </td><td>3.6e-04 </td><td>2.6e-04</td><td>2.8e-04</td><td>nan        </td><td>nan°   </td></tr>\n",
       "<tr><td>5by1 </td><td>107.8m    </td><td>0.125  </td><td>1.622  </td><td>2.0e-03 </td><td>1.2e-03</td><td>1.8e-03</td><td>nan        </td><td>nan°   </td></tr>\n",
       "<tr><td>Avg. </td><td>103.5     </td><td>0.116  </td><td>1.87   </td><td>        </td><td>       </td><td>       </td><td>           </td><td>       </td></tr>\n",
       "</tbody>\n",
       "</table>"
      ],
      "text/plain": [
       "'<table>\\n<tbody>\\n<tr><td>Drone</td><td>Traj. Len.</td><td>ATE Pos</td><td>ATE Att</td><td>Cov/m: x</td><td>y      </td><td>z      </td><td>PGO:ATE Pos</td><td>ATE Att</td></tr>\\n<tr><td>1by1 </td><td>114.4m    </td><td>0.091  </td><td>1.600  </td><td>2.8e-04 </td><td>2.7e-04</td><td>2.7e-04</td><td>nan        </td><td>nan°   </td></tr>\\n<tr><td>2by1 </td><td>110.2m    </td><td>0.121  </td><td>1.693  </td><td>1.0e-03 </td><td>2.1e-04</td><td>3.9e-04</td><td>nan        </td><td>nan°   </td></tr>\\n<tr><td>3by1 </td><td>115.9m    </td><td>0.131  </td><td>2.391  </td><td>9.8e-04 </td><td>1.3e-03</td><td>2.6e-04</td><td>nan        </td><td>nan°   </td></tr>\\n<tr><td>4by1 </td><td>69.5m     </td><td>0.110  </td><td>2.060  </td><td>3.6e-04 </td><td>2.6e-04</td><td>2.8e-04</td><td>nan        </td><td>nan°   </td></tr>\\n<tr><td>5by1 </td><td>107.8m    </td><td>0.125  </td><td>1.622  </td><td>2.0e-03 </td><td>1.2e-03</td><td>1.8e-03</td><td>nan        </td><td>nan°   </td></tr>\\n<tr><td>Avg. </td><td>103.5     </td><td>0.116  </td><td>1.87   </td><td>        </td><td>       </td><td>       </td><td>           </td><td>       </td></tr>\\n</tbody>\\n</table>'"
      ]
     },
     "metadata": {},
     "output_type": "display_data"
    },
    {
     "data": {
      "text/html": [
       "<table>\n",
       "<tbody>\n",
       "<tr><td>Relative</td><td>EST RMSE: Pos (XYZ)</td><td>POS  </td><td>Ang  </td><td>BIAS: Pos           </td><td>Ang   </td></tr>\n",
       "<tr><td>1-&gt;2    </td><td>0.060,0.051,0.079  </td><td>0.111</td><td>2.04°</td><td>-0.009,+0.005,-0.049</td><td>-0.81°</td></tr>\n",
       "<tr><td>1-&gt;3    </td><td>0.067,0.054,0.037  </td><td>0.093</td><td>1.58°</td><td>-0.006,-0.009,-0.021</td><td>-0.15°</td></tr>\n",
       "<tr><td>1-&gt;4    </td><td>0.024,0.023,0.031  </td><td>0.045</td><td>1.10°</td><td>-0.004,+0.007,-0.008</td><td>+0.09°</td></tr>\n",
       "<tr><td>1-&gt;5    </td><td>0.049,0.052,0.028  </td><td>0.077</td><td>1.09°</td><td>0.007,+0.008,+0.006 </td><td>+0.13°</td></tr>\n",
       "<tr><td>Avg:    </td><td>                   </td><td>0.082</td><td>1.45°</td><td>                    </td><td>      </td></tr>\n",
       "</tbody>\n",
       "</table>"
      ],
      "text/plain": [
       "'<table>\\n<tbody>\\n<tr><td>Relative</td><td>EST RMSE: Pos (XYZ)</td><td>POS  </td><td>Ang  </td><td>BIAS: Pos           </td><td>Ang   </td></tr>\\n<tr><td>1-&gt;2    </td><td>0.060,0.051,0.079  </td><td>0.111</td><td>2.04°</td><td>-0.009,+0.005,-0.049</td><td>-0.81°</td></tr>\\n<tr><td>1-&gt;3    </td><td>0.067,0.054,0.037  </td><td>0.093</td><td>1.58°</td><td>-0.006,-0.009,-0.021</td><td>-0.15°</td></tr>\\n<tr><td>1-&gt;4    </td><td>0.024,0.023,0.031  </td><td>0.045</td><td>1.10°</td><td>-0.004,+0.007,-0.008</td><td>+0.09°</td></tr>\\n<tr><td>1-&gt;5    </td><td>0.049,0.052,0.028  </td><td>0.077</td><td>1.09°</td><td>0.007,+0.008,+0.006 </td><td>+0.13°</td></tr>\\n<tr><td>Avg:    </td><td>                   </td><td>0.082</td><td>1.45°</td><td>                    </td><td>      </td></tr>\\n</tbody>\\n</table>'"
      ]
     },
     "metadata": {},
     "output_type": "display_data"
    },
    {
     "name": "stdout",
     "output_type": "stream",
     "text": [
      "VINS-Mono\n"
     ]
    },
    {
     "data": {
      "text/html": [
       "<table>\n",
       "<tbody>\n",
       "<tr><td>Drone</td><td>Traj. Len.</td><td>ATE Pos</td><td>ATE Att</td><td>Cov/m: x</td><td>y      </td><td>z      </td><td>PGO:ATE Pos</td><td>ATE Att</td></tr>\n",
       "<tr><td>1by1 </td><td>114.8m    </td><td>0.086  </td><td>1.625  </td><td>9.4e-05 </td><td>8.8e-05</td><td>3.7e-05</td><td>nan        </td><td>nan°   </td></tr>\n",
       "<tr><td>2by1 </td><td>108.1m    </td><td>0.082  </td><td>1.103  </td><td>8.7e-05 </td><td>9.3e-05</td><td>1.9e-05</td><td>nan        </td><td>nan°   </td></tr>\n",
       "<tr><td>3by1 </td><td>112.2m    </td><td>0.322  </td><td>5.454  </td><td>3.9e-04 </td><td>1.9e-03</td><td>2.3e-05</td><td>nan        </td><td>nan°   </td></tr>\n",
       "<tr><td>4by1 </td><td>67.4m     </td><td>0.154  </td><td>3.023  </td><td>6.3e-04 </td><td>7.2e-04</td><td>1.0e-04</td><td>nan        </td><td>nan°   </td></tr>\n",
       "<tr><td>5by1 </td><td>105.4m    </td><td>0.237  </td><td>3.929  </td><td>9.6e-04 </td><td>1.1e-03</td><td>5.9e-04</td><td>nan        </td><td>nan°   </td></tr>\n",
       "<tr><td>Avg. </td><td>101.6     </td><td>0.176  </td><td>3.03   </td><td>        </td><td>       </td><td>       </td><td>           </td><td>       </td></tr>\n",
       "</tbody>\n",
       "</table>"
      ],
      "text/plain": [
       "'<table>\\n<tbody>\\n<tr><td>Drone</td><td>Traj. Len.</td><td>ATE Pos</td><td>ATE Att</td><td>Cov/m: x</td><td>y      </td><td>z      </td><td>PGO:ATE Pos</td><td>ATE Att</td></tr>\\n<tr><td>1by1 </td><td>114.8m    </td><td>0.086  </td><td>1.625  </td><td>9.4e-05 </td><td>8.8e-05</td><td>3.7e-05</td><td>nan        </td><td>nan°   </td></tr>\\n<tr><td>2by1 </td><td>108.1m    </td><td>0.082  </td><td>1.103  </td><td>8.7e-05 </td><td>9.3e-05</td><td>1.9e-05</td><td>nan        </td><td>nan°   </td></tr>\\n<tr><td>3by1 </td><td>112.2m    </td><td>0.322  </td><td>5.454  </td><td>3.9e-04 </td><td>1.9e-03</td><td>2.3e-05</td><td>nan        </td><td>nan°   </td></tr>\\n<tr><td>4by1 </td><td>67.4m     </td><td>0.154  </td><td>3.023  </td><td>6.3e-04 </td><td>7.2e-04</td><td>1.0e-04</td><td>nan        </td><td>nan°   </td></tr>\\n<tr><td>5by1 </td><td>105.4m    </td><td>0.237  </td><td>3.929  </td><td>9.6e-04 </td><td>1.1e-03</td><td>5.9e-04</td><td>nan        </td><td>nan°   </td></tr>\\n<tr><td>Avg. </td><td>101.6     </td><td>0.176  </td><td>3.03   </td><td>        </td><td>       </td><td>       </td><td>           </td><td>       </td></tr>\\n</tbody>\\n</table>'"
      ]
     },
     "metadata": {},
     "output_type": "display_data"
    },
    {
     "data": {
      "text/html": [
       "<table>\n",
       "<tbody>\n",
       "<tr><td>Relative</td><td>EST RMSE: Pos (XYZ)</td><td>POS  </td><td>Ang  </td><td>BIAS: Pos           </td><td>Ang   </td></tr>\n",
       "<tr><td>1-&gt;2    </td><td>0.063,0.066,0.040  </td><td>0.099</td><td>1.74°</td><td>-0.008,+0.023,-0.027</td><td>-0.89°</td></tr>\n",
       "<tr><td>1-&gt;3    </td><td>0.210,0.214,0.036  </td><td>0.302</td><td>4.74°</td><td>0.046,-0.090,-0.032 </td><td>+3.75°</td></tr>\n",
       "<tr><td>1-&gt;4    </td><td>0.054,0.065,0.040  </td><td>0.094</td><td>1.12°</td><td>-0.003,-0.027,+0.037</td><td>-0.28°</td></tr>\n",
       "<tr><td>1-&gt;5    </td><td>0.109,0.087,0.153  </td><td>0.207</td><td>3.59°</td><td>-0.014,-0.014,+0.076</td><td>-2.32°</td></tr>\n",
       "<tr><td>Avg:    </td><td>                   </td><td>0.176</td><td>2.80°</td><td>                    </td><td>      </td></tr>\n",
       "</tbody>\n",
       "</table>"
      ],
      "text/plain": [
       "'<table>\\n<tbody>\\n<tr><td>Relative</td><td>EST RMSE: Pos (XYZ)</td><td>POS  </td><td>Ang  </td><td>BIAS: Pos           </td><td>Ang   </td></tr>\\n<tr><td>1-&gt;2    </td><td>0.063,0.066,0.040  </td><td>0.099</td><td>1.74°</td><td>-0.008,+0.023,-0.027</td><td>-0.89°</td></tr>\\n<tr><td>1-&gt;3    </td><td>0.210,0.214,0.036  </td><td>0.302</td><td>4.74°</td><td>0.046,-0.090,-0.032 </td><td>+3.75°</td></tr>\\n<tr><td>1-&gt;4    </td><td>0.054,0.065,0.040  </td><td>0.094</td><td>1.12°</td><td>-0.003,-0.027,+0.037</td><td>-0.28°</td></tr>\\n<tr><td>1-&gt;5    </td><td>0.109,0.087,0.153  </td><td>0.207</td><td>3.59°</td><td>-0.014,-0.014,+0.076</td><td>-2.32°</td></tr>\\n<tr><td>Avg:    </td><td>                   </td><td>0.176</td><td>2.80°</td><td>                    </td><td>      </td></tr>\\n</tbody>\\n</table>'"
      ]
     },
     "metadata": {},
     "output_type": "display_data"
    }
   ],
   "source": [
    "nodes = [1, 2, 3, 4, 5]\n",
    "output_folder = \"/home/xuhao/data/d2slam/tum_datasets/outputs/d2vins-5/swarm1\"\n",
    "data_folder=\"/home/xuhao/data/d2slam/tum_datasets/\"\n",
    "dte = 110\n",
    "paths_gt, t0 = read_paths(data_folder, nodes, prefix=\"groundtruth\")\n",
    "paths_vo, t0 = read_paths(data_folder, nodes, prefix=\"vins-mono\", t0=t0)\n",
    "paths, _ = read_paths(output_folder, nodes, t0=t0)\n",
    "align_paths(paths_vo, paths_gt)\n",
    "display(plot_fused_err(nodes, paths, paths_gt, dte=dte, show=False))\n",
    "display(plot_relative_pose_err(1, nodes[1:], paths, paths_gt, dte=dte, show=False))\n",
    "# plot_fused(nodes, paths, poses_gt=paths_gt, figsize=(10,10))\n",
    "\n",
    "print(\"VINS-Mono\")\n",
    "display(plot_fused_err(nodes, paths_vo, paths_gt, dte=dte, show=False))\n",
    "display(plot_relative_pose_err(1, nodes[1:], paths_vo, paths_gt, dte=dte, show=False))\n",
    "# plot_fused(nodes, paths_vo, poses_gt=paths_gt, figsize=(10,10))\n"
   ]
  },
  {
   "cell_type": "code",
   "execution_count": null,
   "metadata": {},
   "outputs": [],
   "source": []
  }
 ],
 "metadata": {
  "kernelspec": {
   "display_name": "Python 3 (ipykernel)",
   "language": "python",
   "name": "python3"
  },
  "language_info": {
   "codemirror_mode": {
    "name": "ipython",
    "version": 3
   },
   "file_extension": ".py",
   "mimetype": "text/x-python",
   "name": "python",
   "nbconvert_exporter": "python",
   "pygments_lexer": "ipython3",
   "version": "3.8.5"
  },
  "vscode": {
   "interpreter": {
    "hash": "08ce52785f0fedc81003ce387e097a83d6cc9494681cd746006386992005bb71"
   }
  }
 },
 "nbformat": 4,
 "nbformat_minor": 4
}
