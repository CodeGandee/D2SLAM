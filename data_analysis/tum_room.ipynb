{
 "cells": [
  {
   "cell_type": "code",
   "execution_count": 1,
   "metadata": {},
   "outputs": [],
   "source": [
    "%matplotlib inline\n",
    "%load_ext autoreload\n",
    "%autoreload 2\n",
    "from local_plot import *\n",
    "from utils import *\n"
   ]
  },
  {
   "cell_type": "code",
   "execution_count": 19,
   "metadata": {},
   "outputs": [
    {
     "data": {
      "text/html": [
       "<table>\n",
       "<tbody>\n",
       "<tr><td>Drone</td><td>Traj. Len.</td><td>ATE Pos</td><td>ATE Att</td><td>Cov/m: x</td><td>y      </td><td>z      </td><td>PGO:ATE Pos</td><td>ATE Att</td></tr>\n",
       "<tr><td>1by1 </td><td>146.2m    </td><td>0.106  </td><td>2.039  </td><td>6.5e-04 </td><td>1.2e-03</td><td>4.6e-04</td><td>nan        </td><td>nan°   </td></tr>\n",
       "<tr><td>2by1 </td><td>141.3m    </td><td>0.126  </td><td>1.903  </td><td>4.1e-04 </td><td>6.0e-04</td><td>7.9e-05</td><td>nan        </td><td>nan°   </td></tr>\n",
       "<tr><td>3by1 </td><td>137.3m    </td><td>0.152  </td><td>3.262  </td><td>6.5e-04 </td><td>8.6e-04</td><td>1.2e-04</td><td>nan        </td><td>nan°   </td></tr>\n",
       "<tr><td>Avg. </td><td>141.6     </td><td>0.128  </td><td>2.40   </td><td>        </td><td>       </td><td>       </td><td>           </td><td>       </td></tr>\n",
       "</tbody>\n",
       "</table>"
      ],
      "text/plain": [
       "'<table>\\n<tbody>\\n<tr><td>Drone</td><td>Traj. Len.</td><td>ATE Pos</td><td>ATE Att</td><td>Cov/m: x</td><td>y      </td><td>z      </td><td>PGO:ATE Pos</td><td>ATE Att</td></tr>\\n<tr><td>1by1 </td><td>146.2m    </td><td>0.106  </td><td>2.039  </td><td>6.5e-04 </td><td>1.2e-03</td><td>4.6e-04</td><td>nan        </td><td>nan°   </td></tr>\\n<tr><td>2by1 </td><td>141.3m    </td><td>0.126  </td><td>1.903  </td><td>4.1e-04 </td><td>6.0e-04</td><td>7.9e-05</td><td>nan        </td><td>nan°   </td></tr>\\n<tr><td>3by1 </td><td>137.3m    </td><td>0.152  </td><td>3.262  </td><td>6.5e-04 </td><td>8.6e-04</td><td>1.2e-04</td><td>nan        </td><td>nan°   </td></tr>\\n<tr><td>Avg. </td><td>141.6     </td><td>0.128  </td><td>2.40   </td><td>        </td><td>       </td><td>       </td><td>           </td><td>       </td></tr>\\n</tbody>\\n</table>'"
      ]
     },
     "metadata": {},
     "output_type": "display_data"
    },
    {
     "data": {
      "text/html": [
       "<table>\n",
       "<tbody>\n",
       "<tr><td>Relative</td><td>EST RMSE: Pos (XYZ)</td><td>POS  </td><td>Ang  </td><td>BIAS: Pos           </td><td>Ang   </td></tr>\n",
       "<tr><td>1-&gt;2    </td><td>0.093,0.076,0.040  </td><td>0.127</td><td>3.18°</td><td>-0.025,+0.012,-0.019</td><td>-1.53°</td></tr>\n",
       "<tr><td>1-&gt;3    </td><td>0.074,0.079,0.025  </td><td>0.110</td><td>2.71°</td><td>-0.023,-0.030,-0.006</td><td>+0.34°</td></tr>\n",
       "<tr><td>Avg:    </td><td>                   </td><td>0.119</td><td>2.95°</td><td>                    </td><td>      </td></tr>\n",
       "</tbody>\n",
       "</table>"
      ],
      "text/plain": [
       "'<table>\\n<tbody>\\n<tr><td>Relative</td><td>EST RMSE: Pos (XYZ)</td><td>POS  </td><td>Ang  </td><td>BIAS: Pos           </td><td>Ang   </td></tr>\\n<tr><td>1-&gt;2    </td><td>0.093,0.076,0.040  </td><td>0.127</td><td>3.18°</td><td>-0.025,+0.012,-0.019</td><td>-1.53°</td></tr>\\n<tr><td>1-&gt;3    </td><td>0.074,0.079,0.025  </td><td>0.110</td><td>2.71°</td><td>-0.023,-0.030,-0.006</td><td>+0.34°</td></tr>\\n<tr><td>Avg:    </td><td>                   </td><td>0.119</td><td>2.95°</td><td>                    </td><td>      </td></tr>\\n</tbody>\\n</table>'"
      ]
     },
     "metadata": {},
     "output_type": "display_data"
    },
    {
     "name": "stdout",
     "output_type": "stream",
     "text": [
      "VINS-Mono\n"
     ]
    },
    {
     "data": {
      "text/html": [
       "<table>\n",
       "<tbody>\n",
       "<tr><td>Drone</td><td>Traj. Len.</td><td>ATE Pos</td><td>ATE Att</td><td>Cov/m: x</td><td>y      </td><td>z      </td><td>PGO:ATE Pos</td><td>ATE Att</td></tr>\n",
       "<tr><td>1by1 </td><td>146.5m    </td><td>0.091  </td><td>1.855  </td><td>1.0e-04 </td><td>9.7e-05</td><td>3.9e-05</td><td>nan        </td><td>nan°   </td></tr>\n",
       "<tr><td>2by1 </td><td>141.3m    </td><td>0.095  </td><td>1.041  </td><td>8.9e-05 </td><td>1.0e-04</td><td>3.7e-05</td><td>nan        </td><td>nan°   </td></tr>\n",
       "<tr><td>3by1 </td><td>135.3m    </td><td>0.342  </td><td>5.626  </td><td>7.0e-04 </td><td>3.8e-03</td><td>9.7e-05</td><td>nan        </td><td>nan°   </td></tr>\n",
       "<tr><td>Avg. </td><td>141.0     </td><td>0.176  </td><td>2.84   </td><td>        </td><td>       </td><td>       </td><td>           </td><td>       </td></tr>\n",
       "</tbody>\n",
       "</table>"
      ],
      "text/plain": [
       "'<table>\\n<tbody>\\n<tr><td>Drone</td><td>Traj. Len.</td><td>ATE Pos</td><td>ATE Att</td><td>Cov/m: x</td><td>y      </td><td>z      </td><td>PGO:ATE Pos</td><td>ATE Att</td></tr>\\n<tr><td>1by1 </td><td>146.5m    </td><td>0.091  </td><td>1.855  </td><td>1.0e-04 </td><td>9.7e-05</td><td>3.9e-05</td><td>nan        </td><td>nan°   </td></tr>\\n<tr><td>2by1 </td><td>141.3m    </td><td>0.095  </td><td>1.041  </td><td>8.9e-05 </td><td>1.0e-04</td><td>3.7e-05</td><td>nan        </td><td>nan°   </td></tr>\\n<tr><td>3by1 </td><td>135.3m    </td><td>0.342  </td><td>5.626  </td><td>7.0e-04 </td><td>3.8e-03</td><td>9.7e-05</td><td>nan        </td><td>nan°   </td></tr>\\n<tr><td>Avg. </td><td>141.0     </td><td>0.176  </td><td>2.84   </td><td>        </td><td>       </td><td>       </td><td>           </td><td>       </td></tr>\\n</tbody>\\n</table>'"
      ]
     },
     "metadata": {},
     "output_type": "display_data"
    },
    {
     "data": {
      "text/html": [
       "<table>\n",
       "<tbody>\n",
       "<tr><td>Relative</td><td>EST RMSE: Pos (XYZ)</td><td>POS  </td><td>Ang  </td><td>BIAS: Pos           </td><td>Ang   </td></tr>\n",
       "<tr><td>1-&gt;2    </td><td>0.058,0.060,0.051  </td><td>0.098</td><td>1.80°</td><td>-0.009,+0.020,-0.038</td><td>-0.48°</td></tr>\n",
       "<tr><td>1-&gt;3    </td><td>0.232,0.239,0.034  </td><td>0.334</td><td>5.81°</td><td>0.038,-0.110,-0.028 </td><td>+4.01°</td></tr>\n",
       "<tr><td>Avg:    </td><td>                   </td><td>0.216</td><td>3.81°</td><td>                    </td><td>      </td></tr>\n",
       "</tbody>\n",
       "</table>"
      ],
      "text/plain": [
       "'<table>\\n<tbody>\\n<tr><td>Relative</td><td>EST RMSE: Pos (XYZ)</td><td>POS  </td><td>Ang  </td><td>BIAS: Pos           </td><td>Ang   </td></tr>\\n<tr><td>1-&gt;2    </td><td>0.058,0.060,0.051  </td><td>0.098</td><td>1.80°</td><td>-0.009,+0.020,-0.038</td><td>-0.48°</td></tr>\\n<tr><td>1-&gt;3    </td><td>0.232,0.239,0.034  </td><td>0.334</td><td>5.81°</td><td>0.038,-0.110,-0.028 </td><td>+4.01°</td></tr>\\n<tr><td>Avg:    </td><td>                   </td><td>0.216</td><td>3.81°</td><td>                    </td><td>      </td></tr>\\n</tbody>\\n</table>'"
      ]
     },
     "metadata": {},
     "output_type": "display_data"
    }
   ],
   "source": [
    "nodes = [1, 2, 3]\n",
    "output_folder = \"/home/xuhao/data/d2slam/tum_datasets/outputs/d2vins-3/swarm1\"\n",
    "data_folder=\"/home/xuhao/data/d2slam/tum_datasets/\"\n",
    "dte = 140\n",
    "paths_gt, t0 = read_paths(data_folder, nodes, prefix=\"groundtruth\")\n",
    "paths_vo, t0 = read_paths(data_folder, nodes, prefix=\"vins-mono\", t0=t0)\n",
    "paths, _ = read_paths(output_folder, nodes, t0=t0)\n",
    "align_paths(paths_vo, paths_gt)\n",
    "display(plot_fused_err(nodes, paths, paths_gt, dte=dte, show=False))\n",
    "display(plot_relative_pose_err(1, nodes[1:], paths, paths_gt, dte=dte, show=False))\n",
    "# plot_fused(nodes, paths, poses_gt=paths_gt, figsize=(10,10))\n",
    "\n",
    "print(\"VINS-Mono\")\n",
    "display(plot_fused_err(nodes, paths_vo, paths_gt, dte=dte, show=False))\n",
    "display(plot_relative_pose_err(1, nodes[1:], paths_vo, paths_gt, dte=dte, show=False))\n",
    "# plot_fused(nodes, paths_vo, poses_gt=paths_gt, figsize=(10,10))\n"
   ]
  },
  {
   "cell_type": "code",
   "execution_count": 17,
   "metadata": {},
   "outputs": [
    {
     "data": {
      "text/html": [
       "<table>\n",
       "<tbody>\n",
       "<tr><td>Drone</td><td>Traj. Len.</td><td>ATE Pos</td><td>ATE Att</td><td>Cov/m: x</td><td>y      </td><td>z      </td><td>PGO:ATE Pos</td><td>ATE Att</td></tr>\n",
       "<tr><td>1by1 </td><td>114.1m    </td><td>0.098  </td><td>2.046  </td><td>2.9e-04 </td><td>2.5e-04</td><td>1.8e-04</td><td>nan        </td><td>nan°   </td></tr>\n",
       "<tr><td>2by1 </td><td>108.4m    </td><td>0.146  </td><td>3.497  </td><td>4.7e-04 </td><td>2.5e-04</td><td>4.4e-04</td><td>nan        </td><td>nan°   </td></tr>\n",
       "<tr><td>3by1 </td><td>113.3m    </td><td>0.119  </td><td>2.576  </td><td>4.2e-04 </td><td>3.3e-04</td><td>1.0e-04</td><td>nan        </td><td>nan°   </td></tr>\n",
       "<tr><td>4by1 </td><td>67.7m     </td><td>0.096  </td><td>1.623  </td><td>2.7e-04 </td><td>5.5e-04</td><td>3.5e-04</td><td>nan        </td><td>nan°   </td></tr>\n",
       "<tr><td>Avg. </td><td>100.9     </td><td>0.115  </td><td>2.44   </td><td>        </td><td>       </td><td>       </td><td>           </td><td>       </td></tr>\n",
       "</tbody>\n",
       "</table>"
      ],
      "text/plain": [
       "'<table>\\n<tbody>\\n<tr><td>Drone</td><td>Traj. Len.</td><td>ATE Pos</td><td>ATE Att</td><td>Cov/m: x</td><td>y      </td><td>z      </td><td>PGO:ATE Pos</td><td>ATE Att</td></tr>\\n<tr><td>1by1 </td><td>114.1m    </td><td>0.098  </td><td>2.046  </td><td>2.9e-04 </td><td>2.5e-04</td><td>1.8e-04</td><td>nan        </td><td>nan°   </td></tr>\\n<tr><td>2by1 </td><td>108.4m    </td><td>0.146  </td><td>3.497  </td><td>4.7e-04 </td><td>2.5e-04</td><td>4.4e-04</td><td>nan        </td><td>nan°   </td></tr>\\n<tr><td>3by1 </td><td>113.3m    </td><td>0.119  </td><td>2.576  </td><td>4.2e-04 </td><td>3.3e-04</td><td>1.0e-04</td><td>nan        </td><td>nan°   </td></tr>\\n<tr><td>4by1 </td><td>67.7m     </td><td>0.096  </td><td>1.623  </td><td>2.7e-04 </td><td>5.5e-04</td><td>3.5e-04</td><td>nan        </td><td>nan°   </td></tr>\\n<tr><td>Avg. </td><td>100.9     </td><td>0.115  </td><td>2.44   </td><td>        </td><td>       </td><td>       </td><td>           </td><td>       </td></tr>\\n</tbody>\\n</table>'"
      ]
     },
     "metadata": {},
     "output_type": "display_data"
    },
    {
     "data": {
      "text/html": [
       "<table>\n",
       "<tbody>\n",
       "<tr><td>Relative</td><td>EST RMSE: Pos (XYZ)</td><td>POS  </td><td>Ang  </td><td>BIAS: Pos           </td><td>Ang   </td></tr>\n",
       "<tr><td>1-&gt;2    </td><td>0.051,0.045,0.067  </td><td>0.096</td><td>2.06°</td><td>-0.005,+0.008,-0.041</td><td>-0.08°</td></tr>\n",
       "<tr><td>1-&gt;3    </td><td>0.067,0.050,0.026  </td><td>0.088</td><td>1.96°</td><td>-0.027,-0.001,-0.000</td><td>+0.13°</td></tr>\n",
       "<tr><td>1-&gt;4    </td><td>0.027,0.029,0.038  </td><td>0.055</td><td>1.15°</td><td>-0.009,+0.009,-0.016</td><td>+0.16°</td></tr>\n",
       "<tr><td>Avg:    </td><td>                   </td><td>0.080</td><td>1.72°</td><td>                    </td><td>      </td></tr>\n",
       "</tbody>\n",
       "</table>"
      ],
      "text/plain": [
       "'<table>\\n<tbody>\\n<tr><td>Relative</td><td>EST RMSE: Pos (XYZ)</td><td>POS  </td><td>Ang  </td><td>BIAS: Pos           </td><td>Ang   </td></tr>\\n<tr><td>1-&gt;2    </td><td>0.051,0.045,0.067  </td><td>0.096</td><td>2.06°</td><td>-0.005,+0.008,-0.041</td><td>-0.08°</td></tr>\\n<tr><td>1-&gt;3    </td><td>0.067,0.050,0.026  </td><td>0.088</td><td>1.96°</td><td>-0.027,-0.001,-0.000</td><td>+0.13°</td></tr>\\n<tr><td>1-&gt;4    </td><td>0.027,0.029,0.038  </td><td>0.055</td><td>1.15°</td><td>-0.009,+0.009,-0.016</td><td>+0.16°</td></tr>\\n<tr><td>Avg:    </td><td>                   </td><td>0.080</td><td>1.72°</td><td>                    </td><td>      </td></tr>\\n</tbody>\\n</table>'"
      ]
     },
     "metadata": {},
     "output_type": "display_data"
    },
    {
     "name": "stdout",
     "output_type": "stream",
     "text": [
      "VINS-Mono\n"
     ]
    },
    {
     "data": {
      "text/html": [
       "<table>\n",
       "<tbody>\n",
       "<tr><td>Drone</td><td>Traj. Len.</td><td>ATE Pos</td><td>ATE Att</td><td>Cov/m: x</td><td>y      </td><td>z      </td><td>PGO:ATE Pos</td><td>ATE Att</td></tr>\n",
       "<tr><td>1by1 </td><td>114.8m    </td><td>0.086  </td><td>1.625  </td><td>9.4e-05 </td><td>8.8e-05</td><td>3.7e-05</td><td>nan        </td><td>nan°   </td></tr>\n",
       "<tr><td>2by1 </td><td>108.1m    </td><td>0.082  </td><td>1.103  </td><td>8.7e-05 </td><td>9.3e-05</td><td>1.9e-05</td><td>nan        </td><td>nan°   </td></tr>\n",
       "<tr><td>3by1 </td><td>112.2m    </td><td>0.322  </td><td>5.454  </td><td>3.9e-04 </td><td>1.9e-03</td><td>2.3e-05</td><td>nan        </td><td>nan°   </td></tr>\n",
       "<tr><td>4by1 </td><td>67.4m     </td><td>0.154  </td><td>3.023  </td><td>6.3e-04 </td><td>7.2e-04</td><td>1.0e-04</td><td>nan        </td><td>nan°   </td></tr>\n",
       "<tr><td>Avg. </td><td>100.6     </td><td>0.161  </td><td>2.80   </td><td>        </td><td>       </td><td>       </td><td>           </td><td>       </td></tr>\n",
       "</tbody>\n",
       "</table>"
      ],
      "text/plain": [
       "'<table>\\n<tbody>\\n<tr><td>Drone</td><td>Traj. Len.</td><td>ATE Pos</td><td>ATE Att</td><td>Cov/m: x</td><td>y      </td><td>z      </td><td>PGO:ATE Pos</td><td>ATE Att</td></tr>\\n<tr><td>1by1 </td><td>114.8m    </td><td>0.086  </td><td>1.625  </td><td>9.4e-05 </td><td>8.8e-05</td><td>3.7e-05</td><td>nan        </td><td>nan°   </td></tr>\\n<tr><td>2by1 </td><td>108.1m    </td><td>0.082  </td><td>1.103  </td><td>8.7e-05 </td><td>9.3e-05</td><td>1.9e-05</td><td>nan        </td><td>nan°   </td></tr>\\n<tr><td>3by1 </td><td>112.2m    </td><td>0.322  </td><td>5.454  </td><td>3.9e-04 </td><td>1.9e-03</td><td>2.3e-05</td><td>nan        </td><td>nan°   </td></tr>\\n<tr><td>4by1 </td><td>67.4m     </td><td>0.154  </td><td>3.023  </td><td>6.3e-04 </td><td>7.2e-04</td><td>1.0e-04</td><td>nan        </td><td>nan°   </td></tr>\\n<tr><td>Avg. </td><td>100.6     </td><td>0.161  </td><td>2.80   </td><td>        </td><td>       </td><td>       </td><td>           </td><td>       </td></tr>\\n</tbody>\\n</table>'"
      ]
     },
     "metadata": {},
     "output_type": "display_data"
    },
    {
     "data": {
      "text/html": [
       "<table>\n",
       "<tbody>\n",
       "<tr><td>Relative</td><td>EST RMSE: Pos (XYZ)</td><td>POS  </td><td>Ang  </td><td>BIAS: Pos           </td><td>Ang   </td></tr>\n",
       "<tr><td>1-&gt;2    </td><td>0.063,0.066,0.040  </td><td>0.099</td><td>1.74°</td><td>-0.008,+0.023,-0.027</td><td>-0.89°</td></tr>\n",
       "<tr><td>1-&gt;3    </td><td>0.210,0.214,0.036  </td><td>0.302</td><td>4.74°</td><td>0.046,-0.090,-0.032 </td><td>+3.75°</td></tr>\n",
       "<tr><td>1-&gt;4    </td><td>0.054,0.065,0.040  </td><td>0.094</td><td>1.12°</td><td>-0.003,-0.027,+0.037</td><td>-0.28°</td></tr>\n",
       "<tr><td>Avg:    </td><td>                   </td><td>0.165</td><td>2.53°</td><td>                    </td><td>      </td></tr>\n",
       "</tbody>\n",
       "</table>"
      ],
      "text/plain": [
       "'<table>\\n<tbody>\\n<tr><td>Relative</td><td>EST RMSE: Pos (XYZ)</td><td>POS  </td><td>Ang  </td><td>BIAS: Pos           </td><td>Ang   </td></tr>\\n<tr><td>1-&gt;2    </td><td>0.063,0.066,0.040  </td><td>0.099</td><td>1.74°</td><td>-0.008,+0.023,-0.027</td><td>-0.89°</td></tr>\\n<tr><td>1-&gt;3    </td><td>0.210,0.214,0.036  </td><td>0.302</td><td>4.74°</td><td>0.046,-0.090,-0.032 </td><td>+3.75°</td></tr>\\n<tr><td>1-&gt;4    </td><td>0.054,0.065,0.040  </td><td>0.094</td><td>1.12°</td><td>-0.003,-0.027,+0.037</td><td>-0.28°</td></tr>\\n<tr><td>Avg:    </td><td>                   </td><td>0.165</td><td>2.53°</td><td>                    </td><td>      </td></tr>\\n</tbody>\\n</table>'"
      ]
     },
     "metadata": {},
     "output_type": "display_data"
    }
   ],
   "source": [
    "nodes = [1, 2, 3, 4]\n",
    "output_folder = \"/home/xuhao/data/d2slam/tum_datasets/outputs/d2vins-4/swarm1\"\n",
    "data_folder=\"/home/xuhao/data/d2slam/tum_datasets/\"\n",
    "dte = 110\n",
    "paths_gt, t0 = read_paths(data_folder, nodes, prefix=\"groundtruth\")\n",
    "paths_vo, t0 = read_paths(data_folder, nodes, prefix=\"vins-mono\", t0=t0)\n",
    "paths, _ = read_paths(output_folder, nodes, t0=t0)\n",
    "align_paths(paths_vo, paths_gt)\n",
    "display(plot_fused_err(nodes, paths, paths_gt, dte=dte, show=False))\n",
    "display(plot_relative_pose_err(1, nodes[1:], paths, paths_gt, dte=dte, show=False))\n",
    "# plot_fused(nodes, paths, poses_gt=paths_gt, figsize=(10,10))\n",
    "\n",
    "print(\"VINS-Mono\")\n",
    "display(plot_fused_err(nodes, paths_vo, paths_gt, dte=dte, show=False))\n",
    "display(plot_relative_pose_err(1, nodes[1:], paths_vo, paths_gt, dte=dte, show=False))\n",
    "# plot_fused(nodes, paths_vo, poses_gt=paths_gt, figsize=(10,10))\n"
   ]
  },
  {
   "cell_type": "code",
   "execution_count": 2,
   "metadata": {},
   "outputs": [
    {
     "data": {
      "text/html": [
       "<table>\n",
       "<tbody>\n",
       "<tr><td>Drone</td><td>Traj. Len.</td><td>ATE Pos</td><td>ATE Att</td><td>Cov/m: x</td><td>y      </td><td>z      </td><td>PGO:ATE Pos</td><td>ATE Att</td></tr>\n",
       "<tr><td>1by1 </td><td>114.3m    </td><td>0.077  </td><td>1.384  </td><td>3.5e-04 </td><td>2.7e-04</td><td>4.0e-04</td><td>nan        </td><td>nan°   </td></tr>\n",
       "<tr><td>2by1 </td><td>107.6m    </td><td>0.099  </td><td>2.138  </td><td>2.8e-04 </td><td>2.3e-04</td><td>4.7e-04</td><td>nan        </td><td>nan°   </td></tr>\n",
       "<tr><td>3by1 </td><td>113.6m    </td><td>0.121  </td><td>2.712  </td><td>6.2e-03 </td><td>1.3e-03</td><td>4.1e-04</td><td>nan        </td><td>nan°   </td></tr>\n",
       "<tr><td>4by1 </td><td>67.6m     </td><td>0.061  </td><td>1.264  </td><td>4.0e-04 </td><td>3.5e-04</td><td>2.6e-04</td><td>nan        </td><td>nan°   </td></tr>\n",
       "<tr><td>5by1 </td><td>105.7m    </td><td>0.089  </td><td>1.738  </td><td>2.7e-04 </td><td>2.3e-04</td><td>3.3e-04</td><td>nan        </td><td>nan°   </td></tr>\n",
       "<tr><td>Avg. </td><td>101.8     </td><td>0.090  </td><td>1.85   </td><td>        </td><td>       </td><td>       </td><td>           </td><td>       </td></tr>\n",
       "</tbody>\n",
       "</table>"
      ],
      "text/plain": [
       "'<table>\\n<tbody>\\n<tr><td>Drone</td><td>Traj. Len.</td><td>ATE Pos</td><td>ATE Att</td><td>Cov/m: x</td><td>y      </td><td>z      </td><td>PGO:ATE Pos</td><td>ATE Att</td></tr>\\n<tr><td>1by1 </td><td>114.3m    </td><td>0.077  </td><td>1.384  </td><td>3.5e-04 </td><td>2.7e-04</td><td>4.0e-04</td><td>nan        </td><td>nan°   </td></tr>\\n<tr><td>2by1 </td><td>107.6m    </td><td>0.099  </td><td>2.138  </td><td>2.8e-04 </td><td>2.3e-04</td><td>4.7e-04</td><td>nan        </td><td>nan°   </td></tr>\\n<tr><td>3by1 </td><td>113.6m    </td><td>0.121  </td><td>2.712  </td><td>6.2e-03 </td><td>1.3e-03</td><td>4.1e-04</td><td>nan        </td><td>nan°   </td></tr>\\n<tr><td>4by1 </td><td>67.6m     </td><td>0.061  </td><td>1.264  </td><td>4.0e-04 </td><td>3.5e-04</td><td>2.6e-04</td><td>nan        </td><td>nan°   </td></tr>\\n<tr><td>5by1 </td><td>105.7m    </td><td>0.089  </td><td>1.738  </td><td>2.7e-04 </td><td>2.3e-04</td><td>3.3e-04</td><td>nan        </td><td>nan°   </td></tr>\\n<tr><td>Avg. </td><td>101.8     </td><td>0.090  </td><td>1.85   </td><td>        </td><td>       </td><td>       </td><td>           </td><td>       </td></tr>\\n</tbody>\\n</table>'"
      ]
     },
     "metadata": {},
     "output_type": "display_data"
    },
    {
     "data": {
      "text/html": [
       "<table>\n",
       "<tbody>\n",
       "<tr><td>Relative</td><td>EST RMSE: Pos (XYZ)</td><td>POS  </td><td>Ang  </td><td>BIAS: Pos           </td><td>Ang   </td></tr>\n",
       "<tr><td>1-&gt;2    </td><td>0.040,0.038,0.058  </td><td>0.080</td><td>1.39°</td><td>-0.006,+0.007,-0.033</td><td>-0.47°</td></tr>\n",
       "<tr><td>1-&gt;3    </td><td>0.070,0.062,0.032  </td><td>0.098</td><td>2.37°</td><td>-0.016,-0.009,+0.002</td><td>-0.33°</td></tr>\n",
       "<tr><td>1-&gt;4    </td><td>0.031,0.033,0.032  </td><td>0.055</td><td>1.33°</td><td>-0.006,+0.010,+0.008</td><td>-0.04°</td></tr>\n",
       "<tr><td>1-&gt;5    </td><td>0.029,0.028,0.044  </td><td>0.060</td><td>1.17°</td><td>-0.001,+0.003,-0.022</td><td>+0.32°</td></tr>\n",
       "<tr><td>Avg:    </td><td>                   </td><td>0.073</td><td>1.57°</td><td>                    </td><td>      </td></tr>\n",
       "</tbody>\n",
       "</table>"
      ],
      "text/plain": [
       "'<table>\\n<tbody>\\n<tr><td>Relative</td><td>EST RMSE: Pos (XYZ)</td><td>POS  </td><td>Ang  </td><td>BIAS: Pos           </td><td>Ang   </td></tr>\\n<tr><td>1-&gt;2    </td><td>0.040,0.038,0.058  </td><td>0.080</td><td>1.39°</td><td>-0.006,+0.007,-0.033</td><td>-0.47°</td></tr>\\n<tr><td>1-&gt;3    </td><td>0.070,0.062,0.032  </td><td>0.098</td><td>2.37°</td><td>-0.016,-0.009,+0.002</td><td>-0.33°</td></tr>\\n<tr><td>1-&gt;4    </td><td>0.031,0.033,0.032  </td><td>0.055</td><td>1.33°</td><td>-0.006,+0.010,+0.008</td><td>-0.04°</td></tr>\\n<tr><td>1-&gt;5    </td><td>0.029,0.028,0.044  </td><td>0.060</td><td>1.17°</td><td>-0.001,+0.003,-0.022</td><td>+0.32°</td></tr>\\n<tr><td>Avg:    </td><td>                   </td><td>0.073</td><td>1.57°</td><td>                    </td><td>      </td></tr>\\n</tbody>\\n</table>'"
      ]
     },
     "metadata": {},
     "output_type": "display_data"
    },
    {
     "name": "stdout",
     "output_type": "stream",
     "text": [
      "VINS-Mono\n"
     ]
    },
    {
     "data": {
      "text/html": [
       "<table>\n",
       "<tbody>\n",
       "<tr><td>Drone</td><td>Traj. Len.</td><td>ATE Pos</td><td>ATE Att</td><td>Cov/m: x</td><td>y      </td><td>z      </td><td>PGO:ATE Pos</td><td>ATE Att</td></tr>\n",
       "<tr><td>1by1 </td><td>114.8m    </td><td>0.086  </td><td>1.625  </td><td>9.4e-05 </td><td>8.8e-05</td><td>3.7e-05</td><td>nan        </td><td>nan°   </td></tr>\n",
       "<tr><td>2by1 </td><td>108.1m    </td><td>0.082  </td><td>1.103  </td><td>8.7e-05 </td><td>9.3e-05</td><td>1.9e-05</td><td>nan        </td><td>nan°   </td></tr>\n",
       "<tr><td>3by1 </td><td>112.2m    </td><td>0.322  </td><td>5.454  </td><td>3.9e-04 </td><td>1.9e-03</td><td>2.3e-05</td><td>nan        </td><td>nan°   </td></tr>\n",
       "<tr><td>4by1 </td><td>67.4m     </td><td>0.154  </td><td>3.023  </td><td>6.3e-04 </td><td>7.2e-04</td><td>1.0e-04</td><td>nan        </td><td>nan°   </td></tr>\n",
       "<tr><td>5by1 </td><td>105.4m    </td><td>0.237  </td><td>3.929  </td><td>9.6e-04 </td><td>1.1e-03</td><td>5.9e-04</td><td>nan        </td><td>nan°   </td></tr>\n",
       "<tr><td>Avg. </td><td>101.6     </td><td>0.176  </td><td>3.03   </td><td>        </td><td>       </td><td>       </td><td>           </td><td>       </td></tr>\n",
       "</tbody>\n",
       "</table>"
      ],
      "text/plain": [
       "'<table>\\n<tbody>\\n<tr><td>Drone</td><td>Traj. Len.</td><td>ATE Pos</td><td>ATE Att</td><td>Cov/m: x</td><td>y      </td><td>z      </td><td>PGO:ATE Pos</td><td>ATE Att</td></tr>\\n<tr><td>1by1 </td><td>114.8m    </td><td>0.086  </td><td>1.625  </td><td>9.4e-05 </td><td>8.8e-05</td><td>3.7e-05</td><td>nan        </td><td>nan°   </td></tr>\\n<tr><td>2by1 </td><td>108.1m    </td><td>0.082  </td><td>1.103  </td><td>8.7e-05 </td><td>9.3e-05</td><td>1.9e-05</td><td>nan        </td><td>nan°   </td></tr>\\n<tr><td>3by1 </td><td>112.2m    </td><td>0.322  </td><td>5.454  </td><td>3.9e-04 </td><td>1.9e-03</td><td>2.3e-05</td><td>nan        </td><td>nan°   </td></tr>\\n<tr><td>4by1 </td><td>67.4m     </td><td>0.154  </td><td>3.023  </td><td>6.3e-04 </td><td>7.2e-04</td><td>1.0e-04</td><td>nan        </td><td>nan°   </td></tr>\\n<tr><td>5by1 </td><td>105.4m    </td><td>0.237  </td><td>3.929  </td><td>9.6e-04 </td><td>1.1e-03</td><td>5.9e-04</td><td>nan        </td><td>nan°   </td></tr>\\n<tr><td>Avg. </td><td>101.6     </td><td>0.176  </td><td>3.03   </td><td>        </td><td>       </td><td>       </td><td>           </td><td>       </td></tr>\\n</tbody>\\n</table>'"
      ]
     },
     "metadata": {},
     "output_type": "display_data"
    },
    {
     "data": {
      "text/html": [
       "<table>\n",
       "<tbody>\n",
       "<tr><td>Relative</td><td>EST RMSE: Pos (XYZ)</td><td>POS  </td><td>Ang  </td><td>BIAS: Pos           </td><td>Ang   </td></tr>\n",
       "<tr><td>1-&gt;2    </td><td>0.063,0.066,0.040  </td><td>0.099</td><td>1.74°</td><td>-0.008,+0.023,-0.027</td><td>-0.89°</td></tr>\n",
       "<tr><td>1-&gt;3    </td><td>0.210,0.214,0.036  </td><td>0.302</td><td>4.74°</td><td>0.046,-0.090,-0.032 </td><td>+3.75°</td></tr>\n",
       "<tr><td>1-&gt;4    </td><td>0.054,0.065,0.040  </td><td>0.094</td><td>1.12°</td><td>-0.003,-0.027,+0.037</td><td>-0.28°</td></tr>\n",
       "<tr><td>1-&gt;5    </td><td>0.109,0.087,0.153  </td><td>0.207</td><td>3.59°</td><td>-0.014,-0.014,+0.076</td><td>-2.32°</td></tr>\n",
       "<tr><td>Avg:    </td><td>                   </td><td>0.176</td><td>2.80°</td><td>                    </td><td>      </td></tr>\n",
       "</tbody>\n",
       "</table>"
      ],
      "text/plain": [
       "'<table>\\n<tbody>\\n<tr><td>Relative</td><td>EST RMSE: Pos (XYZ)</td><td>POS  </td><td>Ang  </td><td>BIAS: Pos           </td><td>Ang   </td></tr>\\n<tr><td>1-&gt;2    </td><td>0.063,0.066,0.040  </td><td>0.099</td><td>1.74°</td><td>-0.008,+0.023,-0.027</td><td>-0.89°</td></tr>\\n<tr><td>1-&gt;3    </td><td>0.210,0.214,0.036  </td><td>0.302</td><td>4.74°</td><td>0.046,-0.090,-0.032 </td><td>+3.75°</td></tr>\\n<tr><td>1-&gt;4    </td><td>0.054,0.065,0.040  </td><td>0.094</td><td>1.12°</td><td>-0.003,-0.027,+0.037</td><td>-0.28°</td></tr>\\n<tr><td>1-&gt;5    </td><td>0.109,0.087,0.153  </td><td>0.207</td><td>3.59°</td><td>-0.014,-0.014,+0.076</td><td>-2.32°</td></tr>\\n<tr><td>Avg:    </td><td>                   </td><td>0.176</td><td>2.80°</td><td>                    </td><td>      </td></tr>\\n</tbody>\\n</table>'"
      ]
     },
     "metadata": {},
     "output_type": "display_data"
    }
   ],
   "source": [
    "nodes = [1, 2, 3, 4, 5]\n",
    "output_folder = \"/home/xuhao/data/d2slam/tum_datasets/outputs/d2vins-5/swarm1\"\n",
    "data_folder=\"/home/xuhao/data/d2slam/tum_datasets/\"\n",
    "dte = 110\n",
    "paths_gt, t0 = read_paths(data_folder, nodes, prefix=\"groundtruth\")\n",
    "paths_vo, t0 = read_paths(data_folder, nodes, prefix=\"vins-mono\", t0=t0)\n",
    "paths, _ = read_paths(output_folder, nodes, t0=t0)\n",
    "align_paths(paths_vo, paths_gt)\n",
    "display(plot_fused_err(nodes, paths, paths_gt, dte=dte, show=False))\n",
    "display(plot_relative_pose_err(1, nodes[1:], paths, paths_gt, dte=dte, show=False))\n",
    "# plot_fused(nodes, paths, poses_gt=paths_gt, figsize=(10,10))\n",
    "\n",
    "print(\"VINS-Mono\")\n",
    "display(plot_fused_err(nodes, paths_vo, paths_gt, dte=dte, show=False))\n",
    "display(plot_relative_pose_err(1, nodes[1:], paths_vo, paths_gt, dte=dte, show=False))\n",
    "# plot_fused(nodes, paths_vo, poses_gt=paths_gt, figsize=(10,10))\n"
   ]
  },
  {
   "cell_type": "code",
   "execution_count": null,
   "metadata": {},
   "outputs": [],
   "source": []
  }
 ],
 "metadata": {
  "kernelspec": {
   "display_name": "Python 3 (ipykernel)",
   "language": "python",
   "name": "python3"
  },
  "language_info": {
   "codemirror_mode": {
    "name": "ipython",
    "version": 3
   },
   "file_extension": ".py",
   "mimetype": "text/x-python",
   "name": "python",
   "nbconvert_exporter": "python",
   "pygments_lexer": "ipython3",
   "version": "3.8.5"
  },
  "vscode": {
   "interpreter": {
    "hash": "08ce52785f0fedc81003ce387e097a83d6cc9494681cd746006386992005bb71"
   }
  }
 },
 "nbformat": 4,
 "nbformat_minor": 4
}
