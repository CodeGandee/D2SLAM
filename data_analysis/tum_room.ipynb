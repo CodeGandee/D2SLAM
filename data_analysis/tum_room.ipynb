{
 "cells": [
  {
   "cell_type": "code",
   "execution_count": 2,
   "metadata": {},
   "outputs": [],
   "source": [
    "%matplotlib inline\n",
    "%load_ext autoreload\n",
    "%autoreload 2\n",
    "from local_plot import *\n",
    "from utils import *\n"
   ]
  },
  {
   "cell_type": "code",
   "execution_count": 18,
   "metadata": {},
   "outputs": [
    {
     "data": {
      "text/html": [
       "<table>\n",
       "<tbody>\n",
       "<tr><td>Drone</td><td>Traj. Len.</td><td>ATE Pos</td><td>ATE Att</td><td>Cov/m: x</td><td>y      </td><td>z      </td><td>Cov Att/m</td><td>PGO:ATE Pos</td><td>ATE Att</td></tr>\n",
       "<tr><td>1by1 </td><td>18.1m     </td><td>0.031  </td><td>1.080  </td><td>4.7e-04 </td><td>1.1e-04</td><td>8.2e-05</td><td>1.45e-02 </td><td>nan        </td><td>nan°   </td></tr>\n",
       "<tr><td>2by1 </td><td>20.3m     </td><td>0.029  </td><td>0.833  </td><td>1.5e-04 </td><td>9.9e-04</td><td>5.3e-05</td><td>2.47e-02 </td><td>nan        </td><td>nan°   </td></tr>\n",
       "<tr><td>3by1 </td><td>16.4m     </td><td>0.029  </td><td>1.045  </td><td>8.2e-04 </td><td>1.1e-04</td><td>1.2e-04</td><td>5.99e-03 </td><td>nan        </td><td>nan°   </td></tr>\n",
       "<tr><td>Avg. </td><td>18.3      </td><td>0.030  </td><td>0.99   </td><td>        </td><td>       </td><td>       </td><td>         </td><td>           </td><td>       </td></tr>\n",
       "</tbody>\n",
       "</table>"
      ],
      "text/plain": [
       "'<table>\\n<tbody>\\n<tr><td>Drone</td><td>Traj. Len.</td><td>ATE Pos</td><td>ATE Att</td><td>Cov/m: x</td><td>y      </td><td>z      </td><td>Cov Att/m</td><td>PGO:ATE Pos</td><td>ATE Att</td></tr>\\n<tr><td>1by1 </td><td>18.1m     </td><td>0.031  </td><td>1.080  </td><td>4.7e-04 </td><td>1.1e-04</td><td>8.2e-05</td><td>1.45e-02 </td><td>nan        </td><td>nan°   </td></tr>\\n<tr><td>2by1 </td><td>20.3m     </td><td>0.029  </td><td>0.833  </td><td>1.5e-04 </td><td>9.9e-04</td><td>5.3e-05</td><td>2.47e-02 </td><td>nan        </td><td>nan°   </td></tr>\\n<tr><td>3by1 </td><td>16.4m     </td><td>0.029  </td><td>1.045  </td><td>8.2e-04 </td><td>1.1e-04</td><td>1.2e-04</td><td>5.99e-03 </td><td>nan        </td><td>nan°   </td></tr>\\n<tr><td>Avg. </td><td>18.3      </td><td>0.030  </td><td>0.99   </td><td>        </td><td>       </td><td>       </td><td>         </td><td>           </td><td>       </td></tr>\\n</tbody>\\n</table>'"
      ]
     },
     "metadata": {},
     "output_type": "display_data"
    },
    {
     "data": {
      "text/html": [
       "<table>\n",
       "<tbody>\n",
       "<tr><td>Relative</td><td>EST RMSE: Pos (XYZ)</td><td>POS  </td><td>Ang  </td><td>BIAS: Pos           </td><td>Ang   </td></tr>\n",
       "<tr><td>1-&gt;2    </td><td>0.019,0.012,0.009  </td><td>0.024</td><td>0.70°</td><td>-0.003,-0.001,+0.001</td><td>+0.02°</td></tr>\n",
       "<tr><td>1-&gt;3    </td><td>0.016,0.017,0.011  </td><td>0.025</td><td>0.85°</td><td>0.004,+0.004,-0.001 </td><td>-0.07°</td></tr>\n",
       "<tr><td>Avg:    </td><td>                   </td><td>0.025</td><td>0.77°</td><td>                    </td><td>      </td></tr>\n",
       "</tbody>\n",
       "</table>"
      ],
      "text/plain": [
       "'<table>\\n<tbody>\\n<tr><td>Relative</td><td>EST RMSE: Pos (XYZ)</td><td>POS  </td><td>Ang  </td><td>BIAS: Pos           </td><td>Ang   </td></tr>\\n<tr><td>1-&gt;2    </td><td>0.019,0.012,0.009  </td><td>0.024</td><td>0.70°</td><td>-0.003,-0.001,+0.001</td><td>+0.02°</td></tr>\\n<tr><td>1-&gt;3    </td><td>0.016,0.017,0.011  </td><td>0.025</td><td>0.85°</td><td>0.004,+0.004,-0.001 </td><td>-0.07°</td></tr>\\n<tr><td>Avg:    </td><td>                   </td><td>0.025</td><td>0.77°</td><td>                    </td><td>      </td></tr>\\n</tbody>\\n</table>'"
      ]
     },
     "metadata": {},
     "output_type": "display_data"
    },
    {
     "name": "stdout",
     "output_type": "stream",
     "text": [
      "VINS-Mono\n"
     ]
    },
    {
     "data": {
      "text/html": [
       "<table>\n",
       "<tbody>\n",
       "<tr><td>Drone</td><td>Traj. Len.</td><td>ATE Pos</td><td>ATE Att</td><td>Cov/m: x</td><td>y      </td><td>z      </td><td>Cov Att/m</td><td>PGO:ATE Pos</td><td>ATE Att</td></tr>\n",
       "<tr><td>1by1 </td><td>18.2m     </td><td>0.056  </td><td>2.659  </td><td>1.2e-04 </td><td>6.6e-05</td><td>4.8e-05</td><td>1.03e-02 </td><td>nan        </td><td>nan°   </td></tr>\n",
       "<tr><td>2by1 </td><td>20.0m     </td><td>0.052  </td><td>1.425  </td><td>1.5e-04 </td><td>1.1e-04</td><td>4.0e-05</td><td>7.07e-03 </td><td>nan        </td><td>nan°   </td></tr>\n",
       "<tr><td>3by1 </td><td>16.0m     </td><td>0.208  </td><td>6.331  </td><td>5.5e-04 </td><td>8.7e-04</td><td>5.9e-05</td><td>4.67e-03 </td><td>nan        </td><td>nan°   </td></tr>\n",
       "<tr><td>Avg. </td><td>18.1      </td><td>0.105  </td><td>3.47   </td><td>        </td><td>       </td><td>       </td><td>         </td><td>           </td><td>       </td></tr>\n",
       "</tbody>\n",
       "</table>"
      ],
      "text/plain": [
       "'<table>\\n<tbody>\\n<tr><td>Drone</td><td>Traj. Len.</td><td>ATE Pos</td><td>ATE Att</td><td>Cov/m: x</td><td>y      </td><td>z      </td><td>Cov Att/m</td><td>PGO:ATE Pos</td><td>ATE Att</td></tr>\\n<tr><td>1by1 </td><td>18.2m     </td><td>0.056  </td><td>2.659  </td><td>1.2e-04 </td><td>6.6e-05</td><td>4.8e-05</td><td>1.03e-02 </td><td>nan        </td><td>nan°   </td></tr>\\n<tr><td>2by1 </td><td>20.0m     </td><td>0.052  </td><td>1.425  </td><td>1.5e-04 </td><td>1.1e-04</td><td>4.0e-05</td><td>7.07e-03 </td><td>nan        </td><td>nan°   </td></tr>\\n<tr><td>3by1 </td><td>16.0m     </td><td>0.208  </td><td>6.331  </td><td>5.5e-04 </td><td>8.7e-04</td><td>5.9e-05</td><td>4.67e-03 </td><td>nan        </td><td>nan°   </td></tr>\\n<tr><td>Avg. </td><td>18.1      </td><td>0.105  </td><td>3.47   </td><td>        </td><td>       </td><td>       </td><td>         </td><td>           </td><td>       </td></tr>\\n</tbody>\\n</table>'"
      ]
     },
     "metadata": {},
     "output_type": "display_data"
    },
    {
     "data": {
      "text/html": [
       "<table>\n",
       "<tbody>\n",
       "<tr><td>Relative</td><td>EST RMSE: Pos (XYZ)</td><td>POS  </td><td>Ang  </td><td>BIAS: Pos           </td><td>Ang   </td></tr>\n",
       "<tr><td>1-&gt;2    </td><td>0.035,0.059,0.014  </td><td>0.070</td><td>2.70°</td><td>-0.005,+0.044,-0.005</td><td>-2.67°</td></tr>\n",
       "<tr><td>1-&gt;3    </td><td>0.075,0.165,0.018  </td><td>0.182</td><td>4.13°</td><td>-0.007,-0.139,-0.017</td><td>+4.11°</td></tr>\n",
       "<tr><td>Avg:    </td><td>                   </td><td>0.126</td><td>3.41°</td><td>                    </td><td>      </td></tr>\n",
       "</tbody>\n",
       "</table>"
      ],
      "text/plain": [
       "'<table>\\n<tbody>\\n<tr><td>Relative</td><td>EST RMSE: Pos (XYZ)</td><td>POS  </td><td>Ang  </td><td>BIAS: Pos           </td><td>Ang   </td></tr>\\n<tr><td>1-&gt;2    </td><td>0.035,0.059,0.014  </td><td>0.070</td><td>2.70°</td><td>-0.005,+0.044,-0.005</td><td>-2.67°</td></tr>\\n<tr><td>1-&gt;3    </td><td>0.075,0.165,0.018  </td><td>0.182</td><td>4.13°</td><td>-0.007,-0.139,-0.017</td><td>+4.11°</td></tr>\\n<tr><td>Avg:    </td><td>                   </td><td>0.126</td><td>3.41°</td><td>                    </td><td>      </td></tr>\\n</tbody>\\n</table>'"
      ]
     },
     "metadata": {},
     "output_type": "display_data"
    }
   ],
   "source": [
    "nodes = [1, 2, 3]\n",
    "output_folder = \"/home/xuhao/data/d2slam/tum_datasets/outputs/d2vins-3/swarm1\"\n",
    "data_folder=\"/home/xuhao/data/d2slam/tum_datasets/\"\n",
    "dte = 30\n",
    "paths_gt, t0 = read_paths(data_folder, nodes, prefix=\"groundtruth\")\n",
    "paths_vo, t0 = read_paths(data_folder, nodes, prefix=\"vins-mono\", t0=t0)\n",
    "paths, _ = read_paths(output_folder, nodes, t0=t0)\n",
    "align_paths(paths_vo, paths_gt)\n",
    "display(plot_fused_err(nodes, paths, paths_gt, dte=dte, show=False))\n",
    "display(plot_relative_pose_err(1, nodes[1:], paths, paths_gt, dte=dte, show=False))\n",
    "# plot_fused(nodes, paths, poses_gt=paths_gt, figsize=(10,10))\n",
    "\n",
    "print(\"VINS-Mono\")\n",
    "display(plot_fused_err(nodes, paths_vo, paths_gt, dte=dte, show=False))\n",
    "display(plot_relative_pose_err(1, nodes[1:], paths_vo, paths_gt, dte=dte, show=False))\n",
    "# plot_fused(nodes, paths_vo, poses_gt=paths_gt, figsize=(10,10))\n"
   ]
  },
  {
   "cell_type": "code",
   "execution_count": 7,
   "metadata": {},
   "outputs": [
    {
     "data": {
      "text/html": [
       "<table>\n",
       "<tbody>\n",
       "<tr><td>Drone</td><td>Traj. Len.</td><td>ATE Pos</td><td>ATE Att</td><td>Cov/m: x</td><td>y      </td><td>z      </td><td>Cov Att/m</td><td>PGO:ATE Pos</td><td>ATE Att</td></tr>\n",
       "<tr><td>1by1 </td><td>18.0m     </td><td>0.056  </td><td>2.138  </td><td>8.4e-05 </td><td>6.9e-05</td><td>1.4e-04</td><td>1.70e-02 </td><td>nan        </td><td>nan°   </td></tr>\n",
       "<tr><td>2by1 </td><td>20.4m     </td><td>0.066  </td><td>2.153  </td><td>9.6e-05 </td><td>1.6e-04</td><td>6.5e-05</td><td>7.96e-03 </td><td>nan        </td><td>nan°   </td></tr>\n",
       "<tr><td>3by1 </td><td>16.3m     </td><td>0.055  </td><td>2.340  </td><td>2.7e-04 </td><td>9.0e-05</td><td>1.2e-04</td><td>1.08e-02 </td><td>nan        </td><td>nan°   </td></tr>\n",
       "<tr><td>4by1 </td><td>18.6m     </td><td>0.053  </td><td>2.187  </td><td>1.0e-04 </td><td>1.4e-04</td><td>2.1e-04</td><td>8.28e-03 </td><td>nan        </td><td>nan°   </td></tr>\n",
       "<tr><td>Avg. </td><td>18.3      </td><td>0.057  </td><td>2.20   </td><td>        </td><td>       </td><td>       </td><td>         </td><td>           </td><td>       </td></tr>\n",
       "</tbody>\n",
       "</table>"
      ],
      "text/plain": [
       "'<table>\\n<tbody>\\n<tr><td>Drone</td><td>Traj. Len.</td><td>ATE Pos</td><td>ATE Att</td><td>Cov/m: x</td><td>y      </td><td>z      </td><td>Cov Att/m</td><td>PGO:ATE Pos</td><td>ATE Att</td></tr>\\n<tr><td>1by1 </td><td>18.0m     </td><td>0.056  </td><td>2.138  </td><td>8.4e-05 </td><td>6.9e-05</td><td>1.4e-04</td><td>1.70e-02 </td><td>nan        </td><td>nan°   </td></tr>\\n<tr><td>2by1 </td><td>20.4m     </td><td>0.066  </td><td>2.153  </td><td>9.6e-05 </td><td>1.6e-04</td><td>6.5e-05</td><td>7.96e-03 </td><td>nan        </td><td>nan°   </td></tr>\\n<tr><td>3by1 </td><td>16.3m     </td><td>0.055  </td><td>2.340  </td><td>2.7e-04 </td><td>9.0e-05</td><td>1.2e-04</td><td>1.08e-02 </td><td>nan        </td><td>nan°   </td></tr>\\n<tr><td>4by1 </td><td>18.6m     </td><td>0.053  </td><td>2.187  </td><td>1.0e-04 </td><td>1.4e-04</td><td>2.1e-04</td><td>8.28e-03 </td><td>nan        </td><td>nan°   </td></tr>\\n<tr><td>Avg. </td><td>18.3      </td><td>0.057  </td><td>2.20   </td><td>        </td><td>       </td><td>       </td><td>         </td><td>           </td><td>       </td></tr>\\n</tbody>\\n</table>'"
      ]
     },
     "metadata": {},
     "output_type": "display_data"
    },
    {
     "data": {
      "text/html": [
       "<table>\n",
       "<tbody>\n",
       "<tr><td>Relative</td><td>EST RMSE: Pos (XYZ)</td><td>POS  </td><td>Ang  </td><td>BIAS: Pos           </td><td>Ang   </td></tr>\n",
       "<tr><td>1-&gt;2    </td><td>0.016,0.015,0.011  </td><td>0.024</td><td>0.68°</td><td>-0.004,+0.004,-0.002</td><td>+0.10°</td></tr>\n",
       "<tr><td>1-&gt;3    </td><td>0.011,0.010,0.013  </td><td>0.019</td><td>0.89°</td><td>0.002,+0.003,+0.000 </td><td>+0.03°</td></tr>\n",
       "<tr><td>1-&gt;4    </td><td>0.007,0.008,0.011  </td><td>0.015</td><td>0.65°</td><td>-0.000,+0.001,-0.001</td><td>+0.01°</td></tr>\n",
       "<tr><td>Avg:    </td><td>                   </td><td>0.020</td><td>0.74°</td><td>                    </td><td>      </td></tr>\n",
       "</tbody>\n",
       "</table>"
      ],
      "text/plain": [
       "'<table>\\n<tbody>\\n<tr><td>Relative</td><td>EST RMSE: Pos (XYZ)</td><td>POS  </td><td>Ang  </td><td>BIAS: Pos           </td><td>Ang   </td></tr>\\n<tr><td>1-&gt;2    </td><td>0.016,0.015,0.011  </td><td>0.024</td><td>0.68°</td><td>-0.004,+0.004,-0.002</td><td>+0.10°</td></tr>\\n<tr><td>1-&gt;3    </td><td>0.011,0.010,0.013  </td><td>0.019</td><td>0.89°</td><td>0.002,+0.003,+0.000 </td><td>+0.03°</td></tr>\\n<tr><td>1-&gt;4    </td><td>0.007,0.008,0.011  </td><td>0.015</td><td>0.65°</td><td>-0.000,+0.001,-0.001</td><td>+0.01°</td></tr>\\n<tr><td>Avg:    </td><td>                   </td><td>0.020</td><td>0.74°</td><td>                    </td><td>      </td></tr>\\n</tbody>\\n</table>'"
      ]
     },
     "metadata": {},
     "output_type": "display_data"
    },
    {
     "name": "stdout",
     "output_type": "stream",
     "text": [
      "VINS-Mono\n"
     ]
    },
    {
     "data": {
      "text/html": [
       "<table>\n",
       "<tbody>\n",
       "<tr><td>Drone</td><td>Traj. Len.</td><td>ATE Pos</td><td>ATE Att</td><td>Cov/m: x</td><td>y      </td><td>z      </td><td>Cov Att/m</td><td>PGO:ATE Pos</td><td>ATE Att</td></tr>\n",
       "<tr><td>1by1 </td><td>18.2m     </td><td>0.056  </td><td>2.659  </td><td>1.2e-04 </td><td>6.6e-05</td><td>4.8e-05</td><td>1.03e-02 </td><td>nan        </td><td>nan°   </td></tr>\n",
       "<tr><td>2by1 </td><td>20.0m     </td><td>0.052  </td><td>1.425  </td><td>1.5e-04 </td><td>1.1e-04</td><td>4.0e-05</td><td>7.07e-03 </td><td>nan        </td><td>nan°   </td></tr>\n",
       "<tr><td>3by1 </td><td>16.0m     </td><td>0.208  </td><td>6.331  </td><td>5.5e-04 </td><td>8.7e-04</td><td>5.9e-05</td><td>4.67e-03 </td><td>nan        </td><td>nan°   </td></tr>\n",
       "<tr><td>4by1 </td><td>18.2m     </td><td>0.117  </td><td>5.631  </td><td>7.0e-04 </td><td>7.2e-04</td><td>8.6e-05</td><td>1.72e-02 </td><td>nan        </td><td>nan°   </td></tr>\n",
       "<tr><td>Avg. </td><td>18.1      </td><td>0.108  </td><td>4.01   </td><td>        </td><td>       </td><td>       </td><td>         </td><td>           </td><td>       </td></tr>\n",
       "</tbody>\n",
       "</table>"
      ],
      "text/plain": [
       "'<table>\\n<tbody>\\n<tr><td>Drone</td><td>Traj. Len.</td><td>ATE Pos</td><td>ATE Att</td><td>Cov/m: x</td><td>y      </td><td>z      </td><td>Cov Att/m</td><td>PGO:ATE Pos</td><td>ATE Att</td></tr>\\n<tr><td>1by1 </td><td>18.2m     </td><td>0.056  </td><td>2.659  </td><td>1.2e-04 </td><td>6.6e-05</td><td>4.8e-05</td><td>1.03e-02 </td><td>nan        </td><td>nan°   </td></tr>\\n<tr><td>2by1 </td><td>20.0m     </td><td>0.052  </td><td>1.425  </td><td>1.5e-04 </td><td>1.1e-04</td><td>4.0e-05</td><td>7.07e-03 </td><td>nan        </td><td>nan°   </td></tr>\\n<tr><td>3by1 </td><td>16.0m     </td><td>0.208  </td><td>6.331  </td><td>5.5e-04 </td><td>8.7e-04</td><td>5.9e-05</td><td>4.67e-03 </td><td>nan        </td><td>nan°   </td></tr>\\n<tr><td>4by1 </td><td>18.2m     </td><td>0.117  </td><td>5.631  </td><td>7.0e-04 </td><td>7.2e-04</td><td>8.6e-05</td><td>1.72e-02 </td><td>nan        </td><td>nan°   </td></tr>\\n<tr><td>Avg. </td><td>18.1      </td><td>0.108  </td><td>4.01   </td><td>        </td><td>       </td><td>       </td><td>         </td><td>           </td><td>       </td></tr>\\n</tbody>\\n</table>'"
      ]
     },
     "metadata": {},
     "output_type": "display_data"
    },
    {
     "data": {
      "text/html": [
       "<table>\n",
       "<tbody>\n",
       "<tr><td>Relative</td><td>EST RMSE: Pos (XYZ)</td><td>POS  </td><td>Ang  </td><td>BIAS: Pos           </td><td>Ang   </td></tr>\n",
       "<tr><td>1-&gt;2    </td><td>0.035,0.059,0.014  </td><td>0.070</td><td>2.70°</td><td>-0.005,+0.044,-0.005</td><td>-2.67°</td></tr>\n",
       "<tr><td>1-&gt;3    </td><td>0.075,0.165,0.018  </td><td>0.182</td><td>4.13°</td><td>-0.007,-0.139,-0.017</td><td>+4.11°</td></tr>\n",
       "<tr><td>1-&gt;4    </td><td>0.033,0.072,0.036  </td><td>0.088</td><td>1.44°</td><td>-0.011,-0.067,+0.035</td><td>-1.37°</td></tr>\n",
       "<tr><td>Avg:    </td><td>                   </td><td>0.113</td><td>2.76°</td><td>                    </td><td>      </td></tr>\n",
       "</tbody>\n",
       "</table>"
      ],
      "text/plain": [
       "'<table>\\n<tbody>\\n<tr><td>Relative</td><td>EST RMSE: Pos (XYZ)</td><td>POS  </td><td>Ang  </td><td>BIAS: Pos           </td><td>Ang   </td></tr>\\n<tr><td>1-&gt;2    </td><td>0.035,0.059,0.014  </td><td>0.070</td><td>2.70°</td><td>-0.005,+0.044,-0.005</td><td>-2.67°</td></tr>\\n<tr><td>1-&gt;3    </td><td>0.075,0.165,0.018  </td><td>0.182</td><td>4.13°</td><td>-0.007,-0.139,-0.017</td><td>+4.11°</td></tr>\\n<tr><td>1-&gt;4    </td><td>0.033,0.072,0.036  </td><td>0.088</td><td>1.44°</td><td>-0.011,-0.067,+0.035</td><td>-1.37°</td></tr>\\n<tr><td>Avg:    </td><td>                   </td><td>0.113</td><td>2.76°</td><td>                    </td><td>      </td></tr>\\n</tbody>\\n</table>'"
      ]
     },
     "metadata": {},
     "output_type": "display_data"
    }
   ],
   "source": [
    "nodes = [1, 2, 3, 4]\n",
    "output_folder = \"/home/xuhao/data/d2slam/tum_datasets/outputs/d2vins-4/swarm1\"\n",
    "data_folder=\"/home/xuhao/data/d2slam/tum_datasets/\"\n",
    "dte = 30\n",
    "paths_gt, t0 = read_paths(data_folder, nodes, prefix=\"groundtruth\")\n",
    "paths_vo, t0 = read_paths(data_folder, nodes, prefix=\"vins-mono\", t0=t0)\n",
    "paths, _ = read_paths(output_folder, nodes, t0=t0)\n",
    "align_paths(paths_vo, paths_gt)\n",
    "display(plot_fused_err(nodes, paths, paths_gt, dte=dte, show=False))\n",
    "display(plot_relative_pose_err(1, nodes[1:], paths, paths_gt, dte=dte, show=False))\n",
    "# plot_fused(nodes, paths, poses_gt=paths_gt, figsize=(10,10))\n",
    "\n",
    "print(\"VINS-Mono\")\n",
    "display(plot_fused_err(nodes, paths_vo, paths_gt, dte=dte, show=False))\n",
    "display(plot_relative_pose_err(1, nodes[1:], paths_vo, paths_gt, dte=dte, show=False))\n",
    "# plot_fused(nodes, paths_vo, poses_gt=paths_gt, figsize=(10,10))\n"
   ]
  },
  {
   "cell_type": "code",
   "execution_count": 19,
   "metadata": {},
   "outputs": [
    {
     "data": {
      "text/html": [
       "<table>\n",
       "<tbody>\n",
       "<tr><td>Drone</td><td>Traj. Len.</td><td>ATE Pos</td><td>ATE Att</td><td>Cov/m: x</td><td>y      </td><td>z      </td><td>Cov Att/m</td><td>PGO:ATE Pos</td><td>ATE Att</td></tr>\n",
       "<tr><td>1by1 </td><td>18.0m     </td><td>0.050  </td><td>1.265  </td><td>2.3e-04 </td><td>9.7e-05</td><td>3.5e-04</td><td>1.09e-02 </td><td>nan        </td><td>nan°   </td></tr>\n",
       "<tr><td>2by1 </td><td>22.5m     </td><td>0.067  </td><td>1.031  </td><td>2.6e-03 </td><td>2.9e-04</td><td>7.5e-04</td><td>8.97e-03 </td><td>nan        </td><td>nan°   </td></tr>\n",
       "<tr><td>3by1 </td><td>18.7m     </td><td>0.059  </td><td>1.307  </td><td>9.6e-04 </td><td>9.7e-04</td><td>3.4e-04</td><td>8.99e-03 </td><td>nan        </td><td>nan°   </td></tr>\n",
       "<tr><td>4by1 </td><td>20.6m     </td><td>0.128  </td><td>1.684  </td><td>7.2e-04 </td><td>1.2e-04</td><td>3.6e-04</td><td>7.80e-03 </td><td>nan        </td><td>nan°   </td></tr>\n",
       "<tr><td>5by1 </td><td>16.0m     </td><td>0.092  </td><td>1.447  </td><td>5.3e-03 </td><td>1.9e-03</td><td>5.4e-03</td><td>2.76e-02 </td><td>nan        </td><td>nan°   </td></tr>\n",
       "<tr><td>Avg. </td><td>19.2      </td><td>0.079  </td><td>1.35   </td><td>        </td><td>       </td><td>       </td><td>         </td><td>           </td><td>       </td></tr>\n",
       "</tbody>\n",
       "</table>"
      ],
      "text/plain": [
       "'<table>\\n<tbody>\\n<tr><td>Drone</td><td>Traj. Len.</td><td>ATE Pos</td><td>ATE Att</td><td>Cov/m: x</td><td>y      </td><td>z      </td><td>Cov Att/m</td><td>PGO:ATE Pos</td><td>ATE Att</td></tr>\\n<tr><td>1by1 </td><td>18.0m     </td><td>0.050  </td><td>1.265  </td><td>2.3e-04 </td><td>9.7e-05</td><td>3.5e-04</td><td>1.09e-02 </td><td>nan        </td><td>nan°   </td></tr>\\n<tr><td>2by1 </td><td>22.5m     </td><td>0.067  </td><td>1.031  </td><td>2.6e-03 </td><td>2.9e-04</td><td>7.5e-04</td><td>8.97e-03 </td><td>nan        </td><td>nan°   </td></tr>\\n<tr><td>3by1 </td><td>18.7m     </td><td>0.059  </td><td>1.307  </td><td>9.6e-04 </td><td>9.7e-04</td><td>3.4e-04</td><td>8.99e-03 </td><td>nan        </td><td>nan°   </td></tr>\\n<tr><td>4by1 </td><td>20.6m     </td><td>0.128  </td><td>1.684  </td><td>7.2e-04 </td><td>1.2e-04</td><td>3.6e-04</td><td>7.80e-03 </td><td>nan        </td><td>nan°   </td></tr>\\n<tr><td>5by1 </td><td>16.0m     </td><td>0.092  </td><td>1.447  </td><td>5.3e-03 </td><td>1.9e-03</td><td>5.4e-03</td><td>2.76e-02 </td><td>nan        </td><td>nan°   </td></tr>\\n<tr><td>Avg. </td><td>19.2      </td><td>0.079  </td><td>1.35   </td><td>        </td><td>       </td><td>       </td><td>         </td><td>           </td><td>       </td></tr>\\n</tbody>\\n</table>'"
      ]
     },
     "metadata": {},
     "output_type": "display_data"
    },
    {
     "data": {
      "text/html": [
       "<table>\n",
       "<tbody>\n",
       "<tr><td>Relative</td><td>EST RMSE: Pos (XYZ)</td><td>POS  </td><td>Ang  </td><td>BIAS: Pos          </td><td>Ang   </td></tr>\n",
       "<tr><td>1-&gt;2    </td><td>0.042,0.024,0.019  </td><td>0.052</td><td>0.77°</td><td>0.002,+0.006,+0.003</td><td>+0.10°</td></tr>\n",
       "<tr><td>1-&gt;3    </td><td>0.023,0.014,0.018  </td><td>0.033</td><td>0.80°</td><td>0.002,-0.001,-0.003</td><td>+0.14°</td></tr>\n",
       "<tr><td>1-&gt;4    </td><td>0.028,0.010,0.018  </td><td>0.035</td><td>0.71°</td><td>0.003,+0.000,-0.003</td><td>-0.01°</td></tr>\n",
       "<tr><td>1-&gt;5    </td><td>0.028,0.009,0.018  </td><td>0.034</td><td>0.64°</td><td>0.008,+0.001,+0.001</td><td>-0.05°</td></tr>\n",
       "<tr><td>Avg:    </td><td>                   </td><td>0.039</td><td>0.73°</td><td>                   </td><td>      </td></tr>\n",
       "</tbody>\n",
       "</table>"
      ],
      "text/plain": [
       "'<table>\\n<tbody>\\n<tr><td>Relative</td><td>EST RMSE: Pos (XYZ)</td><td>POS  </td><td>Ang  </td><td>BIAS: Pos          </td><td>Ang   </td></tr>\\n<tr><td>1-&gt;2    </td><td>0.042,0.024,0.019  </td><td>0.052</td><td>0.77°</td><td>0.002,+0.006,+0.003</td><td>+0.10°</td></tr>\\n<tr><td>1-&gt;3    </td><td>0.023,0.014,0.018  </td><td>0.033</td><td>0.80°</td><td>0.002,-0.001,-0.003</td><td>+0.14°</td></tr>\\n<tr><td>1-&gt;4    </td><td>0.028,0.010,0.018  </td><td>0.035</td><td>0.71°</td><td>0.003,+0.000,-0.003</td><td>-0.01°</td></tr>\\n<tr><td>1-&gt;5    </td><td>0.028,0.009,0.018  </td><td>0.034</td><td>0.64°</td><td>0.008,+0.001,+0.001</td><td>-0.05°</td></tr>\\n<tr><td>Avg:    </td><td>                   </td><td>0.039</td><td>0.73°</td><td>                   </td><td>      </td></tr>\\n</tbody>\\n</table>'"
      ]
     },
     "metadata": {},
     "output_type": "display_data"
    },
    {
     "name": "stdout",
     "output_type": "stream",
     "text": [
      "VINS-Mono\n"
     ]
    },
    {
     "data": {
      "text/html": [
       "<table>\n",
       "<tbody>\n",
       "<tr><td>Drone</td><td>Traj. Len.</td><td>ATE Pos</td><td>ATE Att</td><td>Cov/m: x</td><td>y      </td><td>z      </td><td>Cov Att/m</td><td>PGO:ATE Pos</td><td>ATE Att</td></tr>\n",
       "<tr><td>1by1 </td><td>18.2m     </td><td>0.056  </td><td>2.659  </td><td>1.2e-04 </td><td>6.6e-05</td><td>4.8e-05</td><td>1.03e-02 </td><td>nan        </td><td>nan°   </td></tr>\n",
       "<tr><td>2by1 </td><td>20.0m     </td><td>0.052  </td><td>1.425  </td><td>1.5e-04 </td><td>1.1e-04</td><td>4.0e-05</td><td>7.07e-03 </td><td>nan        </td><td>nan°   </td></tr>\n",
       "<tr><td>3by1 </td><td>16.0m     </td><td>0.208  </td><td>6.331  </td><td>5.5e-04 </td><td>8.7e-04</td><td>5.9e-05</td><td>4.67e-03 </td><td>nan        </td><td>nan°   </td></tr>\n",
       "<tr><td>4by1 </td><td>18.2m     </td><td>0.117  </td><td>5.631  </td><td>7.0e-04 </td><td>7.2e-04</td><td>8.6e-05</td><td>1.72e-02 </td><td>nan        </td><td>nan°   </td></tr>\n",
       "<tr><td>5by1 </td><td>13.8m     </td><td>0.071  </td><td>6.646  </td><td>1.3e-03 </td><td>4.8e-04</td><td>1.8e-03</td><td>7.23e-03 </td><td>nan        </td><td>nan°   </td></tr>\n",
       "<tr><td>Avg. </td><td>17.3      </td><td>0.101  </td><td>4.54   </td><td>        </td><td>       </td><td>       </td><td>         </td><td>           </td><td>       </td></tr>\n",
       "</tbody>\n",
       "</table>"
      ],
      "text/plain": [
       "'<table>\\n<tbody>\\n<tr><td>Drone</td><td>Traj. Len.</td><td>ATE Pos</td><td>ATE Att</td><td>Cov/m: x</td><td>y      </td><td>z      </td><td>Cov Att/m</td><td>PGO:ATE Pos</td><td>ATE Att</td></tr>\\n<tr><td>1by1 </td><td>18.2m     </td><td>0.056  </td><td>2.659  </td><td>1.2e-04 </td><td>6.6e-05</td><td>4.8e-05</td><td>1.03e-02 </td><td>nan        </td><td>nan°   </td></tr>\\n<tr><td>2by1 </td><td>20.0m     </td><td>0.052  </td><td>1.425  </td><td>1.5e-04 </td><td>1.1e-04</td><td>4.0e-05</td><td>7.07e-03 </td><td>nan        </td><td>nan°   </td></tr>\\n<tr><td>3by1 </td><td>16.0m     </td><td>0.208  </td><td>6.331  </td><td>5.5e-04 </td><td>8.7e-04</td><td>5.9e-05</td><td>4.67e-03 </td><td>nan        </td><td>nan°   </td></tr>\\n<tr><td>4by1 </td><td>18.2m     </td><td>0.117  </td><td>5.631  </td><td>7.0e-04 </td><td>7.2e-04</td><td>8.6e-05</td><td>1.72e-02 </td><td>nan        </td><td>nan°   </td></tr>\\n<tr><td>5by1 </td><td>13.8m     </td><td>0.071  </td><td>6.646  </td><td>1.3e-03 </td><td>4.8e-04</td><td>1.8e-03</td><td>7.23e-03 </td><td>nan        </td><td>nan°   </td></tr>\\n<tr><td>Avg. </td><td>17.3      </td><td>0.101  </td><td>4.54   </td><td>        </td><td>       </td><td>       </td><td>         </td><td>           </td><td>       </td></tr>\\n</tbody>\\n</table>'"
      ]
     },
     "metadata": {},
     "output_type": "display_data"
    },
    {
     "data": {
      "text/html": [
       "<table>\n",
       "<tbody>\n",
       "<tr><td>Relative</td><td>EST RMSE: Pos (XYZ)</td><td>POS  </td><td>Ang  </td><td>BIAS: Pos           </td><td>Ang   </td></tr>\n",
       "<tr><td>1-&gt;2    </td><td>0.035,0.059,0.014  </td><td>0.070</td><td>2.70°</td><td>-0.005,+0.044,-0.005</td><td>-2.67°</td></tr>\n",
       "<tr><td>1-&gt;3    </td><td>0.075,0.165,0.018  </td><td>0.182</td><td>4.13°</td><td>-0.007,-0.139,-0.017</td><td>+4.11°</td></tr>\n",
       "<tr><td>1-&gt;4    </td><td>0.033,0.072,0.036  </td><td>0.088</td><td>1.44°</td><td>-0.011,-0.067,+0.035</td><td>-1.37°</td></tr>\n",
       "<tr><td>1-&gt;5    </td><td>0.083,0.044,0.023  </td><td>0.097</td><td>5.44°</td><td>-0.080,-0.007,-0.022</td><td>-5.42°</td></tr>\n",
       "<tr><td>Avg:    </td><td>                   </td><td>0.109</td><td>3.43°</td><td>                    </td><td>      </td></tr>\n",
       "</tbody>\n",
       "</table>"
      ],
      "text/plain": [
       "'<table>\\n<tbody>\\n<tr><td>Relative</td><td>EST RMSE: Pos (XYZ)</td><td>POS  </td><td>Ang  </td><td>BIAS: Pos           </td><td>Ang   </td></tr>\\n<tr><td>1-&gt;2    </td><td>0.035,0.059,0.014  </td><td>0.070</td><td>2.70°</td><td>-0.005,+0.044,-0.005</td><td>-2.67°</td></tr>\\n<tr><td>1-&gt;3    </td><td>0.075,0.165,0.018  </td><td>0.182</td><td>4.13°</td><td>-0.007,-0.139,-0.017</td><td>+4.11°</td></tr>\\n<tr><td>1-&gt;4    </td><td>0.033,0.072,0.036  </td><td>0.088</td><td>1.44°</td><td>-0.011,-0.067,+0.035</td><td>-1.37°</td></tr>\\n<tr><td>1-&gt;5    </td><td>0.083,0.044,0.023  </td><td>0.097</td><td>5.44°</td><td>-0.080,-0.007,-0.022</td><td>-5.42°</td></tr>\\n<tr><td>Avg:    </td><td>                   </td><td>0.109</td><td>3.43°</td><td>                    </td><td>      </td></tr>\\n</tbody>\\n</table>'"
      ]
     },
     "metadata": {},
     "output_type": "display_data"
    }
   ],
   "source": [
    "nodes = [1, 2, 3, 4, 5]\n",
    "output_folder = \"/home/xuhao/data/d2slam/tum_datasets/outputs/d2vins-5/swarm1\"\n",
    "data_folder=\"/home/xuhao/data/d2slam/tum_datasets/\"\n",
    "dte = 30\n",
    "paths_gt, t0 = read_paths(data_folder, nodes, prefix=\"groundtruth\")\n",
    "paths_vo, t0 = read_paths(data_folder, nodes, prefix=\"vins-mono\", t0=t0)\n",
    "paths, _ = read_paths(output_folder, nodes, t0=t0)\n",
    "align_paths(paths_vo, paths_gt)\n",
    "display(plot_fused_err(nodes, paths, paths_gt, dte=dte, show=False))\n",
    "display(plot_relative_pose_err(1, nodes[1:], paths, paths_gt, dte=dte, show=False))\n",
    "# plot_fused(nodes, paths, poses_gt=paths_gt, figsize=(10,10))\n",
    "\n",
    "print(\"VINS-Mono\")\n",
    "display(plot_fused_err(nodes, paths_vo, paths_gt, dte=dte, show=False))\n",
    "display(plot_relative_pose_err(1, nodes[1:], paths_vo, paths_gt, dte=dte, show=False))\n",
    "# plot_fused(nodes, paths_vo, poses_gt=paths_gt, figsize=(10,10))\n"
   ]
  },
  {
   "cell_type": "code",
   "execution_count": 20,
   "metadata": {},
   "outputs": [
    {
     "data": {
      "text/html": [
       "<table>\n",
       "<tbody>\n",
       "<tr><td>Drone</td><td>Traj. Len.</td><td>ATE Pos</td><td>ATE Att</td><td>Cov/m: x</td><td>y      </td><td>z      </td><td>Cov Att/m</td><td>PGO:ATE Pos</td><td>ATE Att</td></tr>\n",
       "<tr><td>1by1 </td><td>18.1m     </td><td>0.106  </td><td>4.435  </td><td>3.3e-04 </td><td>1.7e-04</td><td>2.7e-04</td><td>1.39e-01 </td><td>nan        </td><td>nan°   </td></tr>\n",
       "<tr><td>2by1 </td><td>21.6m     </td><td>0.107  </td><td>4.282  </td><td>3.0e-04 </td><td>3.2e-04</td><td>1.4e-03</td><td>4.17e-02 </td><td>nan        </td><td>nan°   </td></tr>\n",
       "<tr><td>3by1 </td><td>17.6m     </td><td>0.123  </td><td>4.958  </td><td>6.3e-04 </td><td>4.8e-04</td><td>7.5e-04</td><td>3.42e-02 </td><td>nan        </td><td>nan°   </td></tr>\n",
       "<tr><td>4by1 </td><td>19.3m     </td><td>0.108  </td><td>4.374  </td><td>2.8e-04 </td><td>3.2e-04</td><td>7.3e-04</td><td>3.63e-02 </td><td>nan        </td><td>nan°   </td></tr>\n",
       "<tr><td>5by1 </td><td>16.1m     </td><td>0.095  </td><td>4.469  </td><td>1.1e-03 </td><td>4.9e-04</td><td>1.1e-03</td><td>3.09e-02 </td><td>nan        </td><td>nan°   </td></tr>\n",
       "<tr><td>Avg. </td><td>18.5      </td><td>0.108  </td><td>4.50   </td><td>        </td><td>       </td><td>       </td><td>         </td><td>           </td><td>       </td></tr>\n",
       "</tbody>\n",
       "</table>"
      ],
      "text/plain": [
       "'<table>\\n<tbody>\\n<tr><td>Drone</td><td>Traj. Len.</td><td>ATE Pos</td><td>ATE Att</td><td>Cov/m: x</td><td>y      </td><td>z      </td><td>Cov Att/m</td><td>PGO:ATE Pos</td><td>ATE Att</td></tr>\\n<tr><td>1by1 </td><td>18.1m     </td><td>0.106  </td><td>4.435  </td><td>3.3e-04 </td><td>1.7e-04</td><td>2.7e-04</td><td>1.39e-01 </td><td>nan        </td><td>nan°   </td></tr>\\n<tr><td>2by1 </td><td>21.6m     </td><td>0.107  </td><td>4.282  </td><td>3.0e-04 </td><td>3.2e-04</td><td>1.4e-03</td><td>4.17e-02 </td><td>nan        </td><td>nan°   </td></tr>\\n<tr><td>3by1 </td><td>17.6m     </td><td>0.123  </td><td>4.958  </td><td>6.3e-04 </td><td>4.8e-04</td><td>7.5e-04</td><td>3.42e-02 </td><td>nan        </td><td>nan°   </td></tr>\\n<tr><td>4by1 </td><td>19.3m     </td><td>0.108  </td><td>4.374  </td><td>2.8e-04 </td><td>3.2e-04</td><td>7.3e-04</td><td>3.63e-02 </td><td>nan        </td><td>nan°   </td></tr>\\n<tr><td>5by1 </td><td>16.1m     </td><td>0.095  </td><td>4.469  </td><td>1.1e-03 </td><td>4.9e-04</td><td>1.1e-03</td><td>3.09e-02 </td><td>nan        </td><td>nan°   </td></tr>\\n<tr><td>Avg. </td><td>18.5      </td><td>0.108  </td><td>4.50   </td><td>        </td><td>       </td><td>       </td><td>         </td><td>           </td><td>       </td></tr>\\n</tbody>\\n</table>'"
      ]
     },
     "metadata": {},
     "output_type": "display_data"
    },
    {
     "data": {
      "text/html": [
       "<table>\n",
       "<tbody>\n",
       "<tr><td>Relative</td><td>EST RMSE: Pos (XYZ)</td><td>POS  </td><td>Ang  </td><td>BIAS: Pos           </td><td>Ang   </td></tr>\n",
       "<tr><td>1-&gt;2    </td><td>0.035,0.026,0.025  </td><td>0.050</td><td>1.17°</td><td>-0.011,+0.002,+0.005</td><td>+0.34°</td></tr>\n",
       "<tr><td>1-&gt;3    </td><td>0.032,0.023,0.023  </td><td>0.045</td><td>1.10°</td><td>-0.005,-0.005,+0.001</td><td>+0.38°</td></tr>\n",
       "<tr><td>1-&gt;4    </td><td>0.009,0.011,0.021  </td><td>0.026</td><td>0.70°</td><td>-0.001,-0.001,+0.003</td><td>+0.09°</td></tr>\n",
       "<tr><td>1-&gt;5    </td><td>0.009,0.008,0.023  </td><td>0.026</td><td>0.59°</td><td>0.001,+0.003,+0.002 </td><td>+0.08°</td></tr>\n",
       "<tr><td>Avg:    </td><td>                   </td><td>0.037</td><td>0.89°</td><td>                    </td><td>      </td></tr>\n",
       "</tbody>\n",
       "</table>"
      ],
      "text/plain": [
       "'<table>\\n<tbody>\\n<tr><td>Relative</td><td>EST RMSE: Pos (XYZ)</td><td>POS  </td><td>Ang  </td><td>BIAS: Pos           </td><td>Ang   </td></tr>\\n<tr><td>1-&gt;2    </td><td>0.035,0.026,0.025  </td><td>0.050</td><td>1.17°</td><td>-0.011,+0.002,+0.005</td><td>+0.34°</td></tr>\\n<tr><td>1-&gt;3    </td><td>0.032,0.023,0.023  </td><td>0.045</td><td>1.10°</td><td>-0.005,-0.005,+0.001</td><td>+0.38°</td></tr>\\n<tr><td>1-&gt;4    </td><td>0.009,0.011,0.021  </td><td>0.026</td><td>0.70°</td><td>-0.001,-0.001,+0.003</td><td>+0.09°</td></tr>\\n<tr><td>1-&gt;5    </td><td>0.009,0.008,0.023  </td><td>0.026</td><td>0.59°</td><td>0.001,+0.003,+0.002 </td><td>+0.08°</td></tr>\\n<tr><td>Avg:    </td><td>                   </td><td>0.037</td><td>0.89°</td><td>                    </td><td>      </td></tr>\\n</tbody>\\n</table>'"
      ]
     },
     "metadata": {},
     "output_type": "display_data"
    }
   ],
   "source": [
    "nodes = [1, 2, 3, 4, 5]\n",
    "output_folder = \"/home/xuhao/data/d2slam/tum_datasets/outputs/d2vins-5-async/swarm1\"\n",
    "data_folder=\"/home/xuhao/data/d2slam/tum_datasets/\"\n",
    "dte = 30\n",
    "paths_gt, t0 = read_paths(data_folder, nodes, prefix=\"groundtruth\")\n",
    "paths, _ = read_paths(output_folder, nodes, t0=t0)\n",
    "display(plot_fused_err(nodes, paths, paths_gt, dte=dte, show=False))\n",
    "display(plot_relative_pose_err(1, nodes[1:], paths, paths_gt, dte=dte, show=False))"
   ]
  },
  {
   "cell_type": "code",
   "execution_count": 7,
   "metadata": {},
   "outputs": [
    {
     "name": "stdout",
     "output_type": "stream",
     "text": [
      "[  6.15027261   6.25027966   6.4504118  ... 138.8546164  139.05462241\n",
      " 139.30456614]\n"
     ]
    },
    {
     "data": {
      "text/html": [
       "<table>\n",
       "<tbody>\n",
       "<tr><td>Drone</td><td>Traj. Len.</td><td>ATE Pos</td><td>ATE Att</td><td>Cov/m: x</td><td>y      </td><td>z      </td><td>Cov Att/m</td><td>PGO:ATE Pos</td><td>ATE Att</td></tr>\n",
       "<tr><td>1    </td><td>145.4m    </td><td>0.126  </td><td>1.563  </td><td>3.4e-04 </td><td>4.0e-04</td><td>1.7e-04</td><td>5.99e-03 </td><td>0.025      </td><td>0.718° </td></tr>\n",
       "<tr><td>2    </td><td>140.9m    </td><td>0.158  </td><td>3.113  </td><td>3.2e-03 </td><td>1.8e-03</td><td>9.2e-05</td><td>5.70e-03 </td><td>0.027      </td><td>0.710° </td></tr>\n",
       "<tr><td>3    </td><td>136.0m    </td><td>0.137  </td><td>5.789  </td><td>1.2e-02 </td><td>1.8e-03</td><td>2.3e-04</td><td>1.12e-01 </td><td>0.024      </td><td>0.743° </td></tr>\n",
       "<tr><td>4    </td><td>67.7m     </td><td>0.096  </td><td>2.193  </td><td>3.7e-04 </td><td>6.0e-04</td><td>4.8e-04</td><td>7.43e-03 </td><td>0.046      </td><td>0.657° </td></tr>\n",
       "<tr><td>5    </td><td>129.1m    </td><td>0.146  </td><td>1.947  </td><td>1.5e-03 </td><td>7.7e-04</td><td>5.6e-04</td><td>2.33e-02 </td><td>0.039      </td><td>0.749° </td></tr>\n",
       "<tr><td>Avg. </td><td>123.8     </td><td>0.133  </td><td>2.92   </td><td>        </td><td>       </td><td>       </td><td>         </td><td>0.032      </td><td>0.72   </td></tr>\n",
       "</tbody>\n",
       "</table>"
      ],
      "text/plain": [
       "'<table>\\n<tbody>\\n<tr><td>Drone</td><td>Traj. Len.</td><td>ATE Pos</td><td>ATE Att</td><td>Cov/m: x</td><td>y      </td><td>z      </td><td>Cov Att/m</td><td>PGO:ATE Pos</td><td>ATE Att</td></tr>\\n<tr><td>1    </td><td>145.4m    </td><td>0.126  </td><td>1.563  </td><td>3.4e-04 </td><td>4.0e-04</td><td>1.7e-04</td><td>5.99e-03 </td><td>0.025      </td><td>0.718° </td></tr>\\n<tr><td>2    </td><td>140.9m    </td><td>0.158  </td><td>3.113  </td><td>3.2e-03 </td><td>1.8e-03</td><td>9.2e-05</td><td>5.70e-03 </td><td>0.027      </td><td>0.710° </td></tr>\\n<tr><td>3    </td><td>136.0m    </td><td>0.137  </td><td>5.789  </td><td>1.2e-02 </td><td>1.8e-03</td><td>2.3e-04</td><td>1.12e-01 </td><td>0.024      </td><td>0.743° </td></tr>\\n<tr><td>4    </td><td>67.7m     </td><td>0.096  </td><td>2.193  </td><td>3.7e-04 </td><td>6.0e-04</td><td>4.8e-04</td><td>7.43e-03 </td><td>0.046      </td><td>0.657° </td></tr>\\n<tr><td>5    </td><td>129.1m    </td><td>0.146  </td><td>1.947  </td><td>1.5e-03 </td><td>7.7e-04</td><td>5.6e-04</td><td>2.33e-02 </td><td>0.039      </td><td>0.749° </td></tr>\\n<tr><td>Avg. </td><td>123.8     </td><td>0.133  </td><td>2.92   </td><td>        </td><td>       </td><td>       </td><td>         </td><td>0.032      </td><td>0.72   </td></tr>\\n</tbody>\\n</table>'"
      ]
     },
     "metadata": {},
     "output_type": "display_data"
    },
    {
     "data": {
      "text/html": [
       "<table>\n",
       "<tbody>\n",
       "<tr><td>Relative</td><td>EST RMSE: Pos (XYZ)</td><td>POS  </td><td>Ang  </td><td>BIAS: Pos           </td><td>Ang   </td></tr>\n",
       "<tr><td>2-&gt;1    </td><td>0.040,0.047,0.027  </td><td>0.067</td><td>1.53°</td><td>0.009,+0.003,-0.002 </td><td>+0.12°</td></tr>\n",
       "<tr><td>3-&gt;1    </td><td>0.063,0.044,0.032  </td><td>0.083</td><td>2.39°</td><td>-0.002,-0.009,-0.002</td><td>-0.57°</td></tr>\n",
       "<tr><td>3-&gt;2    </td><td>0.079,0.054,0.025  </td><td>0.099</td><td>2.19°</td><td>0.009,-0.011,+0.000 </td><td>+0.86°</td></tr>\n",
       "<tr><td>4-&gt;1    </td><td>0.031,0.039,0.034  </td><td>0.060</td><td>1.42°</td><td>0.002,+0.013,-0.001 </td><td>-0.29°</td></tr>\n",
       "<tr><td>4-&gt;2    </td><td>0.045,0.050,0.033  </td><td>0.075</td><td>1.22°</td><td>0.013,+0.012,-0.003 </td><td>+0.03°</td></tr>\n",
       "<tr><td>4-&gt;3    </td><td>0.063,0.037,0.043  </td><td>0.085</td><td>1.91°</td><td>-0.005,+0.009,+0.002</td><td>-2.60°</td></tr>\n",
       "<tr><td>5-&gt;1    </td><td>0.044,0.049,0.033  </td><td>0.074</td><td>2.03°</td><td>0.001,+0.006,-0.007 </td><td>-0.01°</td></tr>\n",
       "<tr><td>5-&gt;2    </td><td>0.050,0.051,0.027  </td><td>0.076</td><td>1.87°</td><td>-0.007,+0.005,-0.006</td><td>+0.19°</td></tr>\n",
       "<tr><td>5-&gt;3    </td><td>0.068,0.054,0.032  </td><td>0.092</td><td>2.57°</td><td>0.005,+0.014,-0.006 </td><td>+1.29°</td></tr>\n",
       "<tr><td>5-&gt;4    </td><td>0.045,0.048,0.039  </td><td>0.076</td><td>1.86°</td><td>-0.005,+0.012,-0.004</td><td>+0.09°</td></tr>\n",
       "<tr><td>Avg:    </td><td>                   </td><td>0.079</td><td>1.90°</td><td>                    </td><td>      </td></tr>\n",
       "</tbody>\n",
       "</table>"
      ],
      "text/plain": [
       "'<table>\\n<tbody>\\n<tr><td>Relative</td><td>EST RMSE: Pos (XYZ)</td><td>POS  </td><td>Ang  </td><td>BIAS: Pos           </td><td>Ang   </td></tr>\\n<tr><td>2-&gt;1    </td><td>0.040,0.047,0.027  </td><td>0.067</td><td>1.53°</td><td>0.009,+0.003,-0.002 </td><td>+0.12°</td></tr>\\n<tr><td>3-&gt;1    </td><td>0.063,0.044,0.032  </td><td>0.083</td><td>2.39°</td><td>-0.002,-0.009,-0.002</td><td>-0.57°</td></tr>\\n<tr><td>3-&gt;2    </td><td>0.079,0.054,0.025  </td><td>0.099</td><td>2.19°</td><td>0.009,-0.011,+0.000 </td><td>+0.86°</td></tr>\\n<tr><td>4-&gt;1    </td><td>0.031,0.039,0.034  </td><td>0.060</td><td>1.42°</td><td>0.002,+0.013,-0.001 </td><td>-0.29°</td></tr>\\n<tr><td>4-&gt;2    </td><td>0.045,0.050,0.033  </td><td>0.075</td><td>1.22°</td><td>0.013,+0.012,-0.003 </td><td>+0.03°</td></tr>\\n<tr><td>4-&gt;3    </td><td>0.063,0.037,0.043  </td><td>0.085</td><td>1.91°</td><td>-0.005,+0.009,+0.002</td><td>-2.60°</td></tr>\\n<tr><td>5-&gt;1    </td><td>0.044,0.049,0.033  </td><td>0.074</td><td>2.03°</td><td>0.001,+0.006,-0.007 </td><td>-0.01°</td></tr>\\n<tr><td>5-&gt;2    </td><td>0.050,0.051,0.027  </td><td>0.076</td><td>1.87°</td><td>-0.007,+0.005,-0.006</td><td>+0.19°</td></tr>\\n<tr><td>5-&gt;3    </td><td>0.068,0.054,0.032  </td><td>0.092</td><td>2.57°</td><td>0.005,+0.014,-0.006 </td><td>+1.29°</td></tr>\\n<tr><td>5-&gt;4    </td><td>0.045,0.048,0.039  </td><td>0.076</td><td>1.86°</td><td>-0.005,+0.012,-0.004</td><td>+0.09°</td></tr>\\n<tr><td>Avg:    </td><td>                   </td><td>0.079</td><td>1.90°</td><td>                    </td><td>      </td></tr>\\n</tbody>\\n</table>'"
      ]
     },
     "metadata": {},
     "output_type": "display_data"
    }
   ],
   "source": [
    "nodes = [1, 2, 3, 4, 5]\n",
    "output_folder = \"/home/xuhao/data/d2slam/tum_datasets/outputs/d2slam/swarm\"\n",
    "data_folder=\"/home/xuhao/data/d2slam/tum_datasets/\"\n",
    "dte = 550\n",
    "paths, paths_pgo, t0 = read_multi_folder(output_folder, nodes)\n",
    "paths_gt, _ = read_paths(data_folder, nodes, prefix=\"groundtruth_\", t0=t0)\n",
    "align_paths(paths, paths_gt, align_by_first=True)\n",
    "if paths_pgo is not None:\n",
    "    align_paths(paths_pgo, paths_gt, align_by_first=True, align_with_minize=True)\n",
    "display(plot_fused_err(nodes, paths, paths_gt, poses_pgo=paths_pgo, dte=dte, show=False))\n",
    "display(relative_pose_err(nodes, paths, paths_gt, dte=dte))"
   ]
  },
  {
   "cell_type": "code",
   "execution_count": null,
   "metadata": {},
   "outputs": [],
   "source": []
  }
 ],
 "metadata": {
  "kernelspec": {
   "display_name": "Python 3 (ipykernel)",
   "language": "python",
   "name": "python3"
  },
  "language_info": {
   "codemirror_mode": {
    "name": "ipython",
    "version": 3
   },
   "file_extension": ".py",
   "mimetype": "text/x-python",
   "name": "python",
   "nbconvert_exporter": "python",
   "pygments_lexer": "ipython3",
   "version": "3.8.5"
  },
  "vscode": {
   "interpreter": {
    "hash": "08ce52785f0fedc81003ce387e097a83d6cc9494681cd746006386992005bb71"
   }
  }
 },
 "nbformat": 4,
 "nbformat_minor": 4
}
