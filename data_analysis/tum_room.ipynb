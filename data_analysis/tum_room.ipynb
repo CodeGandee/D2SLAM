{
 "cells": [
  {
   "cell_type": "code",
   "execution_count": 1,
   "metadata": {},
   "outputs": [],
   "source": [
    "%matplotlib inline\n",
    "%load_ext autoreload\n",
    "%autoreload 2\n",
    "from local_plot import *\n",
    "from utils import *\n"
   ]
  },
  {
   "cell_type": "code",
   "execution_count": 9,
   "metadata": {},
   "outputs": [
    {
     "data": {
      "text/html": [
       "<table>\n",
       "<tbody>\n",
       "<tr><td>Drone</td><td>Traj. Len</td><td>ATE Pos</td><td>ATE Att</td><td>Cov/m: x</td><td>y      </td><td>z      </td><td>PGO:ATE Pos</td><td>ATE Att</td></tr>\n",
       "<tr><td>1by1 </td><td>28.0m    </td><td>0.035  </td><td>1.054  </td><td>3.7e-04 </td><td>9.6e-05</td><td>1.2e-04</td><td>nan        </td><td>nan°   </td></tr>\n",
       "<tr><td>2by1 </td><td>30.9m    </td><td>0.032  </td><td>0.958  </td><td>1.2e-04 </td><td>2.1e-04</td><td>1.2e-04</td><td>nan        </td><td>nan°   </td></tr>\n",
       "</tbody>\n",
       "</table>"
      ],
      "text/plain": [
       "'<table>\\n<tbody>\\n<tr><td>Drone</td><td>Traj. Len</td><td>ATE Pos</td><td>ATE Att</td><td>Cov/m: x</td><td>y      </td><td>z      </td><td>PGO:ATE Pos</td><td>ATE Att</td></tr>\\n<tr><td>1by1 </td><td>28.0m    </td><td>0.035  </td><td>1.054  </td><td>3.7e-04 </td><td>9.6e-05</td><td>1.2e-04</td><td>nan        </td><td>nan°   </td></tr>\\n<tr><td>2by1 </td><td>30.9m    </td><td>0.032  </td><td>0.958  </td><td>1.2e-04 </td><td>2.1e-04</td><td>1.2e-04</td><td>nan        </td><td>nan°   </td></tr>\\n</tbody>\\n</table>'"
      ]
     },
     "metadata": {},
     "output_type": "display_data"
    },
    {
     "data": {
      "text/html": [
       "<table>\n",
       "<tbody>\n",
       "<tr><td>Relative</td><td>EST RMSE: Pos    </td><td>Ang  </td><td>BIAS: Pos          </td><td>Ang   </td></tr>\n",
       "<tr><td>1-&gt;2    </td><td>0.022,0.018,0.013</td><td>0.86°</td><td>0.003,+0.006,-0.002</td><td>+0.49°</td></tr>\n",
       "</tbody>\n",
       "</table>"
      ],
      "text/plain": [
       "'<table>\\n<tbody>\\n<tr><td>Relative</td><td>EST RMSE: Pos    </td><td>Ang  </td><td>BIAS: Pos          </td><td>Ang   </td></tr>\\n<tr><td>1-&gt;2    </td><td>0.022,0.018,0.013</td><td>0.86°</td><td>0.003,+0.006,-0.002</td><td>+0.49°</td></tr>\\n</tbody>\\n</table>'"
      ]
     },
     "metadata": {},
     "output_type": "display_data"
    }
   ],
   "source": [
    "nodes = {1, 2}\n",
    "output_folder = \"/home/xuhao/data/tum_datasets/outputs/d2vins/swarm1\"\n",
    "data_folder=\"/home/xuhao/data/tum_datasets/\"\n",
    "dte = 40\n",
    "paths_gt, t0 = read_paths(data_folder, nodes, prefix=\"groundtruth\")\n",
    "paths, _ = read_paths(output_folder, nodes, t0=t0)\n",
    "display(plot_fused_err(nodes, paths, paths_gt,dte=dte, show=False, outlier_thres_yaw=0.1))\n",
    "display(plot_relative_pose_err(1, [2], paths, paths_gt,dte=dte, show=False, outlier_thres=0.2, outlier_yaw_thres=0.1))\n",
    "#plot_fused(nodes, paths, poses_gt=paths_gt)\n"
   ]
  },
  {
   "cell_type": "code",
   "execution_count": null,
   "metadata": {},
   "outputs": [],
   "source": []
  }
 ],
 "metadata": {
  "interpreter": {
   "hash": "e7370f93d1d0cde622a1f8e1c04877d8463912d04d973331ad4851f04de6915a"
  },
  "kernelspec": {
   "display_name": "Python 3.8.10 64-bit",
   "language": "python",
   "name": "python3"
  },
  "language_info": {
   "codemirror_mode": {
    "name": "ipython",
    "version": 3
   },
   "file_extension": ".py",
   "mimetype": "text/x-python",
   "name": "python",
   "nbconvert_exporter": "python",
   "pygments_lexer": "ipython3",
   "version": "3.8.10"
  },
  "orig_nbformat": 4
 },
 "nbformat": 4,
 "nbformat_minor": 2
}
