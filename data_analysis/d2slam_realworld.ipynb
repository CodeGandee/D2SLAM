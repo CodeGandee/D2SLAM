{
 "cells": [
  {
   "cell_type": "code",
   "execution_count": null,
   "metadata": {},
   "outputs": [],
   "source": [
    "%matplotlib inline\n",
    "%load_ext autoreload\n",
    "%autoreload 2\n",
    "from local_plot import *\n",
    "from utils import *\n"
   ]
  },
  {
   "cell_type": "code",
   "execution_count": null,
   "metadata": {},
   "outputs": [],
   "source": [
    "nodes = [1]\n",
    "output_folder = \"/home/dji/swarm_log_latest/\"\n",
    "dte = 30\n",
    "paths_vo, t0 = read_paths(output_folder, nodes, t0=None, prefix=\"d2vins\")\n",
    "paths_pgo, _ = read_paths(output_folder, nodes, t0=t0, prefix=\"pgo\")\n",
    "# align_paths(paths_vo, paths_gt)\n",
    "# display(plot_fused_err(nodes, paths, paths_gt, dte=dte, show=False))\n",
    "# display(plot_relative_pose_err(1, nodes[1:], paths, paths_gt, dte=dte, show=False))\n",
    "# plot_fused(nodes, paths, poses_gt=paths_gt, figsize=(10,10))\n",
    "plot_fused(nodes, paths_vo, poses_pgo=paths_pgo, figsize=(10,10), output_path=output_folder)\n"
   ]
  },
  {
   "cell_type": "code",
   "execution_count": null,
   "metadata": {},
   "outputs": [],
   "source": []
  }
 ],
 "metadata": {
  "kernelspec": {
   "display_name": "Python 3 (ipykernel)",
   "language": "python",
   "name": "python3"
  },
  "language_info": {
   "codemirror_mode": {
    "name": "ipython",
    "version": 3
   },
   "file_extension": ".py",
   "mimetype": "text/x-python",
   "name": "python",
   "nbconvert_exporter": "python",
   "pygments_lexer": "ipython3",
   "version": "3.8.10"
  },
  "vscode": {
   "interpreter": {
    "hash": "08ce52785f0fedc81003ce387e097a83d6cc9494681cd746006386992005bb71"
   }
  }
 },
 "nbformat": 4,
 "nbformat_minor": 4
}
