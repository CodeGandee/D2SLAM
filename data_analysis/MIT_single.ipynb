{
 "cells": [
  {
   "cell_type": "code",
   "execution_count": null,
   "metadata": {},
   "outputs": [],
   "source": [
    "%matplotlib inline\n",
    "%load_ext autoreload\n",
    "%autoreload 2\n",
    "from local_plot import *\n",
    "from utils import *"
   ]
  },
  {
   "cell_type": "code",
   "execution_count": null,
   "metadata": {},
   "outputs": [],
   "source": [
    "path_gt = \"/home/xuhao/data/d2slam/mit_campus_hybrid/acl_jackal_gt_odom.csv\"\n",
    "# path_odom = \"/home/xuhao/data/d2slam/mit_campus_hybrid/12_08_acl_jackal-vins-mono.csv\"\n",
    "# path_pgo = \"/home/xuhao/data/d2slam/mit_campus_hybrid/12_08_acl_jackal-vins-mono.csv\"\n",
    "\n",
    "path_odom = \"/home/xuhao/data/d2slam/mit_campus_hybrid/outputs/d2vins_1.csv\"\n",
    "path_pgo = \"/home/xuhao/data/d2slam/mit_campus_hybrid/outputs/pgo_1.csv\"\n",
    "\n",
    "end_time = 420\n",
    "traj_gt, t0 = read_path_from_csv(path_gt, delimiter=\",\", time_multiplier=1e-9, dte=end_time)\n",
    "traj_odom, _ = read_path_from_csv(path_odom, t0=t0, dte=end_time)\n",
    "traj_pgo, _ = read_path_from_csv(path_pgo, t0=t0, dte=end_time)\n",
    "align_path_by_minimize(traj_odom, traj_gt, True)\n",
    "align_path_by_minimize(traj_pgo, traj_gt, True)\n",
    "plot_fused([1], {1: traj_odom}, {1: traj_gt}, {1:traj_pgo}, figsize=(10,10))\n",
    "plot_fused_err([1], {1: traj_odom}, {1: traj_gt}, {1: traj_odom}, {1:traj_pgo}, show=False)"
   ]
  },
  {
   "cell_type": "code",
   "execution_count": null,
   "metadata": {},
   "outputs": [],
   "source": []
  }
 ],
 "metadata": {
  "kernelspec": {
   "display_name": "base",
   "language": "python",
   "name": "python3"
  },
  "language_info": {
   "codemirror_mode": {
    "name": "ipython",
    "version": 3
   },
   "file_extension": ".py",
   "mimetype": "text/x-python",
   "name": "python",
   "nbconvert_exporter": "python",
   "pygments_lexer": "ipython3",
   "version": "3.8.5"
  },
  "orig_nbformat": 4
 },
 "nbformat": 4,
 "nbformat_minor": 2
}
