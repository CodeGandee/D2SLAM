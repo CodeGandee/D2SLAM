{
 "cells": [
  {
   "cell_type": "code",
   "execution_count": null,
   "metadata": {},
   "outputs": [],
   "source": [
    "%matplotlib inline\n",
    "%load_ext autoreload\n",
    "%autoreload 2\n",
    "from local_plot import *\n",
    "from utils import *"
   ]
  },
  {
   "cell_type": "code",
   "execution_count": null,
   "metadata": {},
   "outputs": [],
   "source": [
    "path_gt = \"/home/xuhao/data/d2slam/mit_campus_hybrid/acl_jackal_gt_odom.csv\"\n",
    "# path_odom = \"/home/xuhao/data/d2slam/mit_campus_hybrid/12_08_acl_jackal-vins-mono.csv\"\n",
    "# path_pgo = \"/home/xuhao/data/d2slam/mit_campus_hybrid/12_08_acl_jackal-vins-mono.csv\"\n",
    "\n",
    "path_odom = \"/home/xuhao/data/d2slam/mit_campus_hybrid/outputs/d2vins_1.csv\"\n",
    "path_pgo = \"/home/xuhao/data/d2slam/mit_campus_hybrid/outputs/pgo_1.csv\"\n",
    "\n",
    "end_time = 420\n",
    "traj_gt, t0 = read_path_from_csv(path_gt, delimiter=\",\", time_multiplier=1e-9, dte=end_time)\n",
    "traj_odom, _ = read_path_from_csv(path_odom, t0=t0, dte=end_time)\n",
    "traj_pgo, _ = read_path_from_csv(path_pgo, t0=t0, dte=end_time)\n",
    "align_path_by_minimize(traj_odom, traj_gt, True)\n",
    "align_path_by_minimize(traj_pgo, traj_gt, True)\n",
    "plot_fused([1], {1: traj_odom}, {1: traj_gt}, {1:traj_pgo}, figsize=(10,10))\n",
    "plot_fused_err([1], {1: traj_odom}, {1: traj_gt}, {1: traj_odom}, {1:traj_pgo}, show=False)"
   ]
  },
  {
   "cell_type": "code",
   "execution_count": null,
   "metadata": {},
   "outputs": [
    {
     "ename": "ValueError",
     "evalue": "Cannot apply_along_axis when any iteration dimensions are 0",
     "output_type": "error",
     "traceback": [
      "\u001b[0;31m---------------------------------------------------------------------------\u001b[0m",
      "\u001b[0;31mValueError\u001b[0m                                Traceback (most recent call last)",
      "\u001b[1;32m/home/xuhao/d2slam_ws/src/D2SLAM/data_analysis/MIT_single.ipynb 单元格 3\u001b[0m line \u001b[0;36m<cell line: 11>\u001b[0;34m()\u001b[0m\n\u001b[1;32m      <a href='vscode-notebook-cell://ssh-remote%2B110.235.53.72/home/xuhao/d2slam_ws/src/D2SLAM/data_analysis/MIT_single.ipynb#W2sdnNjb2RlLXJlbW90ZQ%3D%3D?line=8'>9</a>\u001b[0m traj_gt, t0 \u001b[39m=\u001b[39m read_path_from_csv(path_gt, delimiter\u001b[39m=\u001b[39m\u001b[39m\"\u001b[39m\u001b[39m,\u001b[39m\u001b[39m\"\u001b[39m, time_multiplier\u001b[39m=\u001b[39m\u001b[39m1e-9\u001b[39m, dte\u001b[39m=\u001b[39mend_time)\n\u001b[1;32m     <a href='vscode-notebook-cell://ssh-remote%2B110.235.53.72/home/xuhao/d2slam_ws/src/D2SLAM/data_analysis/MIT_single.ipynb#W2sdnNjb2RlLXJlbW90ZQ%3D%3D?line=9'>10</a>\u001b[0m t0 \u001b[39m=\u001b[39m \u001b[39m0\u001b[39m\n\u001b[0;32m---> <a href='vscode-notebook-cell://ssh-remote%2B110.235.53.72/home/xuhao/d2slam_ws/src/D2SLAM/data_analysis/MIT_single.ipynb#W2sdnNjb2RlLXJlbW90ZQ%3D%3D?line=10'>11</a>\u001b[0m traj_odom, _ \u001b[39m=\u001b[39m read_path_from_csv(path_odom, t0\u001b[39m=\u001b[39;49mt0, dte\u001b[39m=\u001b[39;49mend_time)\n\u001b[1;32m     <a href='vscode-notebook-cell://ssh-remote%2B110.235.53.72/home/xuhao/d2slam_ws/src/D2SLAM/data_analysis/MIT_single.ipynb#W2sdnNjb2RlLXJlbW90ZQ%3D%3D?line=11'>12</a>\u001b[0m traj_pgo, _ \u001b[39m=\u001b[39m read_path_from_csv(path_pgo, t0\u001b[39m=\u001b[39mt0, dte\u001b[39m=\u001b[39mend_time)\n\u001b[1;32m     <a href='vscode-notebook-cell://ssh-remote%2B110.235.53.72/home/xuhao/d2slam_ws/src/D2SLAM/data_analysis/MIT_single.ipynb#W2sdnNjb2RlLXJlbW90ZQ%3D%3D?line=12'>13</a>\u001b[0m align_path_by_minimize(traj_odom, traj_gt, \u001b[39mTrue\u001b[39;00m)\n",
      "File \u001b[0;32m~/d2slam_ws/src/D2SLAM/data_analysis/local_plot.py:37\u001b[0m, in \u001b[0;36mread_path_from_csv\u001b[0;34m(path, t0, delimiter, dte, reset_orientation, time_multiplier)\u001b[0m\n\u001b[1;32m     35\u001b[0m     quat \u001b[39m=\u001b[39m np\u001b[39m.\u001b[39mapply_along_axis(\u001b[39mlambda\u001b[39;00m x: quaternion_multiply(q_calib_att, x), \u001b[39m1\u001b[39m, quat)\n\u001b[1;32m     36\u001b[0m     pos \u001b[39m=\u001b[39m np\u001b[39m.\u001b[39mapply_along_axis(\u001b[39mlambda\u001b[39;00m x: quaternion_matrix(q_calib_pos)[:\u001b[39m3\u001b[39m,:\u001b[39m3\u001b[39m]\u001b[39m@\u001b[39m (x \u001b[39m-\u001b[39m pos0), \u001b[39m1\u001b[39m, pos)\n\u001b[0;32m---> 37\u001b[0m \u001b[39mreturn\u001b[39;00m Trajectory(t, pos, quat), t0\n",
      "File \u001b[0;32m~/d2slam_ws/src/D2SLAM/data_analysis/trajectory.py:11\u001b[0m, in \u001b[0;36mTrajectory.__init__\u001b[0;34m(self, t, pos, quat)\u001b[0m\n\u001b[1;32m      9\u001b[0m \u001b[39mself\u001b[39m\u001b[39m.\u001b[39mpos \u001b[39m=\u001b[39m pos\n\u001b[1;32m     10\u001b[0m \u001b[39mself\u001b[39m\u001b[39m.\u001b[39mquat \u001b[39m=\u001b[39m quat\n\u001b[0;32m---> 11\u001b[0m \u001b[39mself\u001b[39m\u001b[39m.\u001b[39mypr \u001b[39m=\u001b[39m np\u001b[39m.\u001b[39;49mapply_along_axis(quat2eulers_arr, \u001b[39m1\u001b[39;49m, quat)\n\u001b[1;32m     12\u001b[0m \u001b[39mself\u001b[39m\u001b[39m.\u001b[39minterp()\n",
      "File \u001b[0;32m<__array_function__ internals>:180\u001b[0m, in \u001b[0;36mapply_along_axis\u001b[0;34m(*args, **kwargs)\u001b[0m\n",
      "File \u001b[0;32m~/.local/lib/python3.8/site-packages/numpy/lib/shape_base.py:376\u001b[0m, in \u001b[0;36mapply_along_axis\u001b[0;34m(func1d, axis, arr, *args, **kwargs)\u001b[0m\n\u001b[1;32m    374\u001b[0m     ind0 \u001b[39m=\u001b[39m \u001b[39mnext\u001b[39m(inds)\n\u001b[1;32m    375\u001b[0m \u001b[39mexcept\u001b[39;00m \u001b[39mStopIteration\u001b[39;00m \u001b[39mas\u001b[39;00m e:\n\u001b[0;32m--> 376\u001b[0m     \u001b[39mraise\u001b[39;00m \u001b[39mValueError\u001b[39;00m(\n\u001b[1;32m    377\u001b[0m         \u001b[39m'\u001b[39m\u001b[39mCannot apply_along_axis when any iteration dimensions are 0\u001b[39m\u001b[39m'\u001b[39m\n\u001b[1;32m    378\u001b[0m     ) \u001b[39mfrom\u001b[39;00m \u001b[39mNone\u001b[39m\n\u001b[1;32m    379\u001b[0m res \u001b[39m=\u001b[39m asanyarray(func1d(inarr_view[ind0], \u001b[39m*\u001b[39margs, \u001b[39m*\u001b[39m\u001b[39m*\u001b[39mkwargs))\n\u001b[1;32m    381\u001b[0m \u001b[39m# build a buffer for storing evaluations of func1d.\u001b[39;00m\n\u001b[1;32m    382\u001b[0m \u001b[39m# remove the requested axis, and add the new ones on the end.\u001b[39;00m\n\u001b[1;32m    383\u001b[0m \u001b[39m# laid out so that each write is contiguous.\u001b[39;00m\n\u001b[1;32m    384\u001b[0m \u001b[39m# for a tuple index inds, buff[inds] = func1d(inarr_view[inds])\u001b[39;00m\n",
      "\u001b[0;31mValueError\u001b[0m: Cannot apply_along_axis when any iteration dimensions are 0"
     ]
    }
   ],
   "source": [
    "path_gt = \"/home/xuhao/data/d2slam/mit_campus_hybrid/acl_jackal2_gt_odom.csv\"\n",
    "# path_odom = \"/home/xuhao/data/d2slam/mit_campus_hybrid/12_08_acl_jackal2-vins-mono.csv\"\n",
    "# path_pgo = \"/home/xuhao/data/d2slam/mit_campus_hybrid/12_08_acl_jackal2-vins-mono.csv\"\n",
    "\n",
    "path_odom = \"/home/xuhao/data/d2slam/mit_campus_hybrid/outputs/d2vins_1.csv\"\n",
    "path_pgo = \"/home/xuhao/data/d2slam/mit_campus_hybrid/outputs/pgo_1.csv\"\n",
    "\n",
    "end_time = 955\n",
    "traj_gt, t0 = read_path_from_csv(path_gt, delimiter=\",\", time_multiplier=1e-9, dte=end_time)\n",
    "t0 = t0 + 80\n",
    "traj_odom, _ = read_path_from_csv(path_odom, t0=t0, dte=end_time)\n",
    "traj_pgo, _ = read_path_from_csv(path_pgo, t0=t0, dte=end_time)\n",
    "align_path_by_minimize(traj_odom, traj_gt, True)\n",
    "align_path_by_minimize(traj_pgo, traj_gt, True)\n",
    "plot_fused([1], {1: traj_odom}, {1: traj_gt}, {1:traj_pgo}, figsize=(10,10))\n",
    "plot_fused_err([1], {1: traj_odom}, {1: traj_gt}, {1: traj_odom}, {1:traj_pgo}, show=False)"
   ]
  },
  {
   "cell_type": "code",
   "execution_count": null,
   "metadata": {},
   "outputs": [],
   "source": []
  }
 ],
 "metadata": {
  "kernelspec": {
   "display_name": "base",
   "language": "python",
   "name": "python3"
  },
  "language_info": {
   "codemirror_mode": {
    "name": "ipython",
    "version": 3
   },
   "file_extension": ".py",
   "mimetype": "text/x-python",
   "name": "python",
   "nbconvert_exporter": "python",
   "pygments_lexer": "ipython3",
   "version": "3.8.5"
  },
  "orig_nbformat": 4
 },
 "nbformat": 4,
 "nbformat_minor": 2
}
