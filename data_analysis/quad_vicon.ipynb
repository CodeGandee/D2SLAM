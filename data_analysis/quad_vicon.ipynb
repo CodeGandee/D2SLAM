{
 "cells": [
  {
   "cell_type": "code",
   "execution_count": 174,
   "metadata": {},
   "outputs": [
    {
     "name": "stdout",
     "output_type": "stream",
     "text": [
      "The autoreload extension is already loaded. To reload it, use:\n",
      "  %reload_ext autoreload\n"
     ]
    }
   ],
   "source": [
    "%matplotlib qt\n",
    "%load_ext autoreload\n",
    "%autoreload 2\n",
    "from local_plot import *\n",
    "from utils import *\n"
   ]
  },
  {
   "cell_type": "code",
   "execution_count": 179,
   "metadata": {},
   "outputs": [
    {
     "name": "stdout",
     "output_type": "stream",
     "text": [
      "dpos by 1 : [ 0.08135149  0.56503835 -0.01717896]\n"
     ]
    },
    {
     "data": {
      "text/html": [
       "<table>\n",
       "<tbody>\n",
       "<tr><td>Drone</td><td>Traj. Len.</td><td>ATE Pos</td><td>ATE Att</td><td>Cov/m: x</td><td>y      </td><td>z      </td><td>Cov Att/m</td></tr>\n",
       "<tr><td>1by1 </td><td>36.6m     </td><td>0.198  </td><td>2.910  </td><td>1.4e-02 </td><td>7.5e-03</td><td>2.2e-03</td><td>8.39e-04 </td></tr>\n",
       "<tr><td>5by1 </td><td>38.9m     </td><td>0.169  </td><td>2.865  </td><td>5.7e-03 </td><td>1.8e-03</td><td>1.5e-03</td><td>6.36e-03 </td></tr>\n",
       "<tr><td>Avg. </td><td>37.7      </td><td>0.183  </td><td>2.89   </td><td>        </td><td>       </td><td>       </td><td>         </td></tr>\n",
       "</tbody>\n",
       "</table>"
      ],
      "text/plain": [
       "'<table>\\n<tbody>\\n<tr><td>Drone</td><td>Traj. Len.</td><td>ATE Pos</td><td>ATE Att</td><td>Cov/m: x</td><td>y      </td><td>z      </td><td>Cov Att/m</td></tr>\\n<tr><td>1by1 </td><td>36.6m     </td><td>0.198  </td><td>2.910  </td><td>1.4e-02 </td><td>7.5e-03</td><td>2.2e-03</td><td>8.39e-04 </td></tr>\\n<tr><td>5by1 </td><td>38.9m     </td><td>0.169  </td><td>2.865  </td><td>5.7e-03 </td><td>1.8e-03</td><td>1.5e-03</td><td>6.36e-03 </td></tr>\\n<tr><td>Avg. </td><td>37.7      </td><td>0.183  </td><td>2.89   </td><td>        </td><td>       </td><td>       </td><td>         </td></tr>\\n</tbody>\\n</table>'"
      ]
     },
     "metadata": {},
     "output_type": "display_data"
    },
    {
     "data": {
      "text/html": [
       "<table>\n",
       "<tbody>\n",
       "<tr><td>Relative</td><td>EST RMSE: Pos (XYZ)</td><td>POS  </td><td>Ang  </td><td>BIAS: Pos          </td><td>Ang   </td></tr>\n",
       "<tr><td>1-&gt;5    </td><td>0.068,0.052,0.043  </td><td>0.096</td><td>0.59°</td><td>0.015,+0.003,-0.020</td><td>+0.15°</td></tr>\n",
       "<tr><td>Avg:    </td><td>                   </td><td>0.096</td><td>0.59°</td><td>                   </td><td>      </td></tr>\n",
       "</tbody>\n",
       "</table>"
      ],
      "text/plain": [
       "'<table>\\n<tbody>\\n<tr><td>Relative</td><td>EST RMSE: Pos (XYZ)</td><td>POS  </td><td>Ang  </td><td>BIAS: Pos          </td><td>Ang   </td></tr>\\n<tr><td>1-&gt;5    </td><td>0.068,0.052,0.043  </td><td>0.096</td><td>0.59°</td><td>0.015,+0.003,-0.020</td><td>+0.15°</td></tr>\\n<tr><td>Avg:    </td><td>                   </td><td>0.096</td><td>0.59°</td><td>                   </td><td>      </td></tr>\\n</tbody>\\n</table>'"
      ]
     },
     "metadata": {},
     "output_type": "display_data"
    }
   ],
   "source": [
    "nodes = [1, 5]\n",
    "output_folder = \"/home/xuhao/data/d2slam/manual_vicon_quad_2022_10_25_small/outputs/d2vins-2/swarm1\"\n",
    "data_folder=\"/home/xuhao/data/d2slam/manual_vicon_quad_2022_10_25_small/\"\n",
    "dte = 120\n",
    "paths_gt, t0 = read_paths(data_folder, nodes, prefix=\"groundtruth\")\n",
    "paths, _ = read_paths(output_folder, nodes, t0=t0)\n",
    "align_paths(paths, paths_gt, True)\n",
    "display(plot_fused_err(nodes, paths, paths_gt, dte=dte, show=False))\n",
    "display(plot_relative_pose_err(1, nodes[1:], paths, paths_gt, dte=dte, show=True, outlier_thres=0.15))\n",
    "plot_fused(nodes, paths, poses_gt=paths_gt, figsize=(10,10))\n",
    "\n",
    "# paths_vo, t0 = read_paths(data_folder, nodes, prefix=\"vins-mono\", t0=t0)\n",
    "# print(\"VINS-Mono\")\n",
    "# align_paths(paths_vo, paths_gt)\n",
    "# display(plot_fused_err(nodes, paths_vo, paths_gt, dte=dte, show=False))\n",
    "# display(plot_relative_pose_err(1, nodes[1:], paths_vo, paths_gt, dte=dte, show=False))\n",
    "# plot_fused(nodes, paths_vo, poses_gt=paths_gt, figsize=(10,10))\n"
   ]
  },
  {
   "cell_type": "markdown",
   "metadata": {},
   "source": []
  },
  {
   "cell_type": "code",
   "execution_count": 72,
   "metadata": {},
   "outputs": [
    {
     "data": {
      "text/html": [
       "<table>\n",
       "<tbody>\n",
       "<tr><td>Drone</td><td>Traj. Len.</td><td>ATE Pos</td><td>ATE Att</td><td>Cov/m: x</td><td>y      </td><td>z      </td><td>Cov Att/m</td></tr>\n",
       "<tr><td>6by1 </td><td>44.2m     </td><td>0.335  </td><td>6.637  </td><td>1.1e-02 </td><td>6.4e-03</td><td>5.5e-03</td><td>1.81e-02 </td></tr>\n",
       "<tr><td>Avg. </td><td>44.2      </td><td>0.335  </td><td>6.64   </td><td>        </td><td>       </td><td>       </td><td>         </td></tr>\n",
       "</tbody>\n",
       "</table>"
      ],
      "text/plain": [
       "'<table>\\n<tbody>\\n<tr><td>Drone</td><td>Traj. Len.</td><td>ATE Pos</td><td>ATE Att</td><td>Cov/m: x</td><td>y      </td><td>z      </td><td>Cov Att/m</td></tr>\\n<tr><td>6by1 </td><td>44.2m     </td><td>0.335  </td><td>6.637  </td><td>1.1e-02 </td><td>6.4e-03</td><td>5.5e-03</td><td>1.81e-02 </td></tr>\\n<tr><td>Avg. </td><td>44.2      </td><td>0.335  </td><td>6.64   </td><td>        </td><td>       </td><td>       </td><td>         </td></tr>\\n</tbody>\\n</table>'"
      ]
     },
     "metadata": {},
     "output_type": "display_data"
    }
   ],
   "source": [
    "nodes = [6]\n",
    "output_folder = f\"/home/xuhao/data/d2slam/manual_vicon_quad_2022_10_25_small/outputs/d2vins-calib/swarm{nodes[0]}\"\n",
    "data_folder=\"/home/xuhao/data/d2slam/manual_vicon_quad_2022_10_25_small/\"\n",
    "dte = 130\n",
    "paths_gt, t0 = read_paths(data_folder, nodes, prefix=\"groundtruth\")\n",
    "paths, _ = read_paths(output_folder, nodes, t0=t0)\n",
    "align_paths(paths, paths_gt)\n",
    "display(plot_fused_err(nodes, paths, paths_gt, dte=dte, show=False))\n",
    "# plot_fused(nodes, paths, poses_gt=paths_gt, figsize=(10,10))\n",
    "\n",
    "# print(\"VINS-Mono\")\n",
    "# paths_vo, t0 = read_paths(data_folder, nodes, prefix=\"vins-mono\", t0=t0)\n",
    "# align_paths(paths_vo, paths_gt)\n",
    "# display(plot_fused_err(nodes, paths_vo, paths_gt, dte=dte, show=False))\n",
    "# plot_fused(nodes, paths_vo, poses_gt=paths_gt, figsize=(10,10))"
   ]
  },
  {
   "cell_type": "markdown",
   "metadata": {},
   "source": []
  },
  {
   "cell_type": "code",
   "execution_count": null,
   "metadata": {},
   "outputs": [],
   "source": []
  }
 ],
 "metadata": {
  "kernelspec": {
   "display_name": "Python 3 (ipykernel)",
   "language": "python",
   "name": "python3"
  },
  "language_info": {
   "codemirror_mode": {
    "name": "ipython",
    "version": 3
   },
   "file_extension": ".py",
   "mimetype": "text/x-python",
   "name": "python",
   "nbconvert_exporter": "python",
   "pygments_lexer": "ipython3",
   "version": "3.8.5"
  },
  "vscode": {
   "interpreter": {
    "hash": "08ce52785f0fedc81003ce387e097a83d6cc9494681cd746006386992005bb71"
   }
  }
 },
 "nbformat": 4,
 "nbformat_minor": 4
}
