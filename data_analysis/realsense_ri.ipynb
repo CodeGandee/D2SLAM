{
 "cells": [
  {
   "cell_type": "code",
   "execution_count": null,
   "metadata": {},
   "outputs": [],
   "source": [
    "%matplotlib inline\n",
    "%load_ext autoreload\n",
    "%autoreload 2\n",
    "from local_plot import *\n",
    "from utils import *\n",
    "def read(folder, nodes):\n",
    "    paths = {}\n",
    "    paths_pgo = {}\n",
    "    t0 = None\n",
    "    for i in nodes:\n",
    "        output_folder = folder + str(i) + \"/\"\n",
    "        _paths, t0 = read_paths(output_folder, nodes, t0=t0)\n",
    "        _paths_pgo, t0 = read_paths(output_folder, nodes, prefix=\"pgo\", t0=t0)\n",
    "        paths[i] = _paths[i]\n",
    "        paths_pgo[i] = _paths_pgo[i]\n",
    "    return paths, paths_pgo"
   ]
  },
  {
   "cell_type": "code",
   "execution_count": 3,
   "metadata": {},
   "outputs": [
    {
     "ename": "FileNotFoundError",
     "evalue": "/home/xuhao/data/d2slam/tum_corr//d2vins_1.csv not found.",
     "output_type": "error",
     "traceback": [
      "\u001b[0;31m---------------------------------------------------------------------------\u001b[0m",
      "\u001b[0;31mFileNotFoundError\u001b[0m                         Traceback (most recent call last)",
      "\u001b[1;32m/home/xuhao/d2slam_ws/src/D2SLAM/data_analysis/realsense_ri.ipynb Cell 2\u001b[0m in \u001b[0;36m<cell line: 6>\u001b[0;34m()\u001b[0m\n\u001b[1;32m      <a href='vscode-notebook-cell:/home/xuhao/d2slam_ws/src/D2SLAM/data_analysis/realsense_ri.ipynb#W2sZmlsZQ%3D%3D?line=3'>4</a>\u001b[0m data_folder\u001b[39m=\u001b[39m\u001b[39m\"\u001b[39m\u001b[39m/home/xuhao/data/d2slam/tum_corr/\u001b[39m\u001b[39m\"\u001b[39m\n\u001b[1;32m      <a href='vscode-notebook-cell:/home/xuhao/d2slam_ws/src/D2SLAM/data_analysis/realsense_ri.ipynb#W2sZmlsZQ%3D%3D?line=4'>5</a>\u001b[0m dte \u001b[39m=\u001b[39m \u001b[39m140\u001b[39m\n\u001b[0;32m----> <a href='vscode-notebook-cell:/home/xuhao/d2slam_ws/src/D2SLAM/data_analysis/realsense_ri.ipynb#W2sZmlsZQ%3D%3D?line=5'>6</a>\u001b[0m paths, t0 \u001b[39m=\u001b[39m read_paths(data_folder, nodes, prefix\u001b[39m=\u001b[39;49m\u001b[39m\"\u001b[39;49m\u001b[39md2vins\u001b[39;49m\u001b[39m\"\u001b[39;49m)\n\u001b[1;32m      <a href='vscode-notebook-cell:/home/xuhao/d2slam_ws/src/D2SLAM/data_analysis/realsense_ri.ipynb#W2sZmlsZQ%3D%3D?line=6'>7</a>\u001b[0m paths_pgo, t0 \u001b[39m=\u001b[39m read_paths(data_folder, nodes, prefix\u001b[39m=\u001b[39m\u001b[39m\"\u001b[39m\u001b[39mpgo\u001b[39m\u001b[39m\"\u001b[39m)\n\u001b[1;32m      <a href='vscode-notebook-cell:/home/xuhao/d2slam_ws/src/D2SLAM/data_analysis/realsense_ri.ipynb#W2sZmlsZQ%3D%3D?line=8'>9</a>\u001b[0m plot_fused(nodes, paths, \u001b[39mNone\u001b[39;00m, poses_pgo\u001b[39m=\u001b[39mpaths_pgo, figsize\u001b[39m=\u001b[39m(\u001b[39m15\u001b[39m,\u001b[39m10\u001b[39m))\n",
      "File \u001b[0;32m~/d2slam_ws/src/D2SLAM/data_analysis/local_plot.py:24\u001b[0m, in \u001b[0;36mread_paths\u001b[0;34m(folder, nodes, prefix, suffix, t0)\u001b[0m\n\u001b[1;32m     22\u001b[0m ret \u001b[39m=\u001b[39m {}\n\u001b[1;32m     23\u001b[0m \u001b[39mfor\u001b[39;00m drone_id \u001b[39min\u001b[39;00m nodes:\n\u001b[0;32m---> 24\u001b[0m     ret[drone_id], t0 \u001b[39m=\u001b[39m read_path_from_csv(\u001b[39mf\u001b[39;49m\u001b[39m\"\u001b[39;49m\u001b[39m{\u001b[39;49;00mfolder\u001b[39m}\u001b[39;49;00m\u001b[39m/\u001b[39;49m\u001b[39m{\u001b[39;49;00mprefix\u001b[39m}\u001b[39;49;00m\u001b[39m_\u001b[39;49m\u001b[39m{\u001b[39;49;00mdrone_id\u001b[39m}\u001b[39;49;00m\u001b[39m{\u001b[39;49;00msuffix\u001b[39m}\u001b[39;49;00m\u001b[39m\"\u001b[39;49m, t0)\n\u001b[1;32m     25\u001b[0m \u001b[39mreturn\u001b[39;00m ret, t0\n",
      "File \u001b[0;32m~/d2slam_ws/src/D2SLAM/data_analysis/local_plot.py:12\u001b[0m, in \u001b[0;36mread_path_from_csv\u001b[0;34m(path, t0, delimiter)\u001b[0m\n\u001b[1;32m     11\u001b[0m \u001b[39mdef\u001b[39;00m \u001b[39mread_path_from_csv\u001b[39m(path, t0\u001b[39m=\u001b[39m\u001b[39mNone\u001b[39;00m, delimiter\u001b[39m=\u001b[39m\u001b[39mNone\u001b[39;00m):\n\u001b[0;32m---> 12\u001b[0m     arr \u001b[39m=\u001b[39m np\u001b[39m.\u001b[39;49mloadtxt(path, delimiter\u001b[39m=\u001b[39;49mdelimiter)\n\u001b[1;32m     13\u001b[0m     t \u001b[39m=\u001b[39m arr[:, \u001b[39m0\u001b[39m]\n\u001b[1;32m     14\u001b[0m     \u001b[39mif\u001b[39;00m t0 \u001b[39mis\u001b[39;00m \u001b[39mNone\u001b[39;00m:\n",
      "File \u001b[0;32m~/.local/lib/python3.8/site-packages/numpy/lib/npyio.py:1313\u001b[0m, in \u001b[0;36mloadtxt\u001b[0;34m(fname, dtype, comments, delimiter, converters, skiprows, usecols, unpack, ndmin, encoding, max_rows, quotechar, like)\u001b[0m\n\u001b[1;32m   1310\u001b[0m \u001b[39mif\u001b[39;00m \u001b[39misinstance\u001b[39m(delimiter, \u001b[39mbytes\u001b[39m):\n\u001b[1;32m   1311\u001b[0m     delimiter \u001b[39m=\u001b[39m delimiter\u001b[39m.\u001b[39mdecode(\u001b[39m'\u001b[39m\u001b[39mlatin1\u001b[39m\u001b[39m'\u001b[39m)\n\u001b[0;32m-> 1313\u001b[0m arr \u001b[39m=\u001b[39m _read(fname, dtype\u001b[39m=\u001b[39;49mdtype, comment\u001b[39m=\u001b[39;49mcomment, delimiter\u001b[39m=\u001b[39;49mdelimiter,\n\u001b[1;32m   1314\u001b[0m             converters\u001b[39m=\u001b[39;49mconverters, skiplines\u001b[39m=\u001b[39;49mskiprows, usecols\u001b[39m=\u001b[39;49musecols,\n\u001b[1;32m   1315\u001b[0m             unpack\u001b[39m=\u001b[39;49munpack, ndmin\u001b[39m=\u001b[39;49mndmin, encoding\u001b[39m=\u001b[39;49mencoding,\n\u001b[1;32m   1316\u001b[0m             max_rows\u001b[39m=\u001b[39;49mmax_rows, quote\u001b[39m=\u001b[39;49mquotechar)\n\u001b[1;32m   1318\u001b[0m \u001b[39mreturn\u001b[39;00m arr\n",
      "File \u001b[0;32m~/.local/lib/python3.8/site-packages/numpy/lib/npyio.py:955\u001b[0m, in \u001b[0;36m_read\u001b[0;34m(fname, delimiter, comment, quote, imaginary_unit, usecols, skiplines, max_rows, converters, ndmin, unpack, dtype, encoding)\u001b[0m\n\u001b[1;32m    953\u001b[0m     fname \u001b[39m=\u001b[39m os\u001b[39m.\u001b[39mfspath(fname)\n\u001b[1;32m    954\u001b[0m \u001b[39mif\u001b[39;00m \u001b[39misinstance\u001b[39m(fname, \u001b[39mstr\u001b[39m):\n\u001b[0;32m--> 955\u001b[0m     fh \u001b[39m=\u001b[39m np\u001b[39m.\u001b[39;49mlib\u001b[39m.\u001b[39;49m_datasource\u001b[39m.\u001b[39;49mopen(fname, \u001b[39m'\u001b[39;49m\u001b[39mrt\u001b[39;49m\u001b[39m'\u001b[39;49m, encoding\u001b[39m=\u001b[39;49mencoding)\n\u001b[1;32m    956\u001b[0m     \u001b[39mif\u001b[39;00m encoding \u001b[39mis\u001b[39;00m \u001b[39mNone\u001b[39;00m:\n\u001b[1;32m    957\u001b[0m         encoding \u001b[39m=\u001b[39m \u001b[39mgetattr\u001b[39m(fh, \u001b[39m'\u001b[39m\u001b[39mencoding\u001b[39m\u001b[39m'\u001b[39m, \u001b[39m'\u001b[39m\u001b[39mlatin1\u001b[39m\u001b[39m'\u001b[39m)\n",
      "File \u001b[0;32m~/.local/lib/python3.8/site-packages/numpy/lib/_datasource.py:193\u001b[0m, in \u001b[0;36mopen\u001b[0;34m(path, mode, destpath, encoding, newline)\u001b[0m\n\u001b[1;32m    156\u001b[0m \u001b[39m\"\"\"\u001b[39;00m\n\u001b[1;32m    157\u001b[0m \u001b[39mOpen `path` with `mode` and return the file object.\u001b[39;00m\n\u001b[1;32m    158\u001b[0m \n\u001b[0;32m   (...)\u001b[0m\n\u001b[1;32m    189\u001b[0m \n\u001b[1;32m    190\u001b[0m \u001b[39m\"\"\"\u001b[39;00m\n\u001b[1;32m    192\u001b[0m ds \u001b[39m=\u001b[39m DataSource(destpath)\n\u001b[0;32m--> 193\u001b[0m \u001b[39mreturn\u001b[39;00m ds\u001b[39m.\u001b[39;49mopen(path, mode, encoding\u001b[39m=\u001b[39;49mencoding, newline\u001b[39m=\u001b[39;49mnewline)\n",
      "File \u001b[0;32m~/.local/lib/python3.8/site-packages/numpy/lib/_datasource.py:533\u001b[0m, in \u001b[0;36mDataSource.open\u001b[0;34m(self, path, mode, encoding, newline)\u001b[0m\n\u001b[1;32m    530\u001b[0m     \u001b[39mreturn\u001b[39;00m _file_openers[ext](found, mode\u001b[39m=\u001b[39mmode,\n\u001b[1;32m    531\u001b[0m                               encoding\u001b[39m=\u001b[39mencoding, newline\u001b[39m=\u001b[39mnewline)\n\u001b[1;32m    532\u001b[0m \u001b[39melse\u001b[39;00m:\n\u001b[0;32m--> 533\u001b[0m     \u001b[39mraise\u001b[39;00m \u001b[39mFileNotFoundError\u001b[39;00m(\u001b[39mf\u001b[39m\u001b[39m\"\u001b[39m\u001b[39m{\u001b[39;00mpath\u001b[39m}\u001b[39;00m\u001b[39m not found.\u001b[39m\u001b[39m\"\u001b[39m)\n",
      "\u001b[0;31mFileNotFoundError\u001b[0m: /home/xuhao/data/d2slam/tum_corr//d2vins_1.csv not found."
     ]
    }
   ],
   "source": [
    "#Single drone\n",
    "nodes = [1]\n",
    "data_folder=\"/home/xuhao/output/vins\"\n",
    "dte = 140\n",
    "paths, t0 = read_paths(data_folder, nodes, prefix=\"d2vins\")\n",
    "paths_pgo, t0 = read_paths(data_folder, nodes, prefix=\"pgo\")\n",
    "\n",
    "plot_fused(nodes, paths, None, poses_pgo=paths_pgo, figsize=(15,10))\n",
    "\n"
   ]
  },
  {
   "cell_type": "code",
   "execution_count": null,
   "metadata": {},
   "outputs": [],
   "source": [
    "nodes = [1, 2]\n",
    "output_folder = \"/home/xuhao/data/d2slam/tum_corr/outputs/d2slam/swarm\"\n",
    "data_folder=\"/home/xuhao/data/d2slam/tum_corr/\"\n",
    "dte = 140\n",
    "paths_gt, t0 = read_paths(data_folder, nodes, prefix=\"groundtruth\")\n",
    "paths, paths_pgo = read(output_folder, nodes)\n",
    "\n",
    "plot_fused(nodes, paths, None, poses_pgo=paths_pgo, figsize=(15,10))\n",
    "\n"
   ]
  }
 ],
 "metadata": {
  "kernelspec": {
   "display_name": "Python 3.8.5 ('base')",
   "language": "python",
   "name": "python3"
  },
  "language_info": {
   "codemirror_mode": {
    "name": "ipython",
    "version": 3
   },
   "file_extension": ".py",
   "mimetype": "text/x-python",
   "name": "python",
   "nbconvert_exporter": "python",
   "pygments_lexer": "ipython3",
   "version": "3.8.5"
  },
  "orig_nbformat": 4,
  "vscode": {
   "interpreter": {
    "hash": "08ce52785f0fedc81003ce387e097a83d6cc9494681cd746006386992005bb71"
   }
  }
 },
 "nbformat": 4,
 "nbformat_minor": 2
}
