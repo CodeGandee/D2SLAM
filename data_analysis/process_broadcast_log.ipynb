{
 "cells": [
  {
   "cell_type": "code",
   "execution_count": 5,
   "metadata": {},
   "outputs": [
    {
     "name": "stdout",
     "output_type": "stream",
     "text": [
      "The autoreload extension is already loaded. To reload it, use:\n",
      "  %reload_ext autoreload\n"
     ]
    }
   ],
   "source": [
    "%matplotlib inline\n",
    "%load_ext autoreload\n",
    "%autoreload 2\n",
    "from local_plot import *\n",
    "from utils import *\n",
    "import re\n"
   ]
  },
  {
   "cell_type": "code",
   "execution_count": 15,
   "metadata": {},
   "outputs": [],
   "source": [
    "def extract_broadcast_D2VINS_from_log(log_content):\n",
    "    # Sample log:\n",
    "    # [D2VINS] Broadcast VINS Data size 4144 with 54 poses 10 extrinsic.\n",
    "    # Match using regex, to match broadcast poses and extrinsic\n",
    "    pattern = re.compile(r\"\\[D2VINS\\] Broadcast VINS Data size \\d+ with (\\d+) poses (\\d+) extrinsic.\")\n",
    "    matched = pattern.findall(log_content)\n",
    "    matched = np.array(matched, dtype=float)\n",
    "    return np.sum(matched[:, 0]) + np.sum(matched[:, 1])\n",
    "\n",
    "def extract_broadcast_D2PGO_from_log(log_content):\n",
    "    # [Drone 2] DPGO broadcast poses 249\n",
    "    # Match using regex, to match broadcast poses\n",
    "    pattern = re.compile(r\"\\[Drone \\d+\\] DPGO broadcast poses (\\d+)\")\n",
    "    matched = pattern.findall(log_content)\n",
    "    matched = np.array(matched, dtype=float)\n",
    "    return np.sum(matched)\n",
    "\n",
    "def extract_broadcast_poses(log_vo):\n",
    "    with open(log_vo, \"r\") as f:\n",
    "        log_content = f.read()\n",
    "        broadcast_D2VINS = extract_broadcast_D2VINS_from_log(log_content)\n",
    "        broadcast_D2PGO = extract_broadcast_D2PGO_from_log(log_content)\n",
    "        print(\"Broadcast D2PGO\", broadcast_D2PGO/1024/1024)\n",
    "        return broadcast_D2VINS + broadcast_D2PGO*2\n",
    "    \n",
    "def process_bd_for_backend(path):\n",
    "    broadcastsize = 0\n",
    "    for i in range(1, 6):\n",
    "        log_vo = f\"{path}{i}/d2slam.log\"\n",
    "        broadcastsize += extract_broadcast_poses(log_vo)\n",
    "    print(\"Total broadcast size\", broadcastsize/1024/1024)\n"
   ]
  },
  {
   "cell_type": "code",
   "execution_count": 11,
   "metadata": {},
   "outputs": [
    {
     "name": "stdout",
     "output_type": "stream",
     "text": [
      "Broadcast D2VINS 99654.0\n",
      "Broadcast D2VINS 90585.0\n",
      "Broadcast D2VINS 65832.0\n",
      "Broadcast D2VINS 80770.0\n",
      "Broadcast D2VINS 116539.0\n",
      "Total broadcast size 1.6305656433105469\n"
     ]
    }
   ],
   "source": [
    "path = \"/home/xuhao/data/d2slam/tum_datasets/outputs/d2slam/swarm\"\n",
    "process_bd_for_backend(path)\n"
   ]
  },
  {
   "cell_type": "code",
   "execution_count": 16,
   "metadata": {},
   "outputs": [
    {
     "name": "stdout",
     "output_type": "stream",
     "text": [
      "Broadcast D2PGO 13.668015480041504\n",
      "Broadcast D2PGO 14.431467056274414\n",
      "Broadcast D2PGO 14.196657180786133\n",
      "Broadcast D2PGO 13.575677871704102\n",
      "Broadcast D2PGO 13.843701362609863\n",
      "Total broadcast size 142.60583019256592\n"
     ]
    }
   ],
   "source": [
    "path = \"/home/xuhao/data/d2slam/quadcam_7inch_n3_2023_1_14/outputs/d2slam-5-yaw/swarm\"\n",
    "process_bd_for_backend(path)"
   ]
  },
  {
   "cell_type": "code",
   "execution_count": null,
   "metadata": {},
   "outputs": [],
   "source": []
  }
 ],
 "metadata": {
  "kernelspec": {
   "display_name": "base",
   "language": "python",
   "name": "python3"
  },
  "language_info": {
   "codemirror_mode": {
    "name": "ipython",
    "version": 3
   },
   "file_extension": ".py",
   "mimetype": "text/x-python",
   "name": "python",
   "nbconvert_exporter": "python",
   "pygments_lexer": "ipython3",
   "version": "3.8.5"
  },
  "orig_nbformat": 4,
  "vscode": {
   "interpreter": {
    "hash": "08ce52785f0fedc81003ce387e097a83d6cc9494681cd746006386992005bb71"
   }
  }
 },
 "nbformat": 4,
 "nbformat_minor": 2
}
