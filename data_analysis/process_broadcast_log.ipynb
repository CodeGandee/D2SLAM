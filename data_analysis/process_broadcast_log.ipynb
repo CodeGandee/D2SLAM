{
 "cells": [
  {
   "cell_type": "code",
   "execution_count": 2,
   "metadata": {},
   "outputs": [],
   "source": [
    "%matplotlib inline\n",
    "%load_ext autoreload\n",
    "%autoreload 2\n",
    "from local_plot import *\n",
    "from utils import *\n",
    "import re\n"
   ]
  },
  {
   "cell_type": "code",
   "execution_count": 3,
   "metadata": {},
   "outputs": [],
   "source": [
    "def extract_broadcast_D2VINS_from_log(log_content):\n",
    "    # Sample log:\n",
    "    # [D2VINS] Broadcast VINS Data size 4144 with 54 poses 10 extrinsic.\n",
    "    # Match using regex, to match broadcast poses and extrinsic\n",
    "    pattern = re.compile(r\"\\[D2VINS\\] Broadcast VINS Data size (\\d+) with (\\d+) poses (\\d+) extrinsic.\")\n",
    "    matched = pattern.findall(log_content)\n",
    "    # Find the last line of log_content contain broadcast poses\n",
    "    lines = log_content.splitlines()\n",
    "    c = len(lines)\n",
    "    for line in reversed(lines):\n",
    "        matched = pattern.findall(line)\n",
    "        c -= 1\n",
    "        if matched:\n",
    "            break\n",
    "    matched = np.array(matched, dtype=float)\n",
    "    return np.sum(matched[:,0]), np.sum(matched[:, 1]) + np.sum(matched[:, 2]), c\n",
    "\n",
    "def extract_broadcast_D2PGO_from_log(log_content):\n",
    "    # [Drone 2] DPGO broadcast poses 249\n",
    "    # Match using regex, to match broadcast poses\n",
    "    pattern = re.compile(r\"\\[Drone \\d+\\] DPGO broadcast poses (\\d+)\")\n",
    "    matched = pattern.findall(log_content)\n",
    "    matched = np.array(matched, dtype=float)\n",
    "    return np.sum(matched)\n",
    "\n",
    "def extract_broadcast_poses(log_content):\n",
    "    broadcast_D2VINS, sum_poses, line_no = extract_broadcast_D2VINS_from_log(log_content)\n",
    "    broadcast_D2PGO = extract_broadcast_D2PGO_from_log(log_content)\n",
    "    return broadcast_D2VINS + broadcast_D2PGO*2, sum_poses\n",
    "\n",
    "def extract_D2Comm_broadcast_size(log_content):\n",
    "    #[D2Comm] Broadcast PGO data of drone 1, lcm 27576 bytes. \n",
    "    # Match using regex, to match broadcast poses\n",
    "    pattern = re.compile(r\"\\[D2Comm\\] Broadcast PGO data of drone \\d+, lcm (\\d+) bytes.\")\n",
    "    matched = pattern.findall(log_content)\n",
    "    matched = np.array(matched, dtype=float)\n",
    "    return np.sum(matched)\n",
    "\n",
    "def extract_frontend_sum_kb(log_content):\n",
    "    # [SWARM_LOOP](5584) BD KF 1005889@1 LM: 76 size 10211 header 311 avgsize 20120 sumkB 109713 avgLM 137 need_send_features: 1\n",
    "    # Match using regex, to match last sumkB\n",
    "    pattern = re.compile(r\"\\[SWARM_LOOP\\]\\(\\d+\\) BD KF \\d+@\\d+ LM: \\d+ size \\d+ header \\d+ avgsize \\d+ sumkB (\\d+) avgLM \\d+ need_send_features: \\d+\")\n",
    "    matched = pattern.findall(log_content)\n",
    "    matched = np.array(matched, dtype=float)\n",
    "    return matched[-1]\n",
    "    \n",
    "    \n",
    "def process_bd_for_backend(path, nodes=range(1, 6)):\n",
    "    broadcast_poses = 0\n",
    "    frontend_sum_kb = 0\n",
    "    d2vins_size = 0\n",
    "    d2pgo_size = 0\n",
    "    for i in nodes:\n",
    "        log_vo = f\"{path}{i}/d2slam.log\"\n",
    "        with open(log_vo, \"r\") as f:\n",
    "            log_content = f.read()\n",
    "            _d2vins_size, _broadcast_poses = extract_broadcast_poses(log_content)\n",
    "            d2vins_size += _d2vins_size\n",
    "            broadcast_poses += _broadcast_poses\n",
    "            frontend_sum_kb += extract_frontend_sum_kb(log_content)\n",
    "            d2pgo_size += extract_D2Comm_broadcast_size(log_content)\n",
    "\n",
    "    print(f\"Total broadcast poses {broadcast_poses/1024/1024:.1f}\")\n",
    "    print(f\"Total frontend sum {frontend_sum_kb/1024:.1f} MB\")\n",
    "    print(f\"Total d2vins size {d2vins_size/1024/1024:.1f} MB\")\n",
    "    print(f\"Total d2pg size {d2pgo_size/1024/1024:.1f} MB\")\n"
   ]
  },
  {
   "cell_type": "code",
   "execution_count": 8,
   "metadata": {},
   "outputs": [
    {
     "name": "stdout",
     "output_type": "stream",
     "text": [
      "Last number of broadcast poses 41687\n"
     ]
    },
    {
     "ename": "IndexError",
     "evalue": "index -1 is out of bounds for axis 0 with size 0",
     "output_type": "error",
     "traceback": [
      "\u001b[0;31m---------------------------------------------------------------------------\u001b[0m",
      "\u001b[0;31mIndexError\u001b[0m                                Traceback (most recent call last)",
      "\u001b[1;32m/home/xuhao/d2slam_ws/src/D2SLAM/data_analysis/process_broadcast_log.ipynb 单元格 3\u001b[0m in \u001b[0;36m<cell line: 2>\u001b[0;34m()\u001b[0m\n\u001b[1;32m      <a href='vscode-notebook-cell:/home/xuhao/d2slam_ws/src/D2SLAM/data_analysis/process_broadcast_log.ipynb#W2sZmlsZQ%3D%3D?line=0'>1</a>\u001b[0m path \u001b[39m=\u001b[39m \u001b[39m\"\u001b[39m\u001b[39m/home/xuhao/data/d2slam/tum_datasets/outputs/d2slam/swarm\u001b[39m\u001b[39m\"\u001b[39m\n\u001b[0;32m----> <a href='vscode-notebook-cell:/home/xuhao/d2slam_ws/src/D2SLAM/data_analysis/process_broadcast_log.ipynb#W2sZmlsZQ%3D%3D?line=1'>2</a>\u001b[0m process_bd_for_backend(path)\n",
      "\u001b[1;32m/home/xuhao/d2slam_ws/src/D2SLAM/data_analysis/process_broadcast_log.ipynb 单元格 3\u001b[0m in \u001b[0;36mprocess_bd_for_backend\u001b[0;34m(path, nodes)\u001b[0m\n\u001b[1;32m     <a href='vscode-notebook-cell:/home/xuhao/d2slam_ws/src/D2SLAM/data_analysis/process_broadcast_log.ipynb#W2sZmlsZQ%3D%3D?line=61'>62</a>\u001b[0m         d2vins_size \u001b[39m+\u001b[39m\u001b[39m=\u001b[39m _d2vins_size\n\u001b[1;32m     <a href='vscode-notebook-cell:/home/xuhao/d2slam_ws/src/D2SLAM/data_analysis/process_broadcast_log.ipynb#W2sZmlsZQ%3D%3D?line=62'>63</a>\u001b[0m         broadcast_poses \u001b[39m+\u001b[39m\u001b[39m=\u001b[39m _broadcast_poses\n\u001b[0;32m---> <a href='vscode-notebook-cell:/home/xuhao/d2slam_ws/src/D2SLAM/data_analysis/process_broadcast_log.ipynb#W2sZmlsZQ%3D%3D?line=63'>64</a>\u001b[0m         frontend_sum_kb \u001b[39m+\u001b[39m\u001b[39m=\u001b[39m extract_frontend_sum_kb(log_content)\n\u001b[1;32m     <a href='vscode-notebook-cell:/home/xuhao/d2slam_ws/src/D2SLAM/data_analysis/process_broadcast_log.ipynb#W2sZmlsZQ%3D%3D?line=64'>65</a>\u001b[0m         d2pgo_size \u001b[39m+\u001b[39m\u001b[39m=\u001b[39m extract_D2Comm_broadcast_size(log_content)\n\u001b[1;32m     <a href='vscode-notebook-cell:/home/xuhao/d2slam_ws/src/D2SLAM/data_analysis/process_broadcast_log.ipynb#W2sZmlsZQ%3D%3D?line=66'>67</a>\u001b[0m \u001b[39mprint\u001b[39m(\u001b[39mf\u001b[39m\u001b[39m\"\u001b[39m\u001b[39mTotal broadcast poses \u001b[39m\u001b[39m{\u001b[39;00mbroadcast_poses\u001b[39m/\u001b[39m\u001b[39m1024\u001b[39m\u001b[39m/\u001b[39m\u001b[39m1024\u001b[39m\u001b[39m:\u001b[39;00m\u001b[39m.1f\u001b[39m\u001b[39m}\u001b[39;00m\u001b[39m\"\u001b[39m)\n",
      "\u001b[1;32m/home/xuhao/d2slam_ws/src/D2SLAM/data_analysis/process_broadcast_log.ipynb 单元格 3\u001b[0m in \u001b[0;36mextract_frontend_sum_kb\u001b[0;34m(log_content)\u001b[0m\n\u001b[1;32m     <a href='vscode-notebook-cell:/home/xuhao/d2slam_ws/src/D2SLAM/data_analysis/process_broadcast_log.ipynb#W2sZmlsZQ%3D%3D?line=46'>47</a>\u001b[0m matched \u001b[39m=\u001b[39m pattern\u001b[39m.\u001b[39mfindall(log_content)\n\u001b[1;32m     <a href='vscode-notebook-cell:/home/xuhao/d2slam_ws/src/D2SLAM/data_analysis/process_broadcast_log.ipynb#W2sZmlsZQ%3D%3D?line=47'>48</a>\u001b[0m matched \u001b[39m=\u001b[39m np\u001b[39m.\u001b[39marray(matched, dtype\u001b[39m=\u001b[39m\u001b[39mfloat\u001b[39m)\n\u001b[0;32m---> <a href='vscode-notebook-cell:/home/xuhao/d2slam_ws/src/D2SLAM/data_analysis/process_broadcast_log.ipynb#W2sZmlsZQ%3D%3D?line=48'>49</a>\u001b[0m \u001b[39mreturn\u001b[39;00m matched[\u001b[39m-\u001b[39;49m\u001b[39m1\u001b[39;49m]\n",
      "\u001b[0;31mIndexError\u001b[0m: index -1 is out of bounds for axis 0 with size 0"
     ]
    }
   ],
   "source": [
    "path = \"/home/xuhao/data/d2slam/tum_datasets/outputs/d2slam/swarm\"\n",
    "process_bd_for_backend(path)\n"
   ]
  },
  {
   "cell_type": "code",
   "execution_count": 4,
   "metadata": {},
   "outputs": [
    {
     "name": "stdout",
     "output_type": "stream",
     "text": [
      "Total broadcast poses 0.0\n",
      "Total frontend sum 1546.7 MB\n",
      "Total d2vins size 75.9 MB\n",
      "Total d2pg size 2340.9 MB\n"
     ]
    }
   ],
   "source": [
    "path = \"/home/xuhao/data/d2slam/quadcam_7inch_n3_2023_1_14/outputs/d2slam-5-yaw/swarm\"\n",
    "process_bd_for_backend(path)"
   ]
  },
  {
   "cell_type": "code",
   "execution_count": 5,
   "metadata": {},
   "outputs": [
    {
     "name": "stdout",
     "output_type": "stream",
     "text": [
      "Total broadcast poses 0.0\n",
      "Total frontend sum 984.2 MB\n",
      "Total d2vins size 70.8 MB\n",
      "Total d2pg size 2179.4 MB\n"
     ]
    }
   ],
   "source": [
    "path = \"/home/xuhao/data/d2slam/quadcam_7inch_n3_2023_1_14/outputs/d2slam-5-yaw-compact/swarm\"\n",
    "process_bd_for_backend(path)"
   ]
  },
  {
   "cell_type": "code",
   "execution_count": 12,
   "metadata": {},
   "outputs": [
    {
     "name": "stdout",
     "output_type": "stream",
     "text": [
      "Total broadcast poses 0.0\n",
      "Total frontend sum 344.2 MB\n",
      "Total d2vins size 2.4 MB\n",
      "Total d2pg size 60.1 MB\n"
     ]
    }
   ],
   "source": [
    "path = \"/home/xuhao/data/d2slam/tum_corr/outputs/d2slam/swarm\"\n",
    "process_bd_for_backend(path)"
   ]
  },
  {
   "cell_type": "code",
   "execution_count": 13,
   "metadata": {},
   "outputs": [
    {
     "name": "stdout",
     "output_type": "stream",
     "text": [
      "Total broadcast poses 0.0\n",
      "Total frontend sum 266.4 MB\n",
      "Total d2vins size 1.6 MB\n",
      "Total d2pg size 42.0 MB\n"
     ]
    }
   ],
   "source": [
    "path = \"/home/xuhao/data/d2slam/tum_datasets/outputs/d2slam/swarm\"\n",
    "process_bd_for_backend(path)"
   ]
  },
  {
   "cell_type": "code",
   "execution_count": 12,
   "metadata": {},
   "outputs": [
    {
     "name": "stdout",
     "output_type": "stream",
     "text": [
      "Total broadcast poses 0.0\n",
      "Total frontend sum 244.2 MB\n",
      "Total d2vins size 1.2 MB\n",
      "Total d2pg size 31.0 MB\n"
     ]
    }
   ],
   "source": [
    "path = \"/home/xuhao/data/d2slam/tum_datasets/outputs/d2slam-compact/swarm\"\n",
    "process_bd_for_backend(path)"
   ]
  },
  {
   "cell_type": "code",
   "execution_count": 10,
   "metadata": {},
   "outputs": [
    {
     "name": "stdout",
     "output_type": "stream",
     "text": [
      "Total broadcast poses 0.0\n",
      "Total frontend sum 323.0 MB\n",
      "Total d2vins size 2.9 MB\n",
      "Total d2pg size 74.1 MB\n"
     ]
    }
   ],
   "source": [
    "path = \"/home/xuhao/data/d2slam/tum_corr/outputs/d2slam_compact/swarm\"\n",
    "process_bd_for_backend(path)"
   ]
  },
  {
   "cell_type": "code",
   "execution_count": 3,
   "metadata": {},
   "outputs": [
    {
     "name": "stdout",
     "output_type": "stream",
     "text": [
      "Total broadcast poses 0.7\n",
      "Total frontend sum 231.8 MB\n",
      "Total d2vins size 10.1 MB\n",
      "Total d2pg size 13.4 MB\n"
     ]
    }
   ],
   "source": [
    "path = \"/home/xuhao/data/d2slam/ri_realsense_walkaround_2022_10/outputs/fuse_all-3/swarm\"\n",
    "process_bd_for_backend(path, [1, 2, 3])"
   ]
  },
  {
   "cell_type": "code",
   "execution_count": 3,
   "metadata": {},
   "outputs": [
    {
     "name": "stdout",
     "output_type": "stream",
     "text": [
      "Total broadcast poses 0.0\n",
      "Total frontend sum 105.4 MB\n",
      "Total d2vins size 0.4 MB\n",
      "Total d2pg size 11.9 MB\n"
     ]
    }
   ],
   "source": [
    "path = \"/home/xuhao/data/d2slam/ri_realsense_walkaround_2022_10/outputs/d2slam_compact/swarm\"\n",
    "process_bd_for_backend(path, [1, 2, 3])"
   ]
  },
  {
   "cell_type": "code",
   "execution_count": null,
   "metadata": {},
   "outputs": [],
   "source": []
  }
 ],
 "metadata": {
  "kernelspec": {
   "display_name": "base",
   "language": "python",
   "name": "python3"
  },
  "language_info": {
   "codemirror_mode": {
    "name": "ipython",
    "version": 3
   },
   "file_extension": ".py",
   "mimetype": "text/x-python",
   "name": "python",
   "nbconvert_exporter": "python",
   "pygments_lexer": "ipython3",
   "version": "3.8.5"
  },
  "orig_nbformat": 4,
  "vscode": {
   "interpreter": {
    "hash": "08ce52785f0fedc81003ce387e097a83d6cc9494681cd746006386992005bb71"
   }
  }
 },
 "nbformat": 4,
 "nbformat_minor": 2
}
