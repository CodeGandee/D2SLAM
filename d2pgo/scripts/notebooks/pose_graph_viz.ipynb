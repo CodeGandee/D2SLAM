{
 "cells": [
  {
   "cell_type": "code",
   "execution_count": null,
   "metadata": {},
   "outputs": [],
   "source": [
    "%matplotlib inline\n",
    "%load_ext autoreload\n",
    "%autoreload 2\n",
    "from pose_graph_partitioning.pose_graph import *\n",
    "plt.rc(\"figure\", figsize=(10,10))\n",
    "import cv2"
   ]
  },
  {
   "cell_type": "code",
   "execution_count": null,
   "metadata": {
    "tags": []
   },
   "outputs": [],
   "source": [
    "pg = PoseGraph()\n",
    "# pg.read_g2o_single(f\"/home/xuhao/data/ral2021/DSLAM/torus/mTSP/DSLAM-output/final.g2o\")\n",
    "pg.read_g2o_single(f\"/home/xuhao/data/ral2021/DGS/sphere_bignoise_vertex3/parted-initial/fullGraph_optimized.g2o\")\n",
    "pg.show(\"DGS\", axis_len=-1, show_raw_edges=False)\n",
    "\n",
    "# pg = PoseGraph()\n",
    "#pg.read_g2o_single(\"/home/xuhao/data/pose_graph/output/final.g2o\")\n",
    "#ax = pg.show(\"my\", axis_len=0.4, show_raw_edges=False)\n",
    "\n",
    "\n",
    "# pg = PoseGraph()\n",
    "# pg.read_sesync_poses(\"/home/xuhao/source/SESync/C++/build/bin/poses.txt\")\n",
    "# pg.show(\"SE-Sync\")"
   ]
  },
  {
   "cell_type": "code",
   "execution_count": null,
   "metadata": {},
   "outputs": [],
   "source": [
    "pg = PoseGraph()\n",
    "path = \"//home/xuhao/data/ral2021/DSLAM/sphere_bignoise_vertex3/parted-initial/\"\n",
    "pg.read_g2o_folder(path)\n",
    "pg.read_g2o_single(f\"/home/xuhao/data/ral2021/DGS/sphere_bignoise_vertex3/parted-initial/fullGraph_optimized.g2o\", update_only=True)\n",
    "pg.show(\"initial\", axis_len=-1, show_raw_edges=False)\n",
    "\n"
   ]
  },
  {
   "cell_type": "code",
   "execution_count": null,
   "metadata": {},
   "outputs": [],
   "source": [
    "def crop_by_rate(path, crop_rate=1.0):\n",
    "    img = cv2.imread(path)\n",
    "    w_ = crop_rate*img.shape[0]\n",
    "    h_ = crop_rate*img.shape[1]\n",
    "    x0 = int((img.shape[0] - w_)/2)\n",
    "    y0 = int((img.shape[1] - h_)/2)\n",
    "    x1 = int((img.shape[0]+ w_)/2)\n",
    "    y1 = int((img.shape[0] + h_)/2)\n",
    "    img = img[y0:y1,x0:x1]\n",
    "    cv2.imwrite(path, img)\n",
    "    return img\n",
    "    \n",
    "def plot_partitioning(data_folder_dgs,  title, output_dir=\"\", elev=45, azim=45,crop_rate=1.0):\n",
    "    plt.rcParams.update({'font.size': 15})\n",
    "    pg = PoseGraph()\n",
    "    pg.read_g2o_folder(f\"{data_folder_dgs}/mTSP/\")\n",
    "    pg.read_g2o_single(f\"{data_folder_dgs}/mTSP-parted-proposed/fullGraph_optimized.g2o\", update_only=True)\n",
    "    plt.tight_layout(pad=0, h_pad=0, w_pad=0)\n",
    "    pg.show(title+\"_baseline\", show_edges=False, show_title=False, elev=elev, azim=azim,show_axis_labels=False)\n",
    "    plt.tight_layout(pad=0, h_pad=0, w_pad=0)\n",
    "    plt.savefig(output_dir+title+\"_baseline.png\")\n",
    "    plt.show()\n",
    "    \n",
    "    img = crop_by_rate(output_dir+title+\"_baseline.png\", crop_rate=crop_rate)\n",
    "    plt.imshow(img)\n",
    "    \n",
    "    pg = PoseGraph()\n",
    "    pg.read_g2o_folder(f\"{data_folder_dgs}/mTSP-parted-proposed/\")\n",
    "    pg.read_g2o_single(f\"{data_folder_dgs}/mTSP-parted-proposed/fullGraph_optimized.g2o\", update_only=True)\n",
    "    pg.show(title+\"_proposed_dgs\", show_edges=False, show_title=False, elev=elev, azim=azim,show_axis_labels=False)\n",
    "    plt.tight_layout()\n",
    "    plt.savefig(output_dir+title+\"_proposed.png\")\n",
    "    plt.show()\n",
    "    img = crop_by_rate(output_dir+title+\"_proposed.png\", crop_rate=crop_rate)\n",
    "\n",
    "#     pg = PoseGraph()\n",
    "#     pg.read_g2o_folder(f\"{data_folder_dslam}/mTSP-parted-proposed/\")\n",
    "#     pg.show(title+\"_proposed_dslam\", show_edges=False, show_title=False, elev=elev, azim=azim)\n",
    "#     plt.tight_layout()\n",
    "#     plt.savefig(output_dir+title+\"_dslam_proposed.png\")\n",
    "\n"
   ]
  },
  {
   "cell_type": "code",
   "execution_count": null,
   "metadata": {},
   "outputs": [],
   "source": [
    "plot_partitioning(\"/home/xuhao/data/ral2021/DGS/torus\",  \"torus3D\", output_dir=\"/home/xuhao/Dropbox/my_publications/RAL2022/figs/generated/\", elev=-30, azim=-40, crop_rate=0.66)"
   ]
  },
  {
   "cell_type": "code",
   "execution_count": null,
   "metadata": {},
   "outputs": [],
   "source": [
    "plot_partitioning(\"/home/xuhao/data/ral2021/DGS/grid3D\", \"grid3D\", output_dir=\"/home/xuhao/Dropbox/my_publications/RAL2022/figs/generated/\", crop_rate=0.58)"
   ]
  },
  {
   "cell_type": "code",
   "execution_count": null,
   "metadata": {},
   "outputs": [],
   "source": [
    "plot_partitioning(\"/home/xuhao/data/ral2021/DGS/sphere_bignoise_vertex3\", \"sphere\", output_dir=\"/home/xuhao/Dropbox/my_publications/RAL2022/figs/generated/\", crop_rate=0.56)"
   ]
  },
  {
   "cell_type": "code",
   "execution_count": null,
   "metadata": {},
   "outputs": [],
   "source": [
    "plot_partitioning(\"/home/xuhao/data/ral2021/DGS/cubicle\", \"cubicle\", output_dir=\"/home/xuhao/Dropbox/my_publications/RAL2022/figs/generated/\", crop_rate=0.92)"
   ]
  },
  {
   "cell_type": "code",
   "execution_count": null,
   "metadata": {},
   "outputs": [],
   "source": [
    "plot_partitioning(\"/home/xuhao/data/ral2021/DGS/parking-garage\", \"parking-garage\", output_dir=\"/home/xuhao/Dropbox/my_publications/RAL2022/figs/generated/\", crop_rate=0.85)"
   ]
  },
  {
   "cell_type": "code",
   "execution_count": null,
   "metadata": {},
   "outputs": [],
   "source": [
    "plot_partitioning(\"/home/xuhao/data/ral2021/DGS/input_INTEL_g2o\", \"INTEL\", output_dir=\"/home/xuhao/Dropbox/my_publications/RAL2022/figs/generated/\", crop_rate=0.85)"
   ]
  },
  {
   "cell_type": "code",
   "execution_count": null,
   "metadata": {},
   "outputs": [],
   "source": [
    "plot_partitioning(\"/home/xuhao/data/ral2021/DGS/input_M3500_g2o\", \"M3500\", output_dir=\"/home/xuhao/Dropbox/my_publications/RAL2022/figs/generated/\", crop_rate=0.88)"
   ]
  },
  {
   "cell_type": "code",
   "execution_count": null,
   "metadata": {},
   "outputs": [],
   "source": [
    "plot_partitioning(\"/home/xuhao/data/ral2021/DGS/input_MITb_g2o\", \"MIT\", output_dir=\"/home/xuhao/Dropbox/my_publications/RAL2022/figs/generated/\", crop_rate=0.8,elev=90, azim=0)"
   ]
  },
  {
   "cell_type": "code",
   "execution_count": null,
   "metadata": {},
   "outputs": [],
   "source": []
  }
 ],
 "metadata": {
  "kernelspec": {
   "display_name": "Python 3.8.5 ('base')",
   "language": "python",
   "name": "python3"
  },
  "language_info": {
   "codemirror_mode": {
    "name": "ipython",
    "version": 3
   },
   "file_extension": ".py",
   "mimetype": "text/x-python",
   "name": "python",
   "nbconvert_exporter": "python",
   "pygments_lexer": "ipython3",
   "version": "3.8.5"
  },
  "vscode": {
   "interpreter": {
    "hash": "08ce52785f0fedc81003ce387e097a83d6cc9494681cd746006386992005bb71"
   }
  }
 },
 "nbformat": 4,
 "nbformat_minor": 5
}
