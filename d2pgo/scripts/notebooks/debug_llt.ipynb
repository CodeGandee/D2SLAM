{
 "cells": [
  {
   "cell_type": "code",
   "execution_count": null,
   "metadata": {},
   "outputs": [],
   "source": [
    "using DelimitedFiles\n",
    "using SparseArrays\n",
    "using LinearAlgebra\n"
   ]
  },
  {
   "cell_type": "code",
   "execution_count": null,
   "metadata": {},
   "outputs": [],
   "source": [
    "triplet_list = readdlm(\"/tmp/A.txt\", ' ', Float64, '\\n');\n",
    "I = convert(Array{Int64,1}, triplet_list[:,1]) .+ 1;\n",
    "J = convert(Array{Int64,1}, triplet_list[:,2]) .+ 1;\n",
    "A = sparse(I, J, triplet_list[:,3]);\n",
    "b = readdlm(\"/tmp/b.txt\", ',', Float64, '\\n');"
   ]
  },
  {
   "cell_type": "code",
   "execution_count": null,
   "metadata": {},
   "outputs": [],
   "source": [
    "H = A'A\n",
    "ldlt(H)"
   ]
  }
 ],
 "metadata": {
  "kernelspec": {
   "display_name": "Julia 1.7.2",
   "language": "julia",
   "name": "julia-1.7"
  },
  "language_info": {
   "file_extension": ".jl",
   "mimetype": "application/julia",
   "name": "julia",
   "version": "1.7.2"
  },
  "orig_nbformat": 4
 },
 "nbformat": 4,
 "nbformat_minor": 2
}
