{
 "cells": [
  {
   "cell_type": "code",
   "execution_count": null,
   "metadata": {},
   "outputs": [],
   "source": [
    "%matplotlib qt\n",
    "%load_ext autoreload\n",
    "%autoreload 2\n",
    "import sys\n",
    "sys.path.insert(0,'../')\n",
    "from dpgo_bag_eval import *\n",
    "from simulate_utils import *\n",
    "import numpy as np\n",
    "import os\n",
    "\n",
    "def generate_4dof_noise(pg, pos_noise=1.0, rot_noise=0.2):\n",
    "    agent_offsets = np.random.normal(0, pos_noise*3, (len(pg.agents), 4))\n",
    "    agent_offsets[:,3] = np.random.normal(0, rot_noise*2, len(pg.agents))\n",
    "    agent_offsets[0,:] = 0\n",
    "    for _id in pg.keyframes:\n",
    "        if _id != 0:\n",
    "            kf = pg.keyframes[_id]\n",
    "            agent_offset = agent_offsets[kf.agent_id, :]\n",
    "            kf.pos = kf.pos + np.random.normal(0, pos_noise, 3) + agent_offset[0:3]\n",
    "            yaw_noise = np.random.normal(0, rot_noise)\n",
    "            quat_noise = quaternion_from_euler(0, 0, yaw_noise)\n",
    "            kf.quat = quaternion_multiply(kf.quat, quat_noise)\n",
    "        \n",
    "\n",
    "def generate_data(data_file, data_folder, agent_num, partition=\"id\", show=False, is_4dof=True, pos_noise=1.0, rot_noise=0.2, gen_from_gt=False):\n",
    "    pg:PoseGraph = PoseGraph()\n",
    "    isFile = os.path.isfile(data_file)\n",
    "    if isFile:\n",
    "        pg.read_g2o_single(data_file)\n",
    "        pg.write_to_g2o(f\"{data_folder}/raw.g2o\")\n",
    "    else:\n",
    "        pg.read_g2o_folder(data_file)\n",
    "    try:\n",
    "        pg_gt:PoseGraph = generate_groundtruth_sesync(pg, \"/tmp/sesync_gt\")\n",
    "    except Exception as e:\n",
    "        print(\"[Warn] Cannot generate groundtruth:\", e)\n",
    "        raise e\n",
    "        pg_gt = None\n",
    "    if pg_gt:\n",
    "        for kf_id in pg_gt.keyframes:\n",
    "            kf = pg_gt.keyframes[kf_id]\n",
    "    if gen_from_gt and pg_gt:\n",
    "            pg_noise = copy.deepcopy(pg_gt)\n",
    "    else:\n",
    "        pg_noise = copy.deepcopy(pg)\n",
    "    if is_4dof:\n",
    "        pg_noise.convert_to_4dof()\n",
    "        if pg_gt:\n",
    "            pg_gt.convert_to_4dof()\n",
    "    if isFile:\n",
    "        partitioning(pg_noise, \"vol\", agent_num=agent_num, show=False, method=partition)\n",
    "        generate_4dof_noise(pg_noise, pos_noise=pos_noise, rot_noise=rot_noise)\n",
    "        pg_noise.update_edges()\n",
    "    pg_noise.write_to_g2o_folder(f\"{data_folder}/input/\", cvt_id=True)\n",
    "    if show:\n",
    "        pg.show(\"raw\", show_edges=False)\n",
    "        if pg_gt:\n",
    "            pg_gt.show(\"GT\", clear=False, show_edges=False)\n",
    "        pg_noise.show(\"noise\", show_edges=False, clear=False)\n",
    "    partitioning(pg_noise, \"vol\", agent_num=agent_num, show=False, method=\"union\")\n",
    "    pg_noise.update_edges()\n",
    "    pg_noise.write_to_g2o(f\"{data_folder}/input.g2o\")\n",
    "    if pg_gt:\n",
    "        pg_gt.write_to_g2o(f\"{data_folder}/groundtruth.g2o\")\n",
    "\n"
   ]
  },
  {
   "cell_type": "code",
   "execution_count": null,
   "metadata": {},
   "outputs": [],
   "source": [
    "input_data = \"/home/xuhao/data/ral2021/raw/parking-garage.g2o\"\n",
    "output_folder = \"/home/xuhao/data/d2slam/pgo/parking-garage\"\n",
    "generate_data(input_data, output_folder, 5, partition=\"id\", show=True, is_4dof=False)"
   ]
  },
  {
   "cell_type": "code",
   "execution_count": null,
   "metadata": {},
   "outputs": [],
   "source": [
    "input_data = \"/home/xuhao/data/ral2021/raw/input_INTEL_g2o.g2o\"\n",
    "output_folder = \"/home/xuhao/data/d2slam/pgo/input_INTEL_g2o\"\n",
    "generate_data(input_data, output_folder, 5, partition=\"id\", show=True, is_4dof=True)"
   ]
  },
  {
   "cell_type": "code",
   "execution_count": null,
   "metadata": {},
   "outputs": [],
   "source": [
    "input_data = \"/home/xuhao/data/ral2021/raw/cubicle.g2o\"\n",
    "output_folder = \"/home/xuhao/data/d2slam/pgo/cubicle\"\n",
    "generate_data(input_data, output_folder, 5, partition=\"id\", show=True, is_4dof=True)"
   ]
  },
  {
   "cell_type": "code",
   "execution_count": null,
   "metadata": {},
   "outputs": [],
   "source": [
    "input_data = \"/home/xuhao/data/ral2021/raw/torus3D.g2o\"\n",
    "output_folder = \"/home/xuhao/data/d2slam/pgo/torus3D\"\n",
    "generate_data(input_data, output_folder, 5, partition=\"id\", show=True, is_4dof=False, pos_noise=0.5, rot_noise=0.0)"
   ]
  },
  {
   "cell_type": "code",
   "execution_count": null,
   "metadata": {},
   "outputs": [],
   "source": [
    "input_data = \"/home/xuhao/data/d2slam/pgo/tum_corr/raw\"\n",
    "output_folder = \"/home/xuhao/data/d2slam/pgo/tum_corr/\"\n",
    "generate_data(input_data, output_folder, 2, show=True, is_4dof=True, pos_noise=0.0, rot_noise=0.0)"
   ]
  },
  {
   "cell_type": "code",
   "execution_count": null,
   "metadata": {},
   "outputs": [],
   "source": []
  }
 ],
 "metadata": {
  "kernelspec": {
   "display_name": "Python 3.8.5 ('base')",
   "language": "python",
   "name": "python3"
  },
  "language_info": {
   "codemirror_mode": {
    "name": "ipython",
    "version": 3
   },
   "file_extension": ".py",
   "mimetype": "text/x-python",
   "name": "python",
   "nbconvert_exporter": "python",
   "pygments_lexer": "ipython3",
   "version": "3.8.5"
  },
  "orig_nbformat": 4,
  "vscode": {
   "interpreter": {
    "hash": "08ce52785f0fedc81003ce387e097a83d6cc9494681cd746006386992005bb71"
   }
  }
 },
 "nbformat": 4,
 "nbformat_minor": 2
}
