{
 "cells": [
  {
   "cell_type": "code",
   "execution_count": 7,
   "metadata": {},
   "outputs": [
    {
     "name": "stdout",
     "output_type": "stream",
     "text": [
      "The autoreload extension is already loaded. To reload it, use:\n",
      "  %reload_ext autoreload\n"
     ]
    }
   ],
   "source": [
    "%matplotlib qt\n",
    "%load_ext autoreload\n",
    "%autoreload 2\n",
    "import sys\n",
    "sys.path.insert(0,'../')\n",
    "from pose_graph_partitioning.pose_graph import *\n",
    "from pose_graph_partitioning.pose_graph_partitioning import *\n",
    "from simulate_utils import ATE\n",
    "\n",
    "plt.rc(\"figure\", figsize=(10,10))\n",
    "def compare(groundtruth_file, results, inputs=None, ceres_res=None, show=True, show_on_same_plot=True):\n",
    "    pg_gt = PoseGraph()\n",
    "    pg_gt.read_g2o_single(groundtruth_file)\n",
    "    pg_res = PoseGraph()\n",
    "    pg_res.read_g2o_folder(results)\n",
    "    ate_T, ate_rot = ATE(pg_gt, pg_res)\n",
    "    print(f\"ATE of result {ate_T:.2f} {ate_rot*57.3:.2f}deg\") \n",
    "    partitioning(pg_res, \"vol\", agent_num=1, show=False, method=\"union\")\n",
    "    if inputs is not None:\n",
    "        pg_input = PoseGraph()\n",
    "        pg_input.read_g2o_folder(inputs)\n",
    "        ate_T, ate_rot = ATE(pg_gt, pg_input)\n",
    "        partitioning(pg_input, \"vol\", agent_num=1, show=False, method=\"union\")\n",
    "        print(f\"ATE of input {ate_T:.2f} {ate_rot*57.3:.2f}deg\") \n",
    "    if ceres_res is not None:\n",
    "        pg_ceres = PoseGraph()\n",
    "        pg_ceres.read_g2o_single(ceres_res)\n",
    "        ate_T, ate_rot = ATE(pg_ceres, pg_gt)\n",
    "        print(f\"ATE of ceres {ate_T:.2f} {ate_rot*57.3:.2f}deg\") \n",
    "    if show:\n",
    "        if inputs is not None:\n",
    "            ax = pg_input.show(\"Input\", clear=False, show_edges=False)\n",
    "        else:\n",
    "            ax = None\n",
    "        if ceres_res is not None:\n",
    "            if not show_on_same_plot:\n",
    "                ax = None\n",
    "            ax = pg_ceres.show(\"ceres\", ax=ax, clear=False, show_edges=False)\n",
    "        if not show_on_same_plot:\n",
    "            ax = None\n",
    "        ax = pg_gt.show(\"GT\", ax=ax, show_edges=False, clear=False)\n",
    "        if not show_on_same_plot:\n",
    "            ax = None\n",
    "        pg_res.show(\"Res\", ax=ax, clear=False, show_edges=False)\n",
    "        plt.show()"
   ]
  },
  {
   "cell_type": "code",
   "execution_count": 15,
   "metadata": {},
   "outputs": [
    {
     "name": "stdout",
     "output_type": "stream",
     "text": [
      "Total agents 5 keyframes 1661 edges 0 inter edge 0 comm_vol 0 keyframes 167<->498\n",
      "ATE of result 0.76 0.40deg\n",
      "New partion obj -1 agents 1 keyframes 1661<->1661 inter edges 0 comm_vol 0\n",
      "Total agents 5 keyframes 1661 edges 6275 inter edge 3246 comm_vol 1673 keyframes 167<->498\n",
      "New partion obj -1 agents 1 keyframes 1661<->1661 inter edges 0 comm_vol 0\n",
      "ATE of input 14.39 8.94deg\n",
      "ATE of ceres 0.06 0.02deg\n"
     ]
    }
   ],
   "source": [
    "groundtruth_file = '/home/xuhao/data/d2slam/pgo/parking-garage/groundtruth.g2o'\n",
    "results = '/home/xuhao/data/d2slam/pgo/parking-garage/output'\n",
    "inputs = '/home/xuhao/data/d2slam/pgo/parking-garage/input'\n",
    "ceres_res = \"/home/xuhao/data/d2slam/pgo/parking-garage/ceres-output.g2o\"\n",
    "\n",
    "compare(groundtruth_file, results, inputs, ceres_res=ceres_res, show_on_same_plot=True)"
   ]
  },
  {
   "cell_type": "code",
   "execution_count": 8,
   "metadata": {},
   "outputs": [
    {
     "name": "stdout",
     "output_type": "stream",
     "text": [
      "Total agents 5 keyframes 1228 edges 0 inter edge 0 comm_vol 0 keyframes 123<->368\n",
      "ATE of result 25.99 61.90deg\n",
      "New partion obj -1 agents 1 keyframes 1228<->1228 inter edges 0 comm_vol 0\n",
      "Total agents 5 keyframes 1228 edges 1483 inter edge 218 comm_vol 217 keyframes 123<->368\n",
      "New partion obj -1 agents 1 keyframes 1228<->1228 inter edges 0 comm_vol 0\n",
      "ATE of input 16.85 12.12deg\n",
      "ATE of ceres 11.90 50.97deg\n"
     ]
    }
   ],
   "source": [
    "groundtruth_file = '/home/xuhao/data/d2slam/pgo/input_INTEL_g2o/groundtruth.g2o'\n",
    "results = '/home/xuhao/data/d2slam/pgo/input_INTEL_g2o/output'\n",
    "inputs = '/home/xuhao/data/d2slam/pgo/input_INTEL_g2o/input'\n",
    "ceres_res = \"/home/xuhao/data/d2slam/pgo/input_INTEL_g2o/ceres-output.g2o\"\n",
    "compare(groundtruth_file, results, inputs, ceres_res=ceres_res)"
   ]
  },
  {
   "cell_type": "code",
   "execution_count": 10,
   "metadata": {},
   "outputs": [
    {
     "name": "stdout",
     "output_type": "stream",
     "text": [
      "Total agents 5 keyframes 5750 edges 0 inter edge 0 comm_vol 0 keyframes 576<->1725\n",
      "ATE of result 57.30 76.85deg\n",
      "New partion obj -1 agents 1 keyframes 5750<->5750 inter edges 0 comm_vol 0\n",
      "Total agents 5 keyframes 5750 edges 12486 inter edge 1532 comm_vol 2427 keyframes 576<->1725\n",
      "New partion obj -1 agents 1 keyframes 5750<->5750 inter edges 0 comm_vol 0\n",
      "ATE of input 19.10 9.72deg\n",
      "ATE of ceres 11.14 37.12deg\n"
     ]
    }
   ],
   "source": [
    "groundtruth_file = '/home/xuhao/data/d2slam/pgo/cubicle/groundtruth.g2o'\n",
    "results = '/home/xuhao/data/d2slam/pgo/cubicle/output'\n",
    "inputs = '/home/xuhao/data/d2slam/pgo/cubicle/input'\n",
    "ceres_res = \"/home/xuhao/data/d2slam/pgo/cubicle/ceres-output.g2o\"\n",
    "compare(groundtruth_file, results, inputs, ceres_res=ceres_res)"
   ]
  },
  {
   "cell_type": "code",
   "execution_count": 13,
   "metadata": {},
   "outputs": [
    {
     "name": "stdout",
     "output_type": "stream",
     "text": [
      "Total agents 5 keyframes 5000 edges 0 inter edge 0 comm_vol 0 keyframes 501<->1500\n",
      "ATE of result 3.85 69.58deg\n",
      "New partion obj -1 agents 1 keyframes 5000<->5000 inter edges 0 comm_vol 0\n",
      "Total agents 5 keyframes 5000 edges 9048 inter edge 400 comm_vol 793 keyframes 501<->1500\n",
      "New partion obj -1 agents 1 keyframes 5000<->5000 inter edges 0 comm_vol 0\n",
      "ATE of input 1.57 11.49deg\n",
      "ATE of ceres 4.88 115.02deg\n"
     ]
    }
   ],
   "source": [
    "groundtruth_file = '/home/xuhao/data/d2slam/pgo/torus3D/groundtruth.g2o'\n",
    "results = '/home/xuhao/data/d2slam/pgo/torus3D/output'\n",
    "inputs = '/home/xuhao/data/d2slam/pgo/torus3D/input'\n",
    "ceres_res = \"/home/xuhao/data/d2slam/pgo/torus3D/ceres-output.g2o\"\n",
    "compare(groundtruth_file, results, inputs, ceres_res=ceres_res)"
   ]
  },
  {
   "cell_type": "code",
   "execution_count": null,
   "metadata": {},
   "outputs": [],
   "source": []
  }
 ],
 "metadata": {
  "kernelspec": {
   "display_name": "Python 3.8.5 ('base')",
   "language": "python",
   "name": "python3"
  },
  "language_info": {
   "codemirror_mode": {
    "name": "ipython",
    "version": 3
   },
   "file_extension": ".py",
   "mimetype": "text/x-python",
   "name": "python",
   "nbconvert_exporter": "python",
   "pygments_lexer": "ipython3",
   "version": "3.8.5"
  },
  "orig_nbformat": 4,
  "vscode": {
   "interpreter": {
    "hash": "08ce52785f0fedc81003ce387e097a83d6cc9494681cd746006386992005bb71"
   }
  }
 },
 "nbformat": 4,
 "nbformat_minor": 2
}
