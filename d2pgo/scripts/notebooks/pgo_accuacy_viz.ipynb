{
 "cells": [
  {
   "cell_type": "code",
   "execution_count": 11,
   "metadata": {},
   "outputs": [
    {
     "name": "stdout",
     "output_type": "stream",
     "text": [
      "The autoreload extension is already loaded. To reload it, use:\n",
      "  %reload_ext autoreload\n"
     ]
    }
   ],
   "source": [
    "%matplotlib inline\n",
    "%load_ext autoreload\n",
    "%autoreload 2\n",
    "import sys\n",
    "sys.path.insert(0,'../')\n",
    "from pose_graph_partitioning.pose_graph import *\n",
    "plt.rc(\"figure\", figsize=(10,10))"
   ]
  },
  {
   "cell_type": "code",
   "execution_count": 12,
   "metadata": {},
   "outputs": [
    {
     "ename": "FileNotFoundError",
     "evalue": "[Errno 2] No such file or directory: '/home/xuhao/data/d2slam/pgo/parking-garage/output'",
     "output_type": "error",
     "traceback": [
      "\u001b[0;31m---------------------------------------------------------------------------\u001b[0m",
      "\u001b[0;31mFileNotFoundError\u001b[0m                         Traceback (most recent call last)",
      "\u001b[1;32m/home/xuhao/d2slam_ws/src/D2SLAM/d2pgo/scripts/notebooks/pgo_accuacy_viz.ipynb Cell 2\u001b[0m in \u001b[0;36m<cell line: 20>\u001b[0;34m()\u001b[0m\n\u001b[1;32m     <a href='vscode-notebook-cell:/home/xuhao/d2slam_ws/src/D2SLAM/d2pgo/scripts/notebooks/pgo_accuacy_viz.ipynb#ch0000001?line=17'>18</a>\u001b[0m             pg_input\u001b[39m.\u001b[39mshow(\u001b[39m\"\u001b[39m\u001b[39mInput\u001b[39m\u001b[39m\"\u001b[39m)\n\u001b[1;32m     <a href='vscode-notebook-cell:/home/xuhao/d2slam_ws/src/D2SLAM/d2pgo/scripts/notebooks/pgo_accuacy_viz.ipynb#ch0000001?line=18'>19</a>\u001b[0m         plt\u001b[39m.\u001b[39mshow()\n\u001b[0;32m---> <a href='vscode-notebook-cell:/home/xuhao/d2slam_ws/src/D2SLAM/d2pgo/scripts/notebooks/pgo_accuacy_viz.ipynb#ch0000001?line=19'>20</a>\u001b[0m compare(groundtruth_file, results, inputs)\n",
      "\u001b[1;32m/home/xuhao/d2slam_ws/src/D2SLAM/d2pgo/scripts/notebooks/pgo_accuacy_viz.ipynb Cell 2\u001b[0m in \u001b[0;36mcompare\u001b[0;34m(groundtruth_file, results, inputs, show)\u001b[0m\n\u001b[1;32m      <a href='vscode-notebook-cell:/home/xuhao/d2slam_ws/src/D2SLAM/d2pgo/scripts/notebooks/pgo_accuacy_viz.ipynb#ch0000001?line=6'>7</a>\u001b[0m pg_gt\u001b[39m.\u001b[39mread_g2o_single(groundtruth_file)\n\u001b[1;32m      <a href='vscode-notebook-cell:/home/xuhao/d2slam_ws/src/D2SLAM/d2pgo/scripts/notebooks/pgo_accuacy_viz.ipynb#ch0000001?line=7'>8</a>\u001b[0m pg_res \u001b[39m=\u001b[39m PoseGraph()\n\u001b[0;32m----> <a href='vscode-notebook-cell:/home/xuhao/d2slam_ws/src/D2SLAM/d2pgo/scripts/notebooks/pgo_accuacy_viz.ipynb#ch0000001?line=8'>9</a>\u001b[0m pg_res\u001b[39m.\u001b[39;49mread_g2o_folder(results)\n\u001b[1;32m     <a href='vscode-notebook-cell:/home/xuhao/d2slam_ws/src/D2SLAM/d2pgo/scripts/notebooks/pgo_accuacy_viz.ipynb#ch0000001?line=9'>10</a>\u001b[0m \u001b[39mif\u001b[39;00m inputs \u001b[39mis\u001b[39;00m \u001b[39mnot\u001b[39;00m \u001b[39mNone\u001b[39;00m:\n\u001b[1;32m     <a href='vscode-notebook-cell:/home/xuhao/d2slam_ws/src/D2SLAM/d2pgo/scripts/notebooks/pgo_accuacy_viz.ipynb#ch0000001?line=10'>11</a>\u001b[0m     pg_input \u001b[39m=\u001b[39m PoseGraph()\n",
      "File \u001b[0;32m~/d2slam_ws/src/D2SLAM/d2pgo/scripts/pose_graph_partitioning/pose_graph.py:945\u001b[0m, in \u001b[0;36mPoseGraph.read_g2o_folder\u001b[0;34m(self, folder, read_optimized, prt)\u001b[0m\n\u001b[1;32m    942\u001b[0m max_keyframes \u001b[39m=\u001b[39m \u001b[39m0\u001b[39m\n\u001b[1;32m    943\u001b[0m min_keyframes \u001b[39m=\u001b[39m \u001b[39m10000\u001b[39m\n\u001b[0;32m--> 945\u001b[0m \u001b[39mfor\u001b[39;00m file \u001b[39min\u001b[39;00m os\u001b[39m.\u001b[39;49mlistdir(folder):\n\u001b[1;32m    946\u001b[0m     \u001b[39mif\u001b[39;00m file\u001b[39m.\u001b[39mendswith(\u001b[39m\"\u001b[39m\u001b[39m.g2o\u001b[39m\u001b[39m\"\u001b[39m):\n\u001b[1;32m    947\u001b[0m         agent_id \u001b[39m=\u001b[39m \u001b[39m-\u001b[39m\u001b[39m1\u001b[39m\n",
      "\u001b[0;31mFileNotFoundError\u001b[0m: [Errno 2] No such file or directory: '/home/xuhao/data/d2slam/pgo/parking-garage/output'"
     ]
    }
   ],
   "source": [
    "groundtruth_file = '/home/xuhao/data/d2slam/pgo/parking-garage/groundtruth.g2o'\n",
    "results = '/home/xuhao/data/d2slam/pgo/parking-garage/output'\n",
    "inputs = '/home/xuhao/data/d2slam/pgo/parking-garage/raw'\n",
    "\n",
    "def compare(groundtruth_file, results, inputs=\"\", show=True):\n",
    "    pg_gt = PoseGraph()\n",
    "    pg_gt.read_g2o_single(groundtruth_file)\n",
    "    pg_res = PoseGraph()\n",
    "    pg_res.read_g2o_folder(results)\n",
    "    if inputs is not None:\n",
    "        pg_input = PoseGraph()\n",
    "        pg_input.read_g2o_folder(inputs)\n",
    "    if show:\n",
    "        ax = pg_gt.show(\"GT\")\n",
    "        # pg_res.show(\"Res\", ax=ax, clear=False)\n",
    "        pg_res.show(\"Res\")\n",
    "        if inputs is not None:\n",
    "            pg_input.show(\"Input\")\n",
    "        plt.show()\n",
    "compare(groundtruth_file, results, inputs)"
   ]
  },
  {
   "cell_type": "code",
   "execution_count": null,
   "metadata": {},
   "outputs": [],
   "source": []
  }
 ],
 "metadata": {
  "kernelspec": {
   "display_name": "Python 3.8.5 ('base')",
   "language": "python",
   "name": "python3"
  },
  "language_info": {
   "codemirror_mode": {
    "name": "ipython",
    "version": 3
   },
   "file_extension": ".py",
   "mimetype": "text/x-python",
   "name": "python",
   "nbconvert_exporter": "python",
   "pygments_lexer": "ipython3",
   "version": "3.8.5"
  },
  "orig_nbformat": 4,
  "vscode": {
   "interpreter": {
    "hash": "08ce52785f0fedc81003ce387e097a83d6cc9494681cd746006386992005bb71"
   }
  }
 },
 "nbformat": 4,
 "nbformat_minor": 2
}
