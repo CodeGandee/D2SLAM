{
 "cells": [
  {
   "cell_type": "code",
   "execution_count": 21,
   "metadata": {},
   "outputs": [
    {
     "name": "stdout",
     "output_type": "stream",
     "text": [
      "The autoreload extension is already loaded. To reload it, use:\n",
      "  %reload_ext autoreload\n"
     ]
    }
   ],
   "source": [
    "%matplotlib inline\n",
    "%load_ext autoreload\n",
    "%autoreload 2\n",
    "import sys\n",
    "sys.path.insert(0,'../')\n",
    "sys.path.insert(0,'../../../data_analysis/')\n",
    "from simulate_door_slam import *\n",
    "from trajectory import *\n",
    "from utils import *\n",
    "from local_plot import *\n",
    "\n",
    "def read_frame_timestamps(g2o_path, nodes):\n",
    "    frame_id_to_stamp = {}\n",
    "    for i in nodes:\n",
    "        with open(f\"{g2o_path}/frame_timestamp_{i}.txt\", \"r\") as f:\n",
    "            for line in f:\n",
    "                frame_id, stamp = line.split()\n",
    "                frame_id_to_stamp[int(frame_id)] = float(stamp)\n",
    "    return frame_id_to_stamp\n",
    "\n",
    "def process_output(g2o_path, nodes):\n",
    "    poses_pgo, t0 = read_paths(g2o_path, nodes, prefix=\"pgo_\")\n",
    "    paths_gt, _ = read_paths(g2o_path + \"/../\", nodes, prefix=\"groundtruth_\", t0=t0)\n",
    "    align_paths(poses_pgo, paths_gt, align_by_first=True, align_with_minize=True)\n",
    "    display(plot_fused_err(nodes, poses_pgo, paths_gt, show=False))\n",
    "    # plot_fused(nodes, poses_pgo, paths_gt)\n",
    "    dte = 550\n",
    "    display(relative_pose_err(nodes, poses_pgo, paths_gt, dte=dte))\n"
   ]
  },
  {
   "attachments": {},
   "cell_type": "markdown",
   "metadata": {},
   "source": [
    "# Note\n",
    "We need to start ROS Core Manually for this file"
   ]
  },
  {
   "cell_type": "code",
   "execution_count": 22,
   "metadata": {},
   "outputs": [],
   "source": [
    "def evaluate_pgo(g2o_path, g2o_input, max_steps=100, eta_k=1.45, rho_frame_T=0.39, \n",
    "            rho_frame_theta=1.556, simulate_delay_ms=0.0, verify_accuaracy=False, agent_num=5, dgs_max_steps=50, \n",
    "            max_solving_time=10.0, rho_rot_mat=0.09):\n",
    "    pg = PoseGraph(g2o_input, prt=False)\n",
    "    ignore_infor = False\n",
    "    print(f\"Initial cost: {pg.evaluate_cost():.1f} edges {len(pg.edges)}\")\n",
    "    if verify_accuaracy:\n",
    "        frame_id_to_stamp = read_frame_timestamps(g2o_path, range(agent_num))\n",
    "    output_path=g2o_path + \"/d2pgo-rot-inited/\"\n",
    "    pgo_optimized, max_solve_time, mean_iters = call_d2pgo_opti(g2o_folder=g2o_input, output_folder=output_path, enable_rot_init=True, \n",
    "        max_steps=max_steps, agent_num=agent_num, ignore_infor=ignore_infor, eta_k=eta_k, rho_frame_theta=rho_frame_theta, \n",
    "        rho_frame_T=rho_frame_T, rho_rot_mat=rho_rot_mat, simulate_delay_ms=simulate_delay_ms, max_solving_time=max_solving_time)\n",
    "    if verify_accuaracy:\n",
    "        pgo_optimized.write_to_csv(output_path, frame_id_to_stamp)\n",
    "        process_output(output_path, [0, 1, 2, 3, 4])\n",
    "    print(\"Avg Traj len: \", pgo_optimized.evaluate_trajectory_length())\n",
    "    print(f\"D2PGO RotInit cost: {pgo_optimized.evaluate_cost():.1f} solve_time {max_solve_time:.1f} ms iters {mean_iters}\")\n",
    "\n",
    "    output_path=g2o_path + \"/d2pgo-no-rot-init/\"\n",
    "    pgo_optimized, max_solve_time, mean_iters  = call_d2pgo_opti(g2o_folder=g2o_input, output_folder=output_path, enable_rot_init=False, \n",
    "        max_steps=max_steps, agent_num=agent_num, ignore_infor=ignore_infor, eta_k=eta_k, rho_frame_theta=rho_frame_theta, \n",
    "        rho_frame_T=rho_frame_T, rho_rot_mat=rho_rot_mat, simulate_delay_ms=simulate_delay_ms, max_solving_time=max_solving_time)\n",
    "    print(f\"D2PGO without RotInit cost: {pgo_optimized.evaluate_cost():.1f} solve_time {max_solve_time:.1f} ms iters {mean_iters}\")\n",
    "    if verify_accuaracy:\n",
    "        pgo_optimized.write_to_csv(output_path, frame_id_to_stamp)\n",
    "        process_output(output_path, [0, 1, 2, 3, 4])\n",
    "    output_path = g2o_path + \"/DGS/\"\n",
    "    iterations, min_time, max_time, initial, final, util_rate, total_optim = call_DGS_solver(g2o_input, agent_num=agent_num, \n",
    "        rthresh=1e-4, pthresh=1e-4, maxIter=dgs_max_steps, between_noise=\"true\")\n",
    "    pgo_optimized = copy.copy(pg)\n",
    "    pgo_optimized.read_g2o_single(g2o_input+\"/fullGraph_optimized.g2o\", update_only=True)\n",
    "    total_time = max_time + iterations*simulate_delay_ms #Assume communication time is 100ms\n",
    "    print(f\"DGS cost: {pgo_optimized.evaluate_cost():.1f} max_time: {max_time} iter {iterations} total_time {total_time} DGS cost initial {initial} final: {final} \")\n",
    "    if verify_accuaracy:\n",
    "        pgo_optimized.write_to_csv(output_path, frame_id_to_stamp)\n",
    "        process_output(output_path, [0, 1, 2, 3, 4])\n"
   ]
  },
  {
   "cell_type": "code",
   "execution_count": 28,
   "metadata": {},
   "outputs": [
    {
     "name": "stdout",
     "output_type": "stream",
     "text": [
      "Total agents 5 keyframes 12065 edges 16814 inter edge 3165 comm_vol 4754 keyframes 759<->3030\n",
      "Initial cost: 350408.6 edges 16814\n",
      "Avg Traj len:  255.83023351591382\n",
      "D2PGO RotInit cost: 61.6 solve_time 20044.6 ms iters 227.0\n",
      "D2PGO without RotInit cost: 66339.5 solve_time 20030.2 ms iters 387.0\n",
      "DGS cost: 59.0 max_time: 1566.2 iter 48 total_time 1566.2 DGS cost initial 236205.1 final: 72.7988 \n"
     ]
    }
   ],
   "source": [
    "g2o_path=\"/home/xuhao/data/d2slam/pgo/tum_corr_5/\"\n",
    "g2o_input = g2o_path + \"/input/\"\n",
    "max_steps = 1000\n",
    "eta_k=1.5101010101010102\n",
    "rho_frame_T=0.4526572657265727\n",
    "rho_frame_theta=2.868058805880588\n",
    "rho_rot_mat =0.0918787878787879\n",
    "simulate_delay_ms=0.0\n",
    "max_solving_time =20.0\n",
    "\n",
    "evaluate_pgo(g2o_path, g2o_input, max_steps, eta_k, rho_frame_T, rho_frame_theta, \n",
    "                simulate_delay_ms, max_solving_time=max_solving_time, rho_rot_mat=rho_rot_mat, dgs_max_steps=40)"
   ]
  },
  {
   "cell_type": "code",
   "execution_count": 11,
   "metadata": {},
   "outputs": [
    {
     "name": "stdout",
     "output_type": "stream",
     "text": [
      "Total agents 5 keyframes 1661 edges 6275 inter edge 3246 comm_vol 1673 keyframes 167<->498\n",
      "Initial cost: 1239528.0 edges 6275\n",
      "Avg Traj len:  1404.7468635104265\n",
      "D2PGO RotInit cost: 18.3 solve_time 22397.4 ms iters 500.0\n",
      "D2PGO without RotInit cost: 155583.7 solve_time 12452.9 ms iters 500.0\n",
      "DGS cost: 0.7 max_time: 1111.2 iter 100 total_time 6111.2 DGS cost initial 1227785.1 final: 0.69 \n"
     ]
    }
   ],
   "source": [
    "g2o_path=\"/home/xuhao/data/d2slam/pgo/parking-garage/\"\n",
    "g2o_input = g2o_path + \"/input/\"\n",
    "max_steps = 500\n",
    "evaluate_pgo(g2o_path, g2o_input, max_steps, eta_k, rho_frame_T, rho_frame_theta, \n",
    "                simulate_delay_ms, max_solving_time=max_solving_time, rho_rot_mat=rho_rot_mat)"
   ]
  },
  {
   "cell_type": "code",
   "execution_count": 30,
   "metadata": {},
   "outputs": [
    {
     "name": "stdout",
     "output_type": "stream",
     "text": [
      "Total agents 5 keyframes 5750 edges 12486 inter edge 1532 comm_vol 2427 keyframes 576<->1725\n",
      "Initial cost: 32260989610.7 edges 12486\n",
      "Avg Traj len:  289.83567125921047\n",
      "D2PGO RotInit cost: 194050320.6 solve_time 10463.8 ms\n",
      "D2PGO without RotInit cost: 371158668.4 solve_time 10533.0 ms\n",
      "DGS cost: 5514448.0 max_time: 2636.4 iter 100 total_time 7636.4 DGS cost initial 18010192.4 final: 1365.8682 \n"
     ]
    }
   ],
   "source": [
    "g2o_path=\"/home/xuhao/data/d2slam/pgo/cubicle/\"\n",
    "g2o_input = g2o_path + \"/input/\"\n",
    "evaluate_pgo(g2o_path, g2o_input, max_steps, eta_k, rho_frame_T, rho_frame_theta, \n",
    "                simulate_delay_ms, max_solving_time=max_solving_time, rho_rot_mat=rho_rot_mat)"
   ]
  },
  {
   "cell_type": "code",
   "execution_count": 17,
   "metadata": {},
   "outputs": [
    {
     "name": "stdout",
     "output_type": "stream",
     "text": [
      "Total agents 5 keyframes 16430 edges 51358 inter edge 19738 comm_vol 27094 keyframes 3010<->3375\n",
      "Initial cost: 520424.1 edges 51358\n",
      "Avg Traj len:  242.8251669963974\n",
      "D2PGO RotInit cost: 1365.7 solve_time 20382.5 ms iters 37.0\n",
      "D2PGO without RotInit cost: 40521.1 solve_time 20480.3 ms iters 32.0\n",
      "DGS cost: 959.0 max_time: 4262.8 iter 52 total_time 6862.8 DGS cost initial 589298.9 final: 1815.0651 \n"
     ]
    }
   ],
   "source": [
    "g2o_path=\"/home/xuhao/data/d2slam/pgo/OmniLong5Yaw/\"\n",
    "g2o_input = g2o_path + \"/input/\"\n",
    "max_solving_time = 20\n",
    "evaluate_pgo(g2o_path, g2o_input, max_steps, eta_k, rho_frame_T, rho_frame_theta, \n",
    "                simulate_delay_ms, max_solving_time=max_solving_time, rho_rot_mat=rho_rot_mat)"
   ]
  },
  {
   "cell_type": "code",
   "execution_count": 58,
   "metadata": {},
   "outputs": [
    {
     "name": "stdout",
     "output_type": "stream",
     "text": [
      "roslaunch d2pgo d2pgo_test_single.launch g2o_path:=/home/xuhao/data/d2slam/pgo/tum_corr_5//input//../fullGraph.g2o             output_path:=/home/xuhao/data/d2slam/pgo/tum_corr_5//d2pgo-single/ enable_rot_init:=True ignore_infor:=False             enable_linear_pose6d_solver:=False solver_type:='ceres'\n",
      "D2PGO RotInit cost: 8539.5 solve_time 13206.2 ms iters 1.0\n"
     ]
    }
   ],
   "source": [
    "pg = PoseGraph(g2o_input)\n",
    "pg.write_to_g2o(g2o_input+\"/../fullGraph.g2o\")\n",
    "output_path = g2o_path + \"/d2pgo-single/\"\n",
    "pgo_optimized, max_solve_time, mean_iters = call_d2pgo_opti(g2o_folder=g2o_input+\"/../fullGraph.g2o\", output_folder=output_path, enable_rot_init=True, \n",
    "        max_steps=max_steps, max_solving_time=max_solving_time, is_single_mode=True)\n",
    "print(f\"D2PGO RotInit cost: {pgo_optimized.evaluate_cost():.1f} solve_time {max_solve_time:.1f} ms iters {mean_iters}\")\n",
    "# pg.show(\"raw\", show_edges=False)\n",
    "# pgo_optimized.show(\"opti\")"
   ]
  },
  {
   "cell_type": "code",
   "execution_count": null,
   "metadata": {},
   "outputs": [],
   "source": []
  }
 ],
 "metadata": {
  "kernelspec": {
   "display_name": "base",
   "language": "python",
   "name": "python3"
  },
  "language_info": {
   "codemirror_mode": {
    "name": "ipython",
    "version": 3
   },
   "file_extension": ".py",
   "mimetype": "text/x-python",
   "name": "python",
   "nbconvert_exporter": "python",
   "pygments_lexer": "ipython3",
   "version": "3.8.5"
  },
  "orig_nbformat": 4,
  "vscode": {
   "interpreter": {
    "hash": "08ce52785f0fedc81003ce387e097a83d6cc9494681cd746006386992005bb71"
   }
  }
 },
 "nbformat": 4,
 "nbformat_minor": 2
}
