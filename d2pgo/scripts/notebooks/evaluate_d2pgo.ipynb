{
 "cells": [
  {
   "cell_type": "code",
   "execution_count": 18,
   "metadata": {},
   "outputs": [
    {
     "name": "stdout",
     "output_type": "stream",
     "text": [
      "The autoreload extension is already loaded. To reload it, use:\n",
      "  %reload_ext autoreload\n"
     ]
    }
   ],
   "source": [
    "%matplotlib inline\n",
    "%load_ext autoreload\n",
    "%autoreload 2\n",
    "import sys\n",
    "sys.path.insert(0,'../')\n",
    "sys.path.insert(0,'../../../data_analysis/')\n",
    "from simulate_door_slam import *\n",
    "from trajectory import *\n",
    "from utils import *\n",
    "from local_plot import *\n",
    "\n",
    "def read_frame_timestamps(g2o_path, nodes):\n",
    "    frame_id_to_stamp = {}\n",
    "    for i in nodes:\n",
    "        with open(f\"{g2o_path}/frame_timestamp_{i}.txt\", \"r\") as f:\n",
    "            for line in f:\n",
    "                frame_id, stamp = line.split()\n",
    "                frame_id_to_stamp[int(frame_id)] = float(stamp)\n",
    "    return frame_id_to_stamp\n",
    "\n",
    "def process_output(g2o_path, nodes):\n",
    "    poses_pgo, t0 = read_paths(g2o_path, nodes, prefix=\"pgo_\")\n",
    "    paths_gt, _ = read_paths(g2o_path + \"/../\", nodes, prefix=\"groundtruth_\", t0=t0)\n",
    "    align_paths(poses_pgo, paths_gt, align_by_first=True, align_with_minize=True)\n",
    "    display(plot_fused_err(nodes, poses_pgo, paths_gt, show=False))\n",
    "    # plot_fused(nodes, poses_pgo, paths_gt)\n",
    "    # display(relative_pose_err(nodes, poses_pgo, paths_gt, dte=dte))\n"
   ]
  },
  {
   "attachments": {},
   "cell_type": "markdown",
   "metadata": {},
   "source": [
    "# Note\n",
    "We need to start ROS Core Manually for this file"
   ]
  },
  {
   "cell_type": "code",
   "execution_count": 47,
   "metadata": {},
   "outputs": [
    {
     "name": "stdout",
     "output_type": "stream",
     "text": [
      "Total agents 5 keyframes 12065 edges 16814 inter edge 3165 comm_vol 4754 keyframes 759<->3030\n",
      "Initial cost: 350408.55991278985 edges 16814\n",
      "Total agents 5 keyframes 12065 edges 16814 inter edge 3165 comm_vol 4754 keyframes 759<->3030\n",
      "D2PGO RotInit cost: 61.514716967546775 solve_time 12741.3ms\n"
     ]
    },
    {
     "data": {
      "text/html": [
       "<table>\n",
       "<tbody>\n",
       "<tr><td>Drone</td><td>Traj. Len.</td><td>ATE Pos</td><td>ATE Att</td><td>Cov/m: x</td><td>y      </td><td>z      </td><td>Cov Att/m</td></tr>\n",
       "<tr><td>0    </td><td>295.2m    </td><td>0.656  </td><td>3.767  </td><td>2.2e-02 </td><td>6.9e-02</td><td>1.2e-02</td><td>3.88e-02 </td></tr>\n",
       "<tr><td>1    </td><td>308.5m    </td><td>0.592  </td><td>3.571  </td><td>1.1e-04 </td><td>1.3e-04</td><td>6.9e-04</td><td>4.48e-03 </td></tr>\n",
       "<tr><td>2    </td><td>297.8m    </td><td>0.605  </td><td>3.517  </td><td>1.4e-04 </td><td>8.8e-05</td><td>5.1e-04</td><td>5.12e-03 </td></tr>\n",
       "<tr><td>3    </td><td>110.2m    </td><td>0.515  </td><td>3.079  </td><td>3.0e-04 </td><td>4.4e-04</td><td>1.4e-03</td><td>3.04e-03 </td></tr>\n",
       "<tr><td>4    </td><td>265.2m    </td><td>0.880  </td><td>4.657  </td><td>2.6e-04 </td><td>5.5e-05</td><td>4.0e-04</td><td>6.95e-03 </td></tr>\n",
       "<tr><td>Avg. </td><td>255.4     </td><td>0.650  </td><td>3.72   </td><td>        </td><td>       </td><td>       </td><td>         </td></tr>\n",
       "</tbody>\n",
       "</table>"
      ],
      "text/plain": [
       "'<table>\\n<tbody>\\n<tr><td>Drone</td><td>Traj. Len.</td><td>ATE Pos</td><td>ATE Att</td><td>Cov/m: x</td><td>y      </td><td>z      </td><td>Cov Att/m</td></tr>\\n<tr><td>0    </td><td>295.2m    </td><td>0.656  </td><td>3.767  </td><td>2.2e-02 </td><td>6.9e-02</td><td>1.2e-02</td><td>3.88e-02 </td></tr>\\n<tr><td>1    </td><td>308.5m    </td><td>0.592  </td><td>3.571  </td><td>1.1e-04 </td><td>1.3e-04</td><td>6.9e-04</td><td>4.48e-03 </td></tr>\\n<tr><td>2    </td><td>297.8m    </td><td>0.605  </td><td>3.517  </td><td>1.4e-04 </td><td>8.8e-05</td><td>5.1e-04</td><td>5.12e-03 </td></tr>\\n<tr><td>3    </td><td>110.2m    </td><td>0.515  </td><td>3.079  </td><td>3.0e-04 </td><td>4.4e-04</td><td>1.4e-03</td><td>3.04e-03 </td></tr>\\n<tr><td>4    </td><td>265.2m    </td><td>0.880  </td><td>4.657  </td><td>2.6e-04 </td><td>5.5e-05</td><td>4.0e-04</td><td>6.95e-03 </td></tr>\\n<tr><td>Avg. </td><td>255.4     </td><td>0.650  </td><td>3.72   </td><td>        </td><td>       </td><td>       </td><td>         </td></tr>\\n</tbody>\\n</table>'"
      ]
     },
     "metadata": {},
     "output_type": "display_data"
    },
    {
     "name": "stdout",
     "output_type": "stream",
     "text": [
      "Total agents 5 keyframes 12065 edges 16814 inter edge 3165 comm_vol 4754 keyframes 759<->3030\n",
      "D2PGO without RotInit cost: 60409.287983741866 solve_time 9202.5ms\n"
     ]
    },
    {
     "data": {
      "text/html": [
       "<table>\n",
       "<tbody>\n",
       "<tr><td>Drone</td><td>Traj. Len.</td><td>ATE Pos</td><td>ATE Att</td><td>Cov/m: x</td><td>y      </td><td>z      </td><td>Cov Att/m</td></tr>\n",
       "<tr><td>0    </td><td>299.3m    </td><td>1.407  </td><td>4.920  </td><td>3.0e-03 </td><td>1.9e-02</td><td>4.5e-04</td><td>4.73e-03 </td></tr>\n",
       "<tr><td>1    </td><td>308.7m    </td><td>1.295  </td><td>5.472  </td><td>1.3e-04 </td><td>7.0e-04</td><td>5.3e-04</td><td>3.34e-03 </td></tr>\n",
       "<tr><td>2    </td><td>314.7m    </td><td>1.302  </td><td>8.640  </td><td>6.5e-04 </td><td>1.9e-03</td><td>3.4e-04</td><td>6.86e-03 </td></tr>\n",
       "<tr><td>3    </td><td>114.2m    </td><td>1.106  </td><td>2.467  </td><td>1.1e-03 </td><td>1.1e-02</td><td>8.0e-04</td><td>6.82e-03 </td></tr>\n",
       "<tr><td>4    </td><td>264.8m    </td><td>1.740  </td><td>4.626  </td><td>5.5e-04 </td><td>7.3e-04</td><td>3.3e-04</td><td>2.57e-03 </td></tr>\n",
       "<tr><td>Avg. </td><td>260.3     </td><td>1.370  </td><td>5.22   </td><td>        </td><td>       </td><td>       </td><td>         </td></tr>\n",
       "</tbody>\n",
       "</table>"
      ],
      "text/plain": [
       "'<table>\\n<tbody>\\n<tr><td>Drone</td><td>Traj. Len.</td><td>ATE Pos</td><td>ATE Att</td><td>Cov/m: x</td><td>y      </td><td>z      </td><td>Cov Att/m</td></tr>\\n<tr><td>0    </td><td>299.3m    </td><td>1.407  </td><td>4.920  </td><td>3.0e-03 </td><td>1.9e-02</td><td>4.5e-04</td><td>4.73e-03 </td></tr>\\n<tr><td>1    </td><td>308.7m    </td><td>1.295  </td><td>5.472  </td><td>1.3e-04 </td><td>7.0e-04</td><td>5.3e-04</td><td>3.34e-03 </td></tr>\\n<tr><td>2    </td><td>314.7m    </td><td>1.302  </td><td>8.640  </td><td>6.5e-04 </td><td>1.9e-03</td><td>3.4e-04</td><td>6.86e-03 </td></tr>\\n<tr><td>3    </td><td>114.2m    </td><td>1.106  </td><td>2.467  </td><td>1.1e-03 </td><td>1.1e-02</td><td>8.0e-04</td><td>6.82e-03 </td></tr>\\n<tr><td>4    </td><td>264.8m    </td><td>1.740  </td><td>4.626  </td><td>5.5e-04 </td><td>7.3e-04</td><td>3.3e-04</td><td>2.57e-03 </td></tr>\\n<tr><td>Avg. </td><td>260.3     </td><td>1.370  </td><td>5.22   </td><td>        </td><td>       </td><td>       </td><td>         </td></tr>\\n</tbody>\\n</table>'"
      ]
     },
     "metadata": {},
     "output_type": "display_data"
    },
    {
     "name": "stdout",
     "output_type": "stream",
     "text": [
      "cost: 58.98641475974949 max_time: 1809.3 iter 58 total_time 7609.3 DGS cost initial 236205.1 final: 72.798 \n"
     ]
    },
    {
     "data": {
      "text/html": [
       "<table>\n",
       "<tbody>\n",
       "<tr><td>Drone</td><td>Traj. Len.</td><td>ATE Pos</td><td>ATE Att</td><td>Cov/m: x</td><td>y      </td><td>z      </td><td>Cov Att/m</td></tr>\n",
       "<tr><td>0    </td><td>295.6m    </td><td>0.039  </td><td>1.782  </td><td>2.8e-04 </td><td>1.7e-04</td><td>5.0e-04</td><td>3.13e-03 </td></tr>\n",
       "<tr><td>1    </td><td>308.7m    </td><td>0.043  </td><td>0.825  </td><td>1.1e-04 </td><td>1.2e-04</td><td>3.9e-04</td><td>5.47e-03 </td></tr>\n",
       "<tr><td>2    </td><td>298.1m    </td><td>0.043  </td><td>1.200  </td><td>7.8e-05 </td><td>1.0e-04</td><td>5.7e-04</td><td>3.71e-03 </td></tr>\n",
       "<tr><td>3    </td><td>110.4m    </td><td>0.042  </td><td>0.811  </td><td>1.1e-04 </td><td>3.0e-04</td><td>1.0e-03</td><td>1.22e-03 </td></tr>\n",
       "<tr><td>4    </td><td>265.3m    </td><td>0.043  </td><td>0.781  </td><td>2.6e-04 </td><td>8.5e-05</td><td>3.4e-04</td><td>6.37e-03 </td></tr>\n",
       "<tr><td>Avg. </td><td>255.6     </td><td>0.042  </td><td>1.08   </td><td>        </td><td>       </td><td>       </td><td>         </td></tr>\n",
       "</tbody>\n",
       "</table>"
      ],
      "text/plain": [
       "'<table>\\n<tbody>\\n<tr><td>Drone</td><td>Traj. Len.</td><td>ATE Pos</td><td>ATE Att</td><td>Cov/m: x</td><td>y      </td><td>z      </td><td>Cov Att/m</td></tr>\\n<tr><td>0    </td><td>295.6m    </td><td>0.039  </td><td>1.782  </td><td>2.8e-04 </td><td>1.7e-04</td><td>5.0e-04</td><td>3.13e-03 </td></tr>\\n<tr><td>1    </td><td>308.7m    </td><td>0.043  </td><td>0.825  </td><td>1.1e-04 </td><td>1.2e-04</td><td>3.9e-04</td><td>5.47e-03 </td></tr>\\n<tr><td>2    </td><td>298.1m    </td><td>0.043  </td><td>1.200  </td><td>7.8e-05 </td><td>1.0e-04</td><td>5.7e-04</td><td>3.71e-03 </td></tr>\\n<tr><td>3    </td><td>110.4m    </td><td>0.042  </td><td>0.811  </td><td>1.1e-04 </td><td>3.0e-04</td><td>1.0e-03</td><td>1.22e-03 </td></tr>\\n<tr><td>4    </td><td>265.3m    </td><td>0.043  </td><td>0.781  </td><td>2.6e-04 </td><td>8.5e-05</td><td>3.4e-04</td><td>6.37e-03 </td></tr>\\n<tr><td>Avg. </td><td>255.6     </td><td>0.042  </td><td>1.08   </td><td>        </td><td>       </td><td>       </td><td>         </td></tr>\\n</tbody>\\n</table>'"
      ]
     },
     "metadata": {},
     "output_type": "display_data"
    }
   ],
   "source": [
    "g2o_path=\"/home/xuhao/data/d2slam/pgo/tum_corr_5/\"\n",
    "g2o_input = g2o_path + \"/input/\"\n",
    "max_steps = 100\n",
    "eta_k=1.4545454545454546\n",
    "rho_frame_T=0.39\n",
    "rho_frame_theta=1.5555885588558855\n",
    "simulate_delay_ms=0.0\n",
    "enable_linear_pose6d_solver = False\n",
    "pg = PoseGraph(g2o_path + \"/raw/\")\n",
    "print(f\"Initial cost: {pg.evaluate_cost()} edges {len(pg.edges)}\")\n",
    "pg.write_to_g2o_folder(g2o_input, cvt_id=True)\n",
    "agent_num = 5\n",
    "frame_id_to_stamp = read_frame_timestamps(g2o_path, range(agent_num))\n",
    "output_path=g2o_path + \"/d2pgo-rot-inited/\"\n",
    "pgo_optimized, max_solve_time, min_solve_time = call_d2pgo_opti(g2o_folder=g2o_input, output_folder=output_path, enable_rot_init=True, \n",
    "    max_steps=max_steps, agent_num=agent_num, ignore_infor=False, eta_k=eta_k, rho_frame_theta=rho_frame_theta, \n",
    "    rho_frame_T=rho_frame_T, simulate_delay_ms=simulate_delay_ms, enable_linear_pose6d_solver=enable_linear_pose6d_solver)\n",
    "pgo_optimized.write_to_csv(output_path, frame_id_to_stamp)\n",
    "print(f\"D2PGO RotInit cost: {pgo_optimized.evaluate_cost()} solve_time {max_solve_time:.1f}ms\")\n",
    "process_output(output_path, [0, 1, 2, 3, 4])\n",
    "\n",
    "output_path=g2o_path + \"/d2pgo-no-rot-init/\"\n",
    "pgo_optimized, max_solve_time, min_solve_time = call_d2pgo_opti(g2o_folder=g2o_input, output_folder=output_path, enable_rot_init=False, \n",
    "    max_steps=max_steps, agent_num=agent_num, ignore_infor=False, eta_k=eta_k, rho_frame_theta=rho_frame_theta, \n",
    "    rho_frame_T=rho_frame_T, simulate_delay_ms=simulate_delay_ms)\n",
    "pgo_optimized.write_to_csv(output_path, frame_id_to_stamp)\n",
    "print(f\"D2PGO without RotInit cost: {pgo_optimized.evaluate_cost()} solve_time {max_solve_time:.1f}ms\")\n",
    "process_output(output_path, [0, 1, 2, 3, 4])\n",
    "\n",
    "output_path = g2o_path + \"/DGS/\"\n",
    "iterations, min_time, max_time, initial, final, util_rate, total_optim = call_DGS_solver(g2o_input, agent_num=agent_num, \n",
    "    rthresh=1e-4, pthresh=1e-4, maxIter=50, between_noise=\"true\")\n",
    "pgo_optimized = copy.copy(pg)\n",
    "pg.read_g2o_single(g2o_input+\"/fullGraph_optimized.g2o\", update_only=True)\n",
    "pg.write_to_csv(output_path, frame_id_to_stamp)\n",
    "total_time = max_time + iterations*100 #Assume communication time is 100ms\n",
    "print(f\"cost: {pgo_optimized.evaluate_cost()} max_time: {max_time} iter {iterations} total_time {total_time} DGS cost initial {initial} final: {final} \")\n",
    "process_output(output_path, [0, 1, 2, 3, 4])\n"
   ]
  },
  {
   "cell_type": "code",
   "execution_count": null,
   "metadata": {},
   "outputs": [],
   "source": []
  }
 ],
 "metadata": {
  "kernelspec": {
   "display_name": "base",
   "language": "python",
   "name": "python3"
  },
  "language_info": {
   "codemirror_mode": {
    "name": "ipython",
    "version": 3
   },
   "file_extension": ".py",
   "mimetype": "text/x-python",
   "name": "python",
   "nbconvert_exporter": "python",
   "pygments_lexer": "ipython3",
   "version": "3.8.5"
  },
  "orig_nbformat": 4,
  "vscode": {
   "interpreter": {
    "hash": "08ce52785f0fedc81003ce387e097a83d6cc9494681cd746006386992005bb71"
   }
  }
 },
 "nbformat": 4,
 "nbformat_minor": 2
}
