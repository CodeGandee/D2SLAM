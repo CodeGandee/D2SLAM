{
 "cells": [
  {
   "cell_type": "code",
   "execution_count": 24,
   "metadata": {},
   "outputs": [
    {
     "name": "stderr",
     "output_type": "stream",
     "text": [
      "WARNING: using LinearAlgebra.I in module Main conflicts with an existing identifier.\n"
     ]
    }
   ],
   "source": [
    "using DelimitedFiles\n",
    "using SparseArrays\n",
    "using LinearAlgebra\n"
   ]
  },
  {
   "cell_type": "code",
   "execution_count": 50,
   "metadata": {},
   "outputs": [],
   "source": [
    "triplet_list = readdlm(\"/tmp/A.txt\", ' ', Float64, '\\n');\n",
    "I = convert(Array{Int64,1}, triplet_list[:,1]) .+ 1;\n",
    "J = convert(Array{Int64,1}, triplet_list[:,2]) .+ 1;\n",
    "A = sparse(I, J, triplet_list[:,3]);\n",
    "b = readdlm(\"/tmp/b.txt\", ',', Float64, '\\n');"
   ]
  },
  {
   "cell_type": "code",
   "execution_count": 66,
   "metadata": {},
   "outputs": [
    {
     "ename": "LoadError",
     "evalue": "ZeroPivotException: factorization encountered one or more zero pivots. Consider switching to a pivoted LU factorization.",
     "output_type": "error",
     "traceback": [
      "ZeroPivotException: factorization encountered one or more zero pivots. Consider switching to a pivoted LU factorization.",
      "",
      "Stacktrace:",
      " [1] #ldlt!#10",
      "   @ ~/source/julia-1.7.2/share/julia/stdlib/v1.7/SuiteSparse/src/cholmod.jl:1308 [inlined]",
      " [2] ldlt(A::SuiteSparse.CHOLMOD.Sparse{Float64}; shift::Float64, check::Bool, perm::Nothing)",
      "   @ SuiteSparse.CHOLMOD ~/source/julia-1.7.2/share/julia/stdlib/v1.7/SuiteSparse/src/cholmod.jl:1347",
      " [3] ldlt",
      "   @ ~/source/julia-1.7.2/share/julia/stdlib/v1.7/SuiteSparse/src/cholmod.jl:1340 [inlined]",
      " [4] #ldlt#13",
      "   @ ~/source/julia-1.7.2/share/julia/stdlib/v1.7/SuiteSparse/src/cholmod.jl:1396 [inlined]",
      " [5] ldlt(A::SparseMatrixCSC{Float64, Int64})",
      "   @ SuiteSparse.CHOLMOD ~/source/julia-1.7.2/share/julia/stdlib/v1.7/SuiteSparse/src/cholmod.jl:1396",
      " [6] top-level scope",
      "   @ In[66]:2",
      " [7] eval",
      "   @ ./boot.jl:373 [inlined]",
      " [8] include_string(mapexpr::typeof(REPL.softscope), mod::Module, code::String, filename::String)",
      "   @ Base ./loading.jl:1196"
     ]
    }
   ],
   "source": [
    "H = A'A\n",
    "ldlt(H)"
   ]
  },
  {
   "cell_type": "code",
   "execution_count": null,
   "metadata": {},
   "outputs": [],
   "source": []
  }
 ],
 "metadata": {
  "kernelspec": {
   "display_name": "Julia 1.7.2",
   "language": "julia",
   "name": "julia-1.7"
  },
  "language_info": {
   "file_extension": ".jl",
   "mimetype": "application/julia",
   "name": "julia",
   "version": "1.7.2"
  },
  "orig_nbformat": 4
 },
 "nbformat": 4,
 "nbformat_minor": 2
}
